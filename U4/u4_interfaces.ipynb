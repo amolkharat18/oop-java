{
 "cells": [
  {
   "cell_type": "markdown",
   "id": "6c7bd417-9a79-4481-8c77-bd369ea5c531",
   "metadata": {},
   "source": [
    "# Interfaces\n",
    "\n",
    "using interface, you can specify what a class must do, but not how it does it\n",
    "\n",
    "\n",
    "1. Variables are implicitly **final** and **static**.\n",
    "2. All methods and variables are implicitly **public**."
   ]
  },
  {
   "cell_type": "markdown",
   "id": "e90a0bea-fb33-4ece-b27e-d010eee13a78",
   "metadata": {},
   "source": [
    "## Defining an Interface"
   ]
  },
  {
   "cell_type": "raw",
   "id": "631e58d9-a074-464c-b56c-7a1096e37560",
   "metadata": {},
   "source": [
    "access interface name {\n",
    "    return-type method_name1(parameter-list);\n",
    "    return-type method_name2(parameter-list);\n",
    "    type final varname1 = value;\n",
    "    type final varname2 = value;\n",
    "    //...\n",
    "    return-type method_nameN(parameter-list);\n",
    "    type final varnameN = value;\n",
    "}"
   ]
  },
  {
   "cell_type": "markdown",
   "id": "a2913419-b0e1-4bc5-a9a9-5b6522c3b51a",
   "metadata": {},
   "source": [
    "Beginning with \n",
    "JDK 8, it is possible to add a default implementation to an interface method."
   ]
  },
  {
   "cell_type": "markdown",
   "id": "14313521-95d6-4221-9b9b-09419c84bb30",
   "metadata": {},
   "source": [
    "Beginning with JDK 9, an interface can \n",
    "include private methods"
   ]
  },
  {
   "cell_type": "code",
   "execution_count": 1,
   "id": "4997a769-4886-45be-8e02-a80e84fc5855",
   "metadata": {},
   "outputs": [],
   "source": [
    "interface Callback {\n",
    "    void callback(int param);\n",
    "}"
   ]
  },
  {
   "cell_type": "markdown",
   "id": "bbbe1251-65f7-4452-9e25-5d563c41516c",
   "metadata": {},
   "source": [
    "## Implementing Interfaces"
   ]
  },
  {
   "cell_type": "raw",
   "id": "433c6da8-ffca-462c-9df4-3a33f940b20b",
   "metadata": {},
   "source": [
    "class classname [extends superclass] [implements interface [,interface...]] {\n",
    "// class-body\n",
    "}"
   ]
  },
  {
   "cell_type": "markdown",
   "id": "89bbabc8-55b3-4e94-b585-6c5021cef4b5",
   "metadata": {},
   "source": [
    "The methods that implement an interface must be \n",
    "declared public."
   ]
  },
  {
   "cell_type": "code",
   "execution_count": 2,
   "id": "a5caaf9f-2a61-4367-8b16-db1295d9d2b8",
   "metadata": {},
   "outputs": [],
   "source": [
    "class Client implements Callback {\n",
    "    // Implement Callback's interface\n",
    "    public void callback(int p) {\n",
    "        System.out.println(\"callback called with \" + p);\n",
    "    }\n",
    "}"
   ]
  },
  {
   "cell_type": "markdown",
   "id": "4a3722b2-0bdd-4276-96bd-956da0e626f8",
   "metadata": {},
   "source": [
    "It is both permissible and common for classes that implement interfaces to define \n",
    "additional members of their own."
   ]
  },
  {
   "cell_type": "code",
   "execution_count": 3,
   "id": "f227a699-8523-4c4d-9192-80e04531dc22",
   "metadata": {},
   "outputs": [],
   "source": [
    "class Client implements Callback {\n",
    "    // Implement Callback's interface\n",
    "    public void callback(int p) {\n",
    "        System.out.println(\"callback called with \" + p);\n",
    "    }\n",
    "    void nonIfaceMeth() {\n",
    "        System.out.println(\"Classes that implement interfaces \" + \"may also define other members, too.\");\n",
    "    }\n",
    "}"
   ]
  },
  {
   "cell_type": "markdown",
   "id": "67c1d715-1902-4e3a-b968-9bc13a027b51",
   "metadata": {},
   "source": [
    "## Accessing Implementations Through Interface References"
   ]
  },
  {
   "cell_type": "code",
   "execution_count": 4,
   "id": "b4913055-db4c-4eae-9235-50f22fb4caf3",
   "metadata": {},
   "outputs": [
    {
     "name": "stdout",
     "output_type": "stream",
     "text": [
      "callback called with 42\n"
     ]
    }
   ],
   "source": [
    "Callback c = new Client();\n",
    "c.callback(42);"
   ]
  },
  {
   "cell_type": "code",
   "execution_count": 5,
   "id": "759f2c54-0e42-422d-a464-7a0fd219e83b",
   "metadata": {},
   "outputs": [
    {
     "ename": "CompilationException",
     "evalue": "",
     "output_type": "error",
     "traceback": [
      "\u001b[1m\u001b[30m|   \u001b[1m\u001b[30m\u001b[0m\u001b[1m\u001b[30m\u001b[41mc.nonIfaceMeth\u001b[0m\u001b[1m\u001b[30m()\u001b[0m",
      "\u001b[1m\u001b[31mcannot find symbol\u001b[0m",
      "\u001b[1m\u001b[31m  symbol:   method nonIfaceMeth()\u001b[0m",
      ""
     ]
    }
   ],
   "source": [
    "c.nonIfaceMeth()"
   ]
  },
  {
   "cell_type": "code",
   "execution_count": 6,
   "id": "a91efd9b-5fc1-420f-8695-32f50c2e63b7",
   "metadata": {},
   "outputs": [],
   "source": [
    "// Another implementation of Callback.\n",
    "class AnotherClient implements Callback {\n",
    "    // Implement Callback's interface\n",
    "    public void callback(int p) {\n",
    "        System.out.println(\"Another version of callback\");\n",
    "        System.out.println(\"p squared is \" + (p*p));\n",
    "    }\n",
    "}"
   ]
  },
  {
   "cell_type": "code",
   "execution_count": 7,
   "id": "1c83d787-e677-40d9-996b-75967b45fc16",
   "metadata": {},
   "outputs": [
    {
     "name": "stdout",
     "output_type": "stream",
     "text": [
      "callback called with 42\n",
      "Another version of callback\n",
      "p squared is 1764\n"
     ]
    }
   ],
   "source": [
    "Callback c = new Client();\n",
    "AnotherClient ob = new AnotherClient();\n",
    "c.callback(42);\n",
    "c = ob; // c now refers to AnotherClient object\n",
    "c.callback(42);"
   ]
  },
  {
   "cell_type": "markdown",
   "id": "447cc96d-54bf-4f0f-ad29-fd293d68db8b",
   "metadata": {},
   "source": [
    "## Partial Implementations"
   ]
  },
  {
   "cell_type": "code",
   "execution_count": 9,
   "id": "f4de4870-6bec-4d7b-b67e-12a940acbe65",
   "metadata": {},
   "outputs": [
    {
     "ename": "CompilationException",
     "evalue": "",
     "output_type": "error",
     "traceback": [
      "\u001b[1m\u001b[30m|   \u001b[1m\u001b[30m\u001b[0m\u001b[1m\u001b[30m\u001b[41mclass Incomplete implements Callback {\u001b[0m",
      "\u001b[1m\u001b[30m|   \u001b[1m\u001b[30m\u001b[41m    int a, b;\u001b[0m",
      "\u001b[1m\u001b[30m|   \u001b[1m\u001b[30m\u001b[41m    void show() {\u001b[0m",
      "\u001b[1m\u001b[30m|   \u001b[1m\u001b[30m\u001b[41m        System.out.println(a + \" \" + b);\u001b[0m",
      "\u001b[1m\u001b[30m|   \u001b[1m\u001b[30m\u001b[41m    }\u001b[0m",
      "\u001b[1m\u001b[30m|   \u001b[1m\u001b[30m\u001b[41m    //...\u001b[0m",
      "\u001b[1m\u001b[30m|   \u001b[1m\u001b[30m\u001b[41m}\u001b[0m",
      "\u001b[1m\u001b[31mIncomplete is not abstract and does not override abstract method callback(int) in Callback\u001b[0m",
      ""
     ]
    }
   ],
   "source": [
    "class Incomplete implements Callback {\n",
    "    int a, b;\n",
    "    void show() {\n",
    "        System.out.println(a + \" \" + b);\n",
    "    }\n",
    "    //...\n",
    "}"
   ]
  },
  {
   "cell_type": "code",
   "execution_count": 10,
   "id": "f82b02ec-631c-4524-8a94-2057143f3408",
   "metadata": {},
   "outputs": [],
   "source": [
    "abstract class Incomplete implements Callback {\n",
    "    int a, b;\n",
    "    void show() {\n",
    "        System.out.println(a + \" \" + b);\n",
    "    }\n",
    "    //...\n",
    "}"
   ]
  },
  {
   "cell_type": "markdown",
   "id": "7ae30bec-5656-4ccd-83d8-577e3bd66e6a",
   "metadata": {},
   "source": [
    "## Nested Interfaces\n",
    "\n",
    "An interface can be declared a member of a class or another interface. Such an interface \n",
    "is called a member interface or a nested interface."
   ]
  },
  {
   "cell_type": "markdown",
   "id": "6ee2dd9b-a866-496b-a46a-640599f13518",
   "metadata": {},
   "source": [
    "A nested interface can be declared as **\n",
    "publi**c,** privat**e, or** protecte**d. This differs from a top-level interface, which must either b \r\n",
    "declared as public or use the default access level,"
   ]
  },
  {
   "cell_type": "code",
   "execution_count": 11,
   "id": "5f10ed8a-27cc-44e3-9bab-fc976613fe3b",
   "metadata": {},
   "outputs": [],
   "source": [
    "// A nested interface example.\n",
    "// This class contains a member interface.\n",
    "class A {\n",
    "    // this is a nested interface\n",
    "    public interface NestedIF {\n",
    "        boolean isNotNegative(int x);\n",
    "    }\n",
    "}"
   ]
  },
  {
   "cell_type": "code",
   "execution_count": 12,
   "id": "d2e080c4-a6da-4689-b5d5-33092be1d577",
   "metadata": {},
   "outputs": [],
   "source": [
    "// B implements the nested interface.\n",
    "class B implements A.NestedIF {\n",
    "    public boolean isNotNegative(int x) {\n",
    "        return x < 0 ? false: true;\n",
    "    }\n",
    "}"
   ]
  },
  {
   "cell_type": "code",
   "execution_count": 13,
   "id": "83491395-dd02-4123-be5d-709bd6087b41",
   "metadata": {},
   "outputs": [
    {
     "name": "stdout",
     "output_type": "stream",
     "text": [
      "10 is not negative\n"
     ]
    }
   ],
   "source": [
    "// use a nested interface reference\n",
    "A.NestedIF nif = new B();\n",
    "\n",
    "if(nif.isNotNegative(10))\n",
    "    System.out.println(\"10 is not negative\");\n",
    "\n",
    "if(nif.isNotNegative(-12))\n",
    "    System.out.println(\"this won't be displayed\");"
   ]
  },
  {
   "cell_type": "markdown",
   "id": "92894d42-98d7-476c-957a-c0bc3b790ca5",
   "metadata": {},
   "source": [
    "## Variables in Interfaces"
   ]
  },
  {
   "cell_type": "code",
   "execution_count": 15,
   "id": "37c6da3b-165f-479f-97d8-83d732c2b5be",
   "metadata": {},
   "outputs": [],
   "source": [
    "interface SharedConstants {\n",
    "    int NO = 0;\n",
    "    int YES = 1;\n",
    "    int MAYBE = 2;\n",
    "    int LATER = 3;\n",
    "    int SOON = 4;\n",
    "    int NEVER = 5;\n",
    "}"
   ]
  },
  {
   "cell_type": "markdown",
   "id": "0b120a32-e75c-4163-86b6-aa82ede96749",
   "metadata": {},
   "source": [
    "## Interfaces Can Be Extended"
   ]
  },
  {
   "cell_type": "code",
   "execution_count": 20,
   "id": "52d8a155-fd44-428e-ae70-83df3d7d0b80",
   "metadata": {},
   "outputs": [],
   "source": [
    "// One interface can extend another.\n",
    "interface A {\n",
    "    void meth1();\n",
    "    void meth2();\n",
    "}"
   ]
  },
  {
   "cell_type": "code",
   "execution_count": 21,
   "id": "c8573833-3922-496f-9fcf-2bf8b9432bbf",
   "metadata": {},
   "outputs": [],
   "source": [
    "// B now includes meth1() and meth2() -- it adds meth3().\n",
    "interface B extends A {\n",
    "    void meth3();\n",
    "}"
   ]
  },
  {
   "cell_type": "code",
   "execution_count": 22,
   "id": "9c151a1c-6a55-41a1-a201-7b4bbc2996da",
   "metadata": {},
   "outputs": [],
   "source": [
    "// This class must implement all of A and B\n",
    "class MyClass implements B {\n",
    "    public void meth1() {\n",
    "        System.out.println(\"Implement meth1().\");\n",
    "    }\n",
    "    public void meth2() {\n",
    "        System.out.println(\"Implement meth2().\");\n",
    "    }\n",
    "    public void meth3() {\n",
    "        System.out.println(\"Implement meth3().\");\n",
    "    }\n",
    "}"
   ]
  },
  {
   "cell_type": "code",
   "execution_count": 23,
   "id": "196e8f7b-ec1e-4881-9bd6-b910598fad66",
   "metadata": {},
   "outputs": [
    {
     "name": "stdout",
     "output_type": "stream",
     "text": [
      "Implement meth1().\n",
      "Implement meth2().\n",
      "Implement meth3().\n"
     ]
    }
   ],
   "source": [
    "MyClass ob = new MyClass();\n",
    "ob.meth1();\n",
    "ob.meth2();\n",
    "ob.meth3();"
   ]
  },
  {
   "cell_type": "markdown",
   "id": "04daacb3-ff64-446d-8bf9-bbf1538ed78c",
   "metadata": {},
   "source": [
    "## Default Interface Methods"
   ]
  },
  {
   "cell_type": "code",
   "execution_count": 24,
   "id": "8d9ea555-f9c1-400d-843c-412f38361f70",
   "metadata": {},
   "outputs": [],
   "source": [
    "public interface MyIF {\n",
    "    // This is a \"normal\" interface method declaration.\n",
    "    // It does NOT define a default implementation.\n",
    "    int getNumber();\n",
    "    \n",
    "    // This is a default method. Notice that it provides\n",
    "    // a default implementation.\n",
    "    default String getString() {\n",
    "        return \"Default String\";\n",
    "    }\n",
    "}"
   ]
  },
  {
   "cell_type": "code",
   "execution_count": 25,
   "id": "7f3b70ca-3581-4839-8e0c-08d3a78537d6",
   "metadata": {},
   "outputs": [],
   "source": [
    "// Implement MyIF.\n",
    "class MyIFImp implements MyIF {\n",
    "    // Only getNumber() defined by MyIF needs to be implemented.\n",
    "    // getString() can be allowed to default.\n",
    "    public int getNumber() {\n",
    "        return 100;\n",
    "    }\n",
    "}"
   ]
  },
  {
   "cell_type": "code",
   "execution_count": 26,
   "id": "cb228ef1-8851-4fcf-96ba-e2fcde7c26bf",
   "metadata": {},
   "outputs": [
    {
     "name": "stdout",
     "output_type": "stream",
     "text": [
      "100\n",
      "Default String\n"
     ]
    }
   ],
   "source": [
    "MyIFImp obj = new MyIFImp();\n",
    "\n",
    "// Can call getNumber(), because it is explicitly\n",
    "// implemented by MyIFImp:\n",
    "System.out.println(obj.getNumber());\n",
    "\n",
    "// Can also call getString(), because of default\n",
    "// implementation:\n",
    "System.out.println(obj.getString());"
   ]
  },
  {
   "cell_type": "code",
   "execution_count": 27,
   "id": "8a86c4f1-3d19-4544-899f-dc9227a611a1",
   "metadata": {},
   "outputs": [],
   "source": [
    "class MyIFImp2 implements MyIF {\n",
    "    // Here, implementations for both getNumber( ) and getString( ) are provided.\n",
    "    public int getNumber() {\n",
    "        return 100;\n",
    "    }\n",
    "    \n",
    "    public String getString() {\n",
    "        return \"This is a different string.\";\n",
    "    }\n",
    "}"
   ]
  },
  {
   "cell_type": "markdown",
   "id": "7254e38d-36a7-4c06-9337-c94fa57c25fd",
   "metadata": {},
   "source": [
    "## Multiple Inheritance Issues"
   ]
  },
  {
   "cell_type": "markdown",
   "id": "3f6e88e5-68c4-49d0-84c0-2dce3ffd5634",
   "metadata": {},
   "source": [
    "a class implementation takes priority over an interface default implementation"
   ]
  },
  {
   "cell_type": "markdown",
   "id": "0d08818a-9332-47d8-b08a-c8937d6abe9f",
   "metadata": {},
   "source": [
    "if a class implements two interfaces that both have the same \n",
    "default method, but the class does not override that method, then an error will result"
   ]
  },
  {
   "cell_type": "markdown",
   "id": "d4279a3f-202b-46a5-be11-a374ea73415f",
   "metadata": {},
   "source": [
    "one interface inherits another, with both defining a common default \n",
    "method, the inheriting interface’s version of the method takes precedence"
   ]
  },
  {
   "cell_type": "markdown",
   "id": "6da73e05-545d-41aa-bfc0-97adceef5aff",
   "metadata": {},
   "source": [
    "explicitly refer to a default implementation in an inherited interface by using this form of super:"
   ]
  },
  {
   "cell_type": "markdown",
   "id": "f43e8f32-fa83-4aeb-b5e8-06827393af4f",
   "metadata": {},
   "source": [
    "InterfaceName.super.methodName( )"
   ]
  },
  {
   "cell_type": "markdown",
   "id": "3a0b1c5f-872f-4078-bf14-91cec8d8dfc4",
   "metadata": {},
   "source": [
    "## Use static Methods in an Interface"
   ]
  },
  {
   "cell_type": "raw",
   "id": "78a5fd50-2772-476a-9fd1-0e8fcd5b9278",
   "metadata": {},
   "source": [
    "InterfaceName.staticMethodName"
   ]
  },
  {
   "cell_type": "code",
   "execution_count": 1,
   "id": "0f3a5b61-69ec-4cdb-b77a-6e0f81648b62",
   "metadata": {},
   "outputs": [],
   "source": [
    "public interface MyIF {\n",
    "    // This is a \"normal\" interface method declaration.\n",
    "    // It does NOT define a default implementation.\n",
    "    int getNumber();\n",
    "    // This is a default method. Notice that it provides\n",
    "    // a default implementation.\n",
    "    default String getString() {\n",
    "        return \"Default String\";\n",
    "    }\n",
    "    // This is a static interface method.\n",
    "    static int getDefaultNumber() {\n",
    "        return 0;\n",
    "    }\n",
    "}"
   ]
  },
  {
   "cell_type": "code",
   "execution_count": 2,
   "id": "89e558f0-0374-4400-87ad-019999d7e689",
   "metadata": {},
   "outputs": [
    {
     "name": "stdout",
     "output_type": "stream",
     "text": [
      "0\n"
     ]
    }
   ],
   "source": [
    "int defNum = MyIF.getDefaultNumber();\n",
    "System.out.println(defNum);"
   ]
  },
  {
   "cell_type": "markdown",
   "id": "7cb0cbec-65bb-4fe6-be34-9afc9065d9f4",
   "metadata": {},
   "source": [
    "static interface methods are not inherited by either an implementing class or a subinterface."
   ]
  },
  {
   "cell_type": "markdown",
   "id": "d204afae-131f-43b4-8e40-29eb877c47b2",
   "metadata": {},
   "source": [
    "## Private Interface Methods"
   ]
  },
  {
   "cell_type": "markdown",
   "id": "804023b5-bbf4-46f2-88cb-479583ea8902",
   "metadata": {},
   "source": [
    "A private interface method \n",
    "can be called only by a default method or another private method defined by the sam \r\n",
    "interface."
   ]
  },
  {
   "cell_type": "code",
   "execution_count": null,
   "id": "093a2173-903d-43a2-8589-8dab896e83ec",
   "metadata": {},
   "outputs": [],
   "source": []
  }
 ],
 "metadata": {
  "kernelspec": {
   "display_name": "Java",
   "language": "java",
   "name": "java"
  },
  "language_info": {
   "codemirror_mode": "java",
   "file_extension": ".jshell",
   "mimetype": "text/x-java-source",
   "name": "Java",
   "pygments_lexer": "java",
   "version": "21.0.1+12-LTS"
  }
 },
 "nbformat": 4,
 "nbformat_minor": 5
}

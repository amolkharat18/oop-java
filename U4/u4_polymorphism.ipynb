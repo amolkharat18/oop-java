{
 "cells": [
  {
   "cell_type": "markdown",
   "id": "ebc92e3f-2151-4ed5-a416-9aa3856e522c",
   "metadata": {},
   "source": [
    "# Polymorphism in OOP"
   ]
  },
  {
   "cell_type": "markdown",
   "id": "414156ce-8ebb-4f9b-ace2-5af56293b4e6",
   "metadata": {},
   "source": [
    "## Overloading Methods (compile -time polymorphism)"
   ]
  },
  {
   "cell_type": "markdown",
   "id": "f56b4031-1965-4a2e-9180-2b337ca7dd4e",
   "metadata": {},
   "source": [
    "overloaded \n",
    "methods must differ in the type and/or number of their parameters"
   ]
  },
  {
   "cell_type": "code",
   "execution_count": 1,
   "id": "97d15679-65a3-46ff-87c6-fa22c3624354",
   "metadata": {},
   "outputs": [],
   "source": [
    "// Demonstrate method overloading.\n",
    "class OverloadDemo {\n",
    "    void test() {\n",
    "        System.out.println(\"No parameters\");\n",
    "    }\n",
    "    // Overload test for one integer parameter.\n",
    "    void test(int a) {\n",
    "        System.out.println(\"a: \" + a);\n",
    "    }\n",
    "    // Overload test for two integer parameters.\n",
    "    void test(int a, int b) {\n",
    "        System.out.println(\"a and b: \" + a + \" \" + b);\n",
    "    }\n",
    "    // Overload test for a double parameter\n",
    "    double test(double a) {\n",
    "        System.out.println(\"double a: \" + a);\n",
    "        return a*a;\n",
    "    }\n",
    "}"
   ]
  },
  {
   "cell_type": "code",
   "execution_count": 2,
   "id": "8add735e-7f36-4a2b-8756-74427166be40",
   "metadata": {},
   "outputs": [
    {
     "name": "stdout",
     "output_type": "stream",
     "text": [
      "No parameters\n",
      "a: 10\n",
      "a and b: 10 20\n",
      "double a: 123.25\n",
      "Result of ob.test(123.25): 15190.5625\n"
     ]
    }
   ],
   "source": [
    "OverloadDemo ob = new OverloadDemo();\n",
    "double result;\n",
    "// call all versions of test()\n",
    "ob.test();\n",
    "ob.test(10);\n",
    "ob.test(10, 20);\n",
    "result = ob.test(123.25);\n",
    "System.out.println(\"Result of ob.test(123.25): \" + result);"
   ]
  },
  {
   "cell_type": "code",
   "execution_count": 3,
   "id": "a2048919-4f90-4e7b-8e1a-ad47f34954cb",
   "metadata": {},
   "outputs": [],
   "source": [
    "// Automatic type conversions apply to overloading.\n",
    "class OverloadDemo {\n",
    "    void test() {\n",
    "        System.out.println(\"No parameters\");\n",
    "    }\n",
    "    // Overload test for two integer parameters.\n",
    "    void test(int a, int b) {\n",
    "        System.out.println(\"a and b: \" + a + \" \" + b);\n",
    "    }\n",
    "    // Overload test for a double parameter\n",
    "    void test(double a) {\n",
    "        System.out.println(\"Inside test(double) a: \" + a);\n",
    "    }\n",
    "}"
   ]
  },
  {
   "cell_type": "code",
   "execution_count": 4,
   "id": "68e82b04-5466-4807-8b00-c2db0df0c6a5",
   "metadata": {},
   "outputs": [
    {
     "name": "stdout",
     "output_type": "stream",
     "text": [
      "No parameters\n",
      "a and b: 10 20\n",
      "Inside test(double) a: 88.0\n",
      "Inside test(double) a: 123.2\n"
     ]
    }
   ],
   "source": [
    "OverloadDemo ob = new OverloadDemo();\n",
    "int i = 88;\n",
    "ob.test();\n",
    "ob.test(10, 20);\n",
    "ob.test(i); // this will invoke test(double)\n",
    "ob.test(123.2); // this will invoke test(double)"
   ]
  },
  {
   "cell_type": "markdown",
   "id": "2ee9dabc-311b-4b09-89cf-dfd01551ad17",
   "metadata": {},
   "source": [
    "## Dynamic Method Dispatch (run-time polymorphism)"
   ]
  },
  {
   "cell_type": "markdown",
   "id": "2cb52eda-7cde-4ac4-be07-43e82b00f382",
   "metadata": {},
   "source": [
    "- Dynamic method dispatch is the mechanism by which a call to an overridden method is resolved at run time, rather than compile time.\n",
    "- Dynamic method dispatch is important because this is how Java implements run-time polymorphism.\n",
    "- A superclass reference variable can refer to a subclass object.\n",
    "- It is the type of the object being referred to (not the type of the reference variable) that determines which version of an overridden method will be executed."
   ]
  },
  {
   "cell_type": "code",
   "execution_count": 1,
   "id": "f776f646-4a6e-415f-948f-d1c3b6580dde",
   "metadata": {},
   "outputs": [],
   "source": [
    "// Dynamic Method Dispatch\n",
    "class A {\n",
    "    void callme() {\n",
    "        System.out.println(\"Inside A's callme method\");\n",
    "    }\n",
    "}\n",
    "\n",
    "class B extends A {\n",
    "    // override callme()\n",
    "    void callme() {\n",
    "        System.out.println(\"Inside B's callme method\");\n",
    "    }\n",
    "}\n",
    "\n",
    "class C extends A {\n",
    "    // override callme()\n",
    "    void callme() {\n",
    "        System.out.println(\"Inside C's callme method\");\n",
    "    }\n",
    "}"
   ]
  },
  {
   "cell_type": "code",
   "execution_count": 2,
   "id": "4b4124d0-accb-49ec-abb7-703c9154d309",
   "metadata": {},
   "outputs": [],
   "source": [
    "A a = new A(); // object of type A\n",
    "B b = new B(); // object of type B\n",
    "C c = new C(); // object of type C\n",
    "A r; // obtain a reference of type A"
   ]
  },
  {
   "cell_type": "code",
   "execution_count": 3,
   "id": "b61a05f1-5ae8-4835-88e8-fb4a78ac04f6",
   "metadata": {},
   "outputs": [
    {
     "name": "stdout",
     "output_type": "stream",
     "text": [
      "Inside A's callme method\n"
     ]
    }
   ],
   "source": [
    "r = a; // r refers to an A object\n",
    "r.callme(); // calls A's version of callme"
   ]
  },
  {
   "cell_type": "code",
   "execution_count": 4,
   "id": "be2123ae-b912-45c4-af03-4350c7abd7af",
   "metadata": {},
   "outputs": [
    {
     "name": "stdout",
     "output_type": "stream",
     "text": [
      "Inside B's callme method\n"
     ]
    }
   ],
   "source": [
    "r = b; // r refers to a B object\n",
    "r.callme(); // calls B's version of callme"
   ]
  },
  {
   "cell_type": "code",
   "execution_count": 5,
   "id": "f9cf7ac4-78b4-4d3c-bf7d-a7d70566d240",
   "metadata": {},
   "outputs": [
    {
     "name": "stdout",
     "output_type": "stream",
     "text": [
      "Inside C's callme method\n"
     ]
    }
   ],
   "source": [
    "r = c; // r refers to a C object\n",
    "r.callme(); // calls C's version of callme"
   ]
  },
  {
   "cell_type": "markdown",
   "id": "7cf21c3a-2a70-483d-887c-1f5a9a0942b9",
   "metadata": {},
   "source": [
    "## Applying Method Overriding"
   ]
  },
  {
   "cell_type": "code",
   "execution_count": 6,
   "id": "5d0bc7ed-3ccf-4c18-98b2-bb65d998ea0f",
   "metadata": {},
   "outputs": [],
   "source": [
    "// Using run-time polymorphism.\n",
    "class Figure {\n",
    "    double dim1;\n",
    "    double dim2;\n",
    "    Figure(double a, double b) {\n",
    "        dim1 = a;\n",
    "        dim2 = b;\n",
    "    }\n",
    "    double area() {\n",
    "        System.out.println(\"Area for Figure is undefined.\");\n",
    "        return 0;\n",
    "    }\n",
    "}"
   ]
  },
  {
   "cell_type": "code",
   "execution_count": 7,
   "id": "9fc60971-8957-4b16-ba83-5578588fe5ee",
   "metadata": {},
   "outputs": [],
   "source": [
    "class Rectangle extends Figure {\n",
    "    Rectangle(double a, double b) {\n",
    "        super(a, b);\n",
    "    }\n",
    "    // override area for rectangle\n",
    "    double area() {\n",
    "        System.out.println(\"Inside Area for Rectangle.\");\n",
    "        return dim1 * dim2;\n",
    "    }\n",
    "}"
   ]
  },
  {
   "cell_type": "code",
   "execution_count": 8,
   "id": "8366c63e-a303-4a8e-b696-1376726917d3",
   "metadata": {},
   "outputs": [],
   "source": [
    "class Triangle extends Figure {\n",
    "    Triangle(double a, double b) {\n",
    "        super(a, b);\n",
    "    }\n",
    "    // override area for right triangle\n",
    "    double area() {\n",
    "        System.out.println(\"Inside Area for Triangle.\");\n",
    "        return dim1 * dim2 / 2;\n",
    "    }\n",
    "}"
   ]
  },
  {
   "cell_type": "code",
   "execution_count": 9,
   "id": "8383fadc-490e-48b8-994e-0b47415f8af5",
   "metadata": {},
   "outputs": [],
   "source": [
    "Figure f = new Figure(10, 10);\n",
    "Rectangle r = new Rectangle(9, 5);\n",
    "Triangle t = new Triangle(10, 8);\n",
    "Figure figref;"
   ]
  },
  {
   "cell_type": "code",
   "execution_count": 10,
   "id": "2e1bcebd-e593-4ca8-88d0-5a293adf7ff4",
   "metadata": {},
   "outputs": [
    {
     "name": "stdout",
     "output_type": "stream",
     "text": [
      "Inside Area for Rectangle.\n",
      "Area is 45.0\n"
     ]
    }
   ],
   "source": [
    "figref = r;\n",
    "System.out.println(\"Area is \" + figref.area());"
   ]
  },
  {
   "cell_type": "code",
   "execution_count": 11,
   "id": "e968b7fa-1a7d-4f32-9868-7f4634a39ebc",
   "metadata": {},
   "outputs": [
    {
     "name": "stdout",
     "output_type": "stream",
     "text": [
      "Inside Area for Triangle.\n",
      "Area is 40.0\n"
     ]
    }
   ],
   "source": [
    "figref = t;\n",
    "System.out.println(\"Area is \" + figref.area());"
   ]
  },
  {
   "cell_type": "code",
   "execution_count": 12,
   "id": "c6e69b7c-b36a-468e-9485-e0ae46704e7b",
   "metadata": {},
   "outputs": [
    {
     "name": "stdout",
     "output_type": "stream",
     "text": [
      "Area for Figure is undefined.\n",
      "Area is 0.0\n"
     ]
    }
   ],
   "source": [
    "figref = f;\n",
    "System.out.println(\"Area is \" + figref.area());"
   ]
  },
  {
   "cell_type": "code",
   "execution_count": null,
   "id": "0f50cf80-301d-4426-bd43-cd7b5907d953",
   "metadata": {},
   "outputs": [],
   "source": []
  }
 ],
 "metadata": {
  "kernelspec": {
   "display_name": "Java",
   "language": "java",
   "name": "java"
  },
  "language_info": {
   "codemirror_mode": "java",
   "file_extension": ".jshell",
   "mimetype": "text/x-java-source",
   "name": "Java",
   "pygments_lexer": "java",
   "version": "21.0.1+12-LTS"
  }
 },
 "nbformat": 4,
 "nbformat_minor": 5
}

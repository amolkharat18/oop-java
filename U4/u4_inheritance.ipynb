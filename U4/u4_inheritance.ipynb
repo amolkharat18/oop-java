{
 "cells": [
  {
   "cell_type": "markdown",
   "id": "32104e88-5763-494f-80d1-eaba214da91b",
   "metadata": {},
   "source": [
    "# Inheritance"
   ]
  },
  {
   "cell_type": "markdown",
   "id": "ee5bf6cf-692c-428f-9ea2-fb1b487cd947",
   "metadata": {},
   "source": [
    "Allows the \n",
    "creation of hierarchical classifications"
   ]
  },
  {
   "cell_type": "markdown",
   "id": "4482feb0-0957-4875-bbef-4842b65baeeb",
   "metadata": {},
   "source": [
    "In the terminology of Java, a class that is inherited is called a superclass. The class that does the inheriting is called a subclass."
   ]
  },
  {
   "cell_type": "markdown",
   "id": "b87b7a92-86a7-46b1-8600-33c61b09cd6f",
   "metadata": {},
   "source": [
    "Subclass inherits all of the \n",
    "members defined by the superclass and adds its own, unique elements."
   ]
  },
  {
   "cell_type": "markdown",
   "id": "a88ba03e-4f7c-4711-b397-86e6b7cbcc9b",
   "metadata": {},
   "source": [
    "## Inheritance Basics"
   ]
  },
  {
   "cell_type": "raw",
   "id": "a5deab66-a68f-4000-9c5d-b5d3cacd7510",
   "metadata": {},
   "source": [
    "The general form of a class declaration that inherits a superclass is shown here:\n",
    "class subclass-name extends superclass-name {\n",
    "    // body of class\n",
    "}"
   ]
  },
  {
   "cell_type": "code",
   "execution_count": 2,
   "id": "a9192326-554e-4c02-b3e0-55d9eb3d6a87",
   "metadata": {},
   "outputs": [],
   "source": [
    "// A simple example of inheritance.\n",
    "// Create a superclass.\n",
    "class A {\n",
    "    int i, j;\n",
    "    void showij() {\n",
    "        System.out.println(\"i and j: \" + i + \" \" + j);\n",
    "    }\n",
    "}"
   ]
  },
  {
   "cell_type": "code",
   "execution_count": 3,
   "id": "373206af-b383-4f7a-9ac1-885c3e71741f",
   "metadata": {},
   "outputs": [],
   "source": [
    "// Create a subclass by extending class A.\n",
    "class B extends A {\n",
    "    int k;\n",
    "    void showk() {\n",
    "        System.out.println(\"k: \" + k);\n",
    "    }\n",
    "    void sum() {\n",
    "        System.out.println(\"i+j+k: \" + (i+j+k));\n",
    "    }\n",
    "}"
   ]
  },
  {
   "cell_type": "code",
   "execution_count": 4,
   "id": "e5bc1e7a-a3dd-4fa9-93a3-4bf9b8d6b9ae",
   "metadata": {},
   "outputs": [],
   "source": [
    "A superOb = new A();\n",
    "B subOb = new B();"
   ]
  },
  {
   "cell_type": "markdown",
   "id": "f7d3f06c-c658-46f5-8649-a650f7a9cd38",
   "metadata": {},
   "source": [
    "// The superclass may be used by itself.\n",
    "superOb.i = 10;\n",
    "superOb.j = 20;\n",
    "System.out.println(\"Contents of superOb: \");\n",
    "superOb.showij();"
   ]
  },
  {
   "cell_type": "code",
   "execution_count": 7,
   "id": "b9a734b0-3ac1-4eb4-98f9-33a4e28a81f5",
   "metadata": {},
   "outputs": [
    {
     "name": "stdout",
     "output_type": "stream",
     "text": [
      "Contents of subOb: \n",
      "i and j: 7 8\n",
      "k: 9\n"
     ]
    }
   ],
   "source": [
    "/* The subclass has access to all public members of its superclass. */\n",
    "subOb.i = 7;\n",
    "subOb.j = 8;\n",
    "subOb.k = 9;\n",
    "System.out.println(\"Contents of subOb: \");\n",
    "subOb.showij();\n",
    "subOb.showk();"
   ]
  },
  {
   "cell_type": "code",
   "execution_count": 8,
   "id": "47df6316-0a4a-4d4c-90b7-ae3cf41b8703",
   "metadata": {},
   "outputs": [
    {
     "name": "stdout",
     "output_type": "stream",
     "text": [
      "Sum of i, j and k in subOb:\n",
      "i+j+k: 24\n"
     ]
    }
   ],
   "source": [
    "System.out.println(\"Sum of i, j and k in subOb:\");\n",
    "subOb.sum();"
   ]
  },
  {
   "cell_type": "markdown",
   "id": "31448f2c-d8f1-48c8-b89f-04b4460148ec",
   "metadata": {},
   "source": [
    "Java does not \n",
    "support the inheritance of multiple superclasses into a single subclass."
   ]
  },
  {
   "cell_type": "markdown",
   "id": "476220c6-a8b6-4893-a7fd-8200517c2d58",
   "metadata": {},
   "source": [
    "No class can be a superclass of itself."
   ]
  },
  {
   "cell_type": "markdown",
   "id": "4a010f1c-86d6-4a9a-b374-269e68376207",
   "metadata": {},
   "source": [
    "## Member Access and Inheritance"
   ]
  },
  {
   "cell_type": "markdown",
   "id": "0bdb240d-5384-4b59-887f-3fb06d85d973",
   "metadata": {},
   "source": [
    "Subclass cannot access those members of the superclass that have been declared as **private**"
   ]
  },
  {
   "cell_type": "code",
   "execution_count": 10,
   "id": "4c6383e0-3ac2-40ff-8820-560d76960b47",
   "metadata": {},
   "outputs": [],
   "source": [
    "/* In a class hierarchy, private members remain\n",
    "    private to their class.\n",
    "    \n",
    "    This program contains an error and will not\n",
    "    compile.\n",
    "*/\n",
    "// Create a superclass.\n",
    "class A {\n",
    "    int i; // default access\n",
    "    private int j; // private to A\n",
    "    void setij(int x, int y) {\n",
    "        i = x;\n",
    "        j = y;\n",
    "    }\n",
    "}"
   ]
  },
  {
   "cell_type": "code",
   "execution_count": 11,
   "id": "e3ea1c67-29a1-413c-b5d2-4920983dae8b",
   "metadata": {},
   "outputs": [
    {
     "ename": "CompilationException",
     "evalue": "",
     "output_type": "error",
     "traceback": [
      "\u001b[1m\u001b[30m|   \u001b[1m\u001b[30m        total = i + \u001b[0m\u001b[1m\u001b[30m\u001b[41mj\u001b[0m\u001b[1m\u001b[30m; // ERROR, j is not accessible here\u001b[0m",
      "\u001b[1m\u001b[31mj has private access in A\u001b[0m",
      ""
     ]
    }
   ],
   "source": [
    "// A's j is not accessible here.\n",
    "class B extends A {\n",
    "    int total;\n",
    "    void sum() {\n",
    "        total = i + j; // ERROR, j is not accessible here\n",
    "    }\n",
    "}"
   ]
  },
  {
   "cell_type": "markdown",
   "id": "ffcb6097-4d09-4a4d-9a18-e9c72c2c0faa",
   "metadata": {},
   "source": [
    "## A More Practical Example"
   ]
  },
  {
   "cell_type": "code",
   "execution_count": 12,
   "id": "7060d119-7dc4-4fd0-a5f1-a97f15142b67",
   "metadata": {},
   "outputs": [],
   "source": [
    "// This program uses inheritance to extend Box.\n",
    "class Box {\n",
    "    double width;\n",
    "    double height;\n",
    "    double depth;\n",
    "    // construct clone of an object\n",
    "    Box(Box ob) { // pass object to constructor\n",
    "        width = ob.width;\n",
    "        height = ob.height;\n",
    "        depth = ob.depth;\n",
    "    }\n",
    "    // constructor used when all dimensions specified\n",
    "    Box(double w, double h, double d) {\n",
    "        width = w;\n",
    "        height = h;\n",
    "        depth = d;\n",
    "    }\n",
    "    // constructor used when no dimensions specified\n",
    "    Box() {\n",
    "        width = -1; // use -1 to indicate\n",
    "        height = -1; // an uninitialized\n",
    "        depth = -1; // box\n",
    "    }\n",
    "    // constructor used when cube is created\n",
    "    Box(double len) {\n",
    "        width = height = depth = len;\n",
    "    }\n",
    "    // compute and return volume\n",
    "    double volume() {\n",
    "        return width * height * depth;\n",
    "    }\n",
    "}"
   ]
  },
  {
   "cell_type": "code",
   "execution_count": 13,
   "id": "3d32742b-3ee4-4cda-8b6c-95098a59cb47",
   "metadata": {},
   "outputs": [],
   "source": [
    "// Here, Box is extended to include weight.\n",
    "class BoxWeight extends Box {\n",
    "    double weight; // weight of box\n",
    "    // constructor for BoxWeight\n",
    "    BoxWeight(double w, double h, double d, double m) {\n",
    "        width = w;\n",
    "        height = h;\n",
    "        depth = d;\n",
    "        weight = m;\n",
    "    }\n",
    "}"
   ]
  },
  {
   "cell_type": "code",
   "execution_count": 15,
   "id": "b2bb6eef-4247-419d-bbdf-df59e6f79d7f",
   "metadata": {},
   "outputs": [
    {
     "name": "stdout",
     "output_type": "stream",
     "text": [
      "Volume of mybox1 is 3000.0\n",
      "Weight of mybox1 is 34.3\n"
     ]
    }
   ],
   "source": [
    "BoxWeight mybox1 = new BoxWeight(10, 20, 15, 34.3);\n",
    "BoxWeight mybox2 = new BoxWeight(2, 3, 4, 0.076);\n",
    "double vol;\n",
    "vol = mybox1.volume();\n",
    "System.out.println(\"Volume of mybox1 is \" + vol);\n",
    "System.out.println(\"Weight of mybox1 is \" + mybox1.weight);"
   ]
  },
  {
   "cell_type": "markdown",
   "id": "bb6e53b9-0395-4774-b413-815a38c3e4a4",
   "metadata": {},
   "source": [
    "vol = mybox2.volume();\n",
    "System.out.println(\"Volume of mybox2 is \" + vol);\n",
    "System.out.println(\"Weight of mybox2 is \" + mybox2.weight);"
   ]
  },
  {
   "cell_type": "code",
   "execution_count": 17,
   "id": "69bdf3dc-1814-4c55-9811-34eba7e1ac08",
   "metadata": {},
   "outputs": [],
   "source": [
    "// Here, Box is extended to include color.\n",
    "class ColorBox extends Box {\n",
    "    int color; // color of box\n",
    "    ColorBox(double w, double h, double d, int c) {\n",
    "        width = w;\n",
    "        height = h;\n",
    "        depth = d;\n",
    "        color = c;\n",
    "    }\n",
    "}"
   ]
  },
  {
   "cell_type": "markdown",
   "id": "599e47dd-52e6-4d32-abbe-a8897d4cd324",
   "metadata": {},
   "source": [
    "## A Superclass Variable Can Reference a Subclass Object"
   ]
  },
  {
   "cell_type": "code",
   "execution_count": 18,
   "id": "a829c299-9c29-4019-8b1a-7f2fa4fa3182",
   "metadata": {},
   "outputs": [],
   "source": [
    "BoxWeight weightbox = new BoxWeight(3, 5, 7, 8.37);\n",
    "Box plainbox = new Box();\n",
    "double vol;"
   ]
  },
  {
   "cell_type": "code",
   "execution_count": 19,
   "id": "1e3910e2-c427-466a-9771-e27cc6e469a7",
   "metadata": {},
   "outputs": [
    {
     "name": "stdout",
     "output_type": "stream",
     "text": [
      "Volume of weightbox is 105.0\n",
      "Weight of weightbox is 8.37\n"
     ]
    }
   ],
   "source": [
    "vol = weightbox.volume();\n",
    "System.out.println(\"Volume of weightbox is \" + vol);\n",
    "System.out.println(\"Weight of weightbox is \" + weightbox.weight);"
   ]
  },
  {
   "cell_type": "code",
   "execution_count": 20,
   "id": "0f4e3306-7e3c-4f57-b6ca-6b7ee7caf93e",
   "metadata": {},
   "outputs": [],
   "source": [
    "// assign BoxWeight reference to Box reference\n",
    "plainbox = weightbox;"
   ]
  },
  {
   "cell_type": "code",
   "execution_count": 21,
   "id": "05b64a5a-1c41-42a9-9153-bcd4ba4a61c2",
   "metadata": {},
   "outputs": [
    {
     "name": "stdout",
     "output_type": "stream",
     "text": [
      "Volume of plainbox is 105.0\n"
     ]
    }
   ],
   "source": [
    "vol = plainbox.volume(); // OK, volume() defined in Box\n",
    "System.out.println(\"Volume of plainbox is \" + vol);"
   ]
  },
  {
   "cell_type": "code",
   "execution_count": 22,
   "id": "9bc3fddd-f66d-4577-a510-647ec858f829",
   "metadata": {},
   "outputs": [
    {
     "ename": "CompilationException",
     "evalue": "",
     "output_type": "error",
     "traceback": [
      "\u001b[1m\u001b[30m|   \u001b[1m\u001b[30mSystem.out.println(\"Weight of plainbox is \" + \u001b[0m\u001b[1m\u001b[30m\u001b[41mplainbox.weight\u001b[0m\u001b[1m\u001b[30m);\u001b[0m",
      "\u001b[1m\u001b[31mcannot find symbol\u001b[0m",
      "\u001b[1m\u001b[31m  symbol:   variable weight\u001b[0m",
      ""
     ]
    }
   ],
   "source": [
    "/* The following statement is invalid because plainbox does not define a weight member. */\n",
    "System.out.println(\"Weight of plainbox is \" + plainbox.weight);"
   ]
  },
  {
   "cell_type": "markdown",
   "id": "ba876f78-12c2-4b30-830e-409c9c8d42a0",
   "metadata": {},
   "source": [
    "the type of the reference variable—not the type of the object that it refers to—that determines what members can be accessed."
   ]
  },
  {
   "cell_type": "markdown",
   "id": "2126b591-c005-445f-8e0e-fda7eb62fad0",
   "metadata": {},
   "source": [
    "## Using super"
   ]
  },
  {
   "cell_type": "markdown",
   "id": "c4faabb3-ccf4-4414-b85b-0c676705c1cb",
   "metadata": {},
   "source": [
    "keyword **super** - immediate superclass\n",
    "\n",
    "1. call the superclass’ constructor\n",
    "2. access a member of the superclass that has been hidden by a member of a subclass"
   ]
  },
  {
   "cell_type": "markdown",
   "id": "aadc2c45-9969-447e-8b0c-d04242befb43",
   "metadata": {
    "jp-MarkdownHeadingCollapsed": true
   },
   "source": [
    "### Using super to Call Superclass Constructors"
   ]
  },
  {
   "cell_type": "code",
   "execution_count": 24,
   "id": "db502e47-d957-49b2-8c75-09bd7977c871",
   "metadata": {},
   "outputs": [],
   "source": [
    "// BoxWeight now uses super to initialize its Box attributes.\n",
    "class BoxWeight extends Box {\n",
    "    double weight; // weight of box\n",
    "    // initialize width, height, and depth using super()\n",
    "    BoxWeight(double w, double h, double d, double m) {\n",
    "        super(w, h, d); // call superclass constructor\n",
    "        weight = m;\n",
    "    }\n",
    "}"
   ]
  },
  {
   "cell_type": "code",
   "execution_count": 25,
   "id": "fedad88f-8105-4f24-ac61-56f4b8aa69cb",
   "metadata": {},
   "outputs": [],
   "source": [
    "// A complete implementation of BoxWeight.\n",
    "class Box {\n",
    "    private double width;\n",
    "    private double height;\n",
    "    private double depth;\n",
    "    // construct clone of an object\n",
    "    Box(Box ob) { // pass object to constructor\n",
    "        width = ob.width;\n",
    "        height = ob.height;\n",
    "        depth = ob.depth;\n",
    "    }\n",
    "    // constructor used when all dimensions specified\n",
    "    Box(double w, double h, double d) {\n",
    "        width = w;\n",
    "        height = h;\n",
    "        depth = d;\n",
    "    }\n",
    "    // constructor used when no dimensions specified\n",
    "    Box() {\n",
    "        width = -1; // use -1 to indicate\n",
    "        height = -1; // an uninitialized\n",
    "        depth = -1; // box\n",
    "    }\n",
    "    // constructor used when cube is created\n",
    "    Box(double len) {\n",
    "        width = height = depth = len;\n",
    "    }\n",
    "    // compute and return volume\n",
    "    double volume() {\n",
    "        return width * height * depth;\n",
    "    }\n",
    "}"
   ]
  },
  {
   "cell_type": "code",
   "execution_count": 26,
   "id": "b1a3ead2-cd3b-4b58-b5bd-225f08011384",
   "metadata": {},
   "outputs": [],
   "source": [
    "// BoxWeight now fully implements all constructors.\n",
    "class BoxWeight extends Box {\n",
    "    double weight; // weight of box\n",
    "    // construct clone of an object\n",
    "    BoxWeight(BoxWeight ob) { // pass object to constructor\n",
    "        super(ob);\n",
    "        weight = ob.weight;\n",
    "    }\n",
    "    // constructor when all parameters are specified\n",
    "    BoxWeight(double w, double h, double d, double m) {\n",
    "        super(w, h, d); // call superclass constructor\n",
    "        weight = m;\n",
    "    }\n",
    "    // default constructor\n",
    "    BoxWeight() {\n",
    "        super();\n",
    "        weight = -1;\n",
    "    }\n",
    "    // constructor used when cube is created\n",
    "    BoxWeight(double len, double m) {\n",
    "        super(len);\n",
    "        weight = m;\n",
    "    }\n",
    "}"
   ]
  },
  {
   "cell_type": "code",
   "execution_count": 27,
   "id": "0fbda72b-0e71-45d7-b873-7838265147bf",
   "metadata": {},
   "outputs": [],
   "source": [
    "BoxWeight mybox1 = new BoxWeight(10, 20, 15, 34.3);\n",
    "BoxWeight mybox2 = new BoxWeight(2, 3, 4, 0.076);\n",
    "BoxWeight mybox3 = new BoxWeight(); // default\n",
    "BoxWeight mycube = new BoxWeight(3, 2);\n",
    "BoxWeight myclone = new BoxWeight(mybox1);\n",
    "double vol;"
   ]
  },
  {
   "cell_type": "code",
   "execution_count": 29,
   "id": "a6158bd1-0e5c-4d6c-a3a4-296c6b873095",
   "metadata": {},
   "outputs": [
    {
     "name": "stdout",
     "output_type": "stream",
     "text": [
      "Volume of mybox1 is 3000.0\n",
      "Weight of mybox1 is 34.3\n"
     ]
    }
   ],
   "source": [
    "vol = mybox1.volume();\n",
    "System.out.println(\"Volume of mybox1 is \" + vol);\n",
    "System.out.println(\"Weight of mybox1 is \" + mybox1.weight);"
   ]
  },
  {
   "cell_type": "code",
   "execution_count": 30,
   "id": "23203e82-cbde-46ad-81a9-736b74d4c6b7",
   "metadata": {},
   "outputs": [
    {
     "name": "stdout",
     "output_type": "stream",
     "text": [
      "Volume of mybox2 is 24.0\n",
      "Weight of mybox2 is 0.076\n"
     ]
    }
   ],
   "source": [
    "vol = mybox2.volume();\n",
    "System.out.println(\"Volume of mybox2 is \" + vol);\n",
    "System.out.println(\"Weight of mybox2 is \" + mybox2.weight);"
   ]
  },
  {
   "cell_type": "code",
   "execution_count": 31,
   "id": "3e05bf92-f746-464d-afd5-95ec8d139b22",
   "metadata": {},
   "outputs": [
    {
     "name": "stdout",
     "output_type": "stream",
     "text": [
      "Volume of mybox3 is -1.0\n",
      "Weight of mybox3 is -1.0\n"
     ]
    }
   ],
   "source": [
    "vol = mybox3.volume();\n",
    "System.out.println(\"Volume of mybox3 is \" + vol);\n",
    "System.out.println(\"Weight of mybox3 is \" + mybox3.weight);"
   ]
  },
  {
   "cell_type": "code",
   "execution_count": 32,
   "id": "e8e635c6-b8f5-4415-977e-587982adac20",
   "metadata": {},
   "outputs": [
    {
     "name": "stdout",
     "output_type": "stream",
     "text": [
      "Volume of myclone is 3000.0\n",
      "Weight of myclone is 34.3\n"
     ]
    }
   ],
   "source": [
    "vol = myclone.volume();\n",
    "System.out.println(\"Volume of myclone is \" + vol);\n",
    "System.out.println(\"Weight of myclone is \" + myclone.weight);"
   ]
  },
  {
   "cell_type": "code",
   "execution_count": 33,
   "id": "49d87562-fcee-41bb-97eb-bdac7c2c1118",
   "metadata": {},
   "outputs": [
    {
     "name": "stdout",
     "output_type": "stream",
     "text": [
      "Volume of mycube is 27.0\n",
      "Weight of mycube is 2.0\n"
     ]
    }
   ],
   "source": [
    "vol = mycube.volume();\n",
    "System.out.println(\"Volume of mycube is \" + vol);\n",
    "System.out.println(\"Weight of mycube is \" + mycube.weight);"
   ]
  },
  {
   "cell_type": "markdown",
   "id": "46aa3cba-2f69-4dc2-bf41-28450e1ab789",
   "metadata": {},
   "source": [
    "### A Second Use for super"
   ]
  },
  {
   "cell_type": "code",
   "execution_count": 34,
   "id": "93e5c105-5dff-42e5-b3c7-8f3b4925f6c3",
   "metadata": {},
   "outputs": [],
   "source": [
    "// Using super to overcome name hiding.\n",
    "class A {\n",
    "int i;\n",
    "}\n",
    "\n",
    "// Create a subclass by extending class A.\n",
    "class B extends A {\n",
    "    int i; // this i hides the i in A\n",
    "    B(int a, int b) {\n",
    "        super.i = a; // i in A\n",
    "        i = b; // i in B\n",
    "    }\n",
    "    void show() {\n",
    "        System.out.println(\"i in superclass: \" + super.i);\n",
    "        System.out.println(\"i in subclass: \" + i);\n",
    "    }\n",
    "}"
   ]
  },
  {
   "cell_type": "code",
   "execution_count": 35,
   "id": "8b93177f-1a1a-4bac-afa8-226a5e6eb69a",
   "metadata": {},
   "outputs": [
    {
     "name": "stdout",
     "output_type": "stream",
     "text": [
      "i in superclass: 1\n",
      "i in subclass: 2\n"
     ]
    }
   ],
   "source": [
    "B subOb = new B(1, 2);\n",
    "subOb.show();"
   ]
  },
  {
   "cell_type": "markdown",
   "id": "6777cabb-a08c-47e6-9330-82c7ef4d1b65",
   "metadata": {},
   "source": [
    "## Creating a Multilevel Hierarchy"
   ]
  },
  {
   "cell_type": "code",
   "execution_count": 6,
   "id": "f2fa79f7-7d11-4f36-932e-1bbc9e61337c",
   "metadata": {},
   "outputs": [],
   "source": [
    "class A {}\n",
    "class B extends A {}\n",
    "class C extends B {}"
   ]
  },
  {
   "cell_type": "code",
   "execution_count": 8,
   "id": "59f509af-3b91-4b79-a19b-05e5bd20f52a",
   "metadata": {},
   "outputs": [],
   "source": [
    "// Extend BoxWeight to include shipping costs.\n",
    "// Start with Box.\n",
    "class Box {\n",
    "    private double width;\n",
    "    private double height;\n",
    "    private double depth;\n",
    "    // construct clone of an object\n",
    "    Box(Box ob) { // pass object to constructor\n",
    "        width = ob.width;\n",
    "        height = ob.height;\n",
    "        depth = ob.depth;\n",
    "    }\n",
    "    // constructor used when all dimensions specified\n",
    "    Box(double w, double h, double d) {\n",
    "        width = w;\n",
    "        height = h;\n",
    "        depth = d;\n",
    "    }\n",
    "    // constructor used when no dimensions specified\n",
    "    Box() {\n",
    "        width = -1; // use -1 to indicate\n",
    "        height = -1; // an uninitialized\n",
    "        depth = -1; // box\n",
    "    }\n",
    "    // constructor used when cube is created\n",
    "    Box(double len) {\n",
    "        width = height = depth = len;\n",
    "    }\n",
    "    // compute and return volume\n",
    "    double volume() {\n",
    "        return width * height * depth;\n",
    "    }\n",
    "}"
   ]
  },
  {
   "cell_type": "code",
   "execution_count": 9,
   "id": "548b62ba-be89-43d1-a69a-91320c56079e",
   "metadata": {},
   "outputs": [],
   "source": [
    "// Add weight.\n",
    "class BoxWeight extends Box {\n",
    "    double weight; // weight of box\n",
    "    // construct clone of an object\n",
    "    BoxWeight(BoxWeight ob) { // pass object to constructor\n",
    "        super(ob);\n",
    "        weight = ob.weight;\n",
    "    }\n",
    "    // constructor when all parameters are specified\n",
    "    BoxWeight(double w, double h, double d, double m) {\n",
    "        super(w, h, d); // call superclass constructor\n",
    "        weight = m;\n",
    "    }\n",
    "    // default constructor\n",
    "    BoxWeight() {\n",
    "        super();\n",
    "        weight = -1;\n",
    "    }\n",
    "    // constructor used when cube is created\n",
    "    BoxWeight(double len, double m) {\n",
    "        super(len);\n",
    "        weight = m;\n",
    "    }\n",
    "}"
   ]
  },
  {
   "cell_type": "code",
   "execution_count": 10,
   "id": "7253913e-bf94-408b-aeeb-ff55ff33af1c",
   "metadata": {},
   "outputs": [],
   "source": [
    "// Add shipping costs.\n",
    "class Shipment extends BoxWeight {\n",
    "    double cost;\n",
    "    // construct clone of an object\n",
    "    Shipment(Shipment ob) { // pass object to constructor\n",
    "        super(ob);\n",
    "        cost = ob.cost;\n",
    "    }\n",
    "    // constructor when all parameters are specified\n",
    "    Shipment(double w, double h, double d,\n",
    "        double m, double c) {\n",
    "        super(w, h, d, m); // call superclass constructor\n",
    "        cost = c;\n",
    "    }\n",
    "    // default constructor\n",
    "    Shipment() {\n",
    "        super();\n",
    "        cost = -1;\n",
    "    }\n",
    "    // constructor used when cube is created\n",
    "    Shipment(double len, double m, double c) {\n",
    "        super(len, m);\n",
    "        cost = c;\n",
    "    }\n",
    "}"
   ]
  },
  {
   "cell_type": "code",
   "execution_count": 11,
   "id": "38966f27-0692-4277-a20f-f39d0fb5745b",
   "metadata": {},
   "outputs": [],
   "source": [
    "Shipment shipment1 = new Shipment(10, 20, 15, 10, 3.41);\n",
    "Shipment shipment2 = new Shipment(2, 3, 4, 0.76, 1.28);\n",
    "double vol;"
   ]
  },
  {
   "cell_type": "code",
   "execution_count": 12,
   "id": "5e306b5d-4fcc-425e-becb-998412bb109c",
   "metadata": {},
   "outputs": [
    {
     "name": "stdout",
     "output_type": "stream",
     "text": [
      "Volume of shipment1 is 3000.0\n",
      "Weight of shipment1 is 10.0\n",
      "Shipping cost: $3.41\n"
     ]
    }
   ],
   "source": [
    "vol = shipment1.volume();\n",
    "System.out.println(\"Volume of shipment1 is \" + vol);\n",
    "System.out.println(\"Weight of shipment1 is \" + shipment1.weight);\n",
    "System.out.println(\"Shipping cost: $\" + shipment1.cost);"
   ]
  },
  {
   "cell_type": "code",
   "execution_count": 13,
   "id": "f855c103-8ef6-4942-ae9e-524024d5c2c8",
   "metadata": {},
   "outputs": [
    {
     "name": "stdout",
     "output_type": "stream",
     "text": [
      "Volume of shipment2 is 24.0\n",
      "Weight of shipment2 is 0.76\n",
      "Shipping cost: $1.28\n"
     ]
    }
   ],
   "source": [
    "vol = shipment2.volume();\n",
    "System.out.println(\"Volume of shipment2 is \" + vol);\n",
    "System.out.println(\"Weight of shipment2 is \" + shipment2.weight);\n",
    "System.out.println(\"Shipping cost: $\" + shipment2.cost);"
   ]
  },
  {
   "cell_type": "markdown",
   "id": "edd8e347-102d-4c82-9fa2-d0a0bf338e8b",
   "metadata": {},
   "source": [
    "## When Constructors Are Executed"
   ]
  },
  {
   "cell_type": "markdown",
   "id": "ffd98a27-ed90-4192-9c40-80932d839e98",
   "metadata": {},
   "source": [
    "constructors complete their execution in order of derivation, from superclass to subclass"
   ]
  },
  {
   "cell_type": "code",
   "execution_count": 14,
   "id": "c7a93504-1f89-4ca3-bb5e-934722500622",
   "metadata": {},
   "outputs": [],
   "source": [
    "// Demonstrate when constructors are executed.\n",
    "// Create a super class.\n",
    "class A {\n",
    "    A() {\n",
    "        System.out.println(\"Inside A's constructor.\");\n",
    "    }\n",
    "}"
   ]
  },
  {
   "cell_type": "code",
   "execution_count": 15,
   "id": "d8fb705f-4caa-4c12-a8b6-ee38eed81ab6",
   "metadata": {},
   "outputs": [],
   "source": [
    "// Create a subclass by extending class A.\n",
    "class B extends A {\n",
    "    B() {\n",
    "        System.out.println(\"Inside B's constructor.\");\n",
    "    }\n",
    "}"
   ]
  },
  {
   "cell_type": "code",
   "execution_count": 16,
   "id": "3ee91dbe-3cc6-4675-8cea-4d93125d0310",
   "metadata": {},
   "outputs": [],
   "source": [
    "// Create another subclass by extending B.\n",
    "class C extends B {\n",
    "    C() {\n",
    "        System.out.println(\"Inside C's constructor.\");\n",
    "    }\n",
    "}"
   ]
  },
  {
   "cell_type": "code",
   "execution_count": 17,
   "id": "3cb823d3-9bda-4914-ba86-30ecae7869a7",
   "metadata": {},
   "outputs": [
    {
     "name": "stdout",
     "output_type": "stream",
     "text": [
      "Inside A's constructor.\n",
      "Inside B's constructor.\n",
      "Inside C's constructor.\n"
     ]
    }
   ],
   "source": [
    "C c = new C();"
   ]
  },
  {
   "cell_type": "markdown",
   "id": "cc38a59b-95dd-4574-be0c-70ea273a066d",
   "metadata": {},
   "source": [
    "## Method Overriding"
   ]
  },
  {
   "cell_type": "code",
   "execution_count": 18,
   "id": "40f08d8c-f1ac-4c8f-ba95-98b9c6cd8320",
   "metadata": {},
   "outputs": [],
   "source": [
    "// Method overriding.\n",
    "class A {\n",
    "    int i, j;\n",
    "    A(int a, int b) {\n",
    "        i = a;\n",
    "        j = b;\n",
    "    }\n",
    "    // display i and j\n",
    "    void show() {\n",
    "        System.out.println(\"i and j: \" + i + \" \" + j);\n",
    "    }\n",
    "}"
   ]
  },
  {
   "cell_type": "code",
   "execution_count": 19,
   "id": "d7d831bd-d87a-4495-a7f3-843d005b592c",
   "metadata": {},
   "outputs": [],
   "source": [
    "class B extends A {\n",
    "    int k;\n",
    "    B(int a, int b, int c) {\n",
    "        super(a, b);\n",
    "        k = c;\n",
    "    }\n",
    "    // display k – this overrides show() in A\n",
    "    void show() {\n",
    "        System.out.println(\"k: \" + k);\n",
    "    }\n",
    "}"
   ]
  },
  {
   "cell_type": "code",
   "execution_count": 20,
   "id": "1ce97f15-d500-4d0b-b238-e6ce7cf95805",
   "metadata": {},
   "outputs": [
    {
     "name": "stdout",
     "output_type": "stream",
     "text": [
      "k: 3\n"
     ]
    }
   ],
   "source": [
    "B subOb = new B(1, 2, 3);\n",
    "subOb.show(); // this calls show() in B"
   ]
  },
  {
   "cell_type": "code",
   "execution_count": 21,
   "id": "b7713c7e-8ab4-478c-9cb8-8e0366ba3062",
   "metadata": {},
   "outputs": [],
   "source": [
    "class B extends A {\n",
    "    int k;\n",
    "    B(int a, int b, int c) {\n",
    "        super(a, b);\n",
    "        k = c;\n",
    "    }\n",
    "    void show() {\n",
    "        super.show(); // this calls A's show()\n",
    "        System.out.println(\"k: \" + k);\n",
    "    }\n",
    "}"
   ]
  },
  {
   "cell_type": "code",
   "execution_count": 22,
   "id": "0f2b921e-6021-40a8-8f7f-b8d9a01200f1",
   "metadata": {},
   "outputs": [
    {
     "name": "stdout",
     "output_type": "stream",
     "text": [
      "i and j: 1 2\n",
      "k: 3\n"
     ]
    }
   ],
   "source": [
    "B subOb = new B(1, 2, 3);\n",
    "subOb.show(); // this calls show() in B"
   ]
  },
  {
   "cell_type": "code",
   "execution_count": 23,
   "id": "cb0d63a0-1846-4972-b169-018b22586878",
   "metadata": {},
   "outputs": [],
   "source": [
    "// Methods with differing type signatures are overloaded – not\n",
    "// overridden.\n",
    "class A {\n",
    "    int i, j;\n",
    "    A(int a, int b) {\n",
    "        i = a;\n",
    "        j = b;\n",
    "    }\n",
    "    // display i and j\n",
    "    void show() {\n",
    "        System.out.println(\"i and j: \" + i + \" \" + j);\n",
    "    }\n",
    "}\n",
    "\n",
    "// Create a subclass by extending class A.\n",
    "class B extends A {\n",
    "    int k;\n",
    "    B(int a, int b, int c) {\n",
    "        super(a, b);\n",
    "        k = c;\n",
    "    }\n",
    "    // overload show()\n",
    "    void show(String msg) {\n",
    "        System.out.println(msg + k);\n",
    "    }\n",
    "}"
   ]
  },
  {
   "cell_type": "raw",
   "id": "4f93a4f8-036c-4e6d-9881-fb04bdb5eac0",
   "metadata": {},
   "source": [
    "B subOb = new B(1, 2, 3);\n",
    "subOb.show(\"This is k: \"); // this calls show() in B\n",
    "subOb.show(); // this calls show() in A"
   ]
  },
  {
   "cell_type": "markdown",
   "id": "7367a6f5-dbac-4da3-8f70-d339eb4958d5",
   "metadata": {},
   "source": [
    "## Using Abstract Classes"
   ]
  },
  {
   "cell_type": "markdown",
   "id": "aee7e31d-830b-4b7a-b2bd-e89b726a4e2a",
   "metadata": {},
   "source": [
    "- An abstract class cannot be directly instantiated with the new operator.\n",
    "- You cannot declare abstract \n",
    "constructors, or abstract static method\n",
    "- Any subclass of an abstract class must either \n",
    "implement all of the abstract methods in the superclass, or be declared abstract itselfs"
   ]
  },
  {
   "cell_type": "code",
   "execution_count": 2,
   "id": "4c12dd40-a7b2-44a4-8c6a-f3fc736bfc7d",
   "metadata": {},
   "outputs": [],
   "source": [
    "// A Simple demonstration of abstract.\n",
    "abstract class A {\n",
    "    abstract void callme();\n",
    "    // concrete methods are still allowed in abstract classes\n",
    "    void callmetoo() {\n",
    "        System.out.println(\"This is a concrete method.\");\n",
    "    }\n",
    "}\n",
    "\n",
    "class B extends A {\n",
    "    void callme() {\n",
    "        System.out.println(\"B's implementation of callme.\");\n",
    "    }\n",
    "}"
   ]
  },
  {
   "cell_type": "code",
   "execution_count": 3,
   "id": "b181ace8-3934-4b3e-abe4-420446cf41f0",
   "metadata": {},
   "outputs": [
    {
     "name": "stdout",
     "output_type": "stream",
     "text": [
      "B's implementation of callme.\n",
      "This is a concrete method.\n"
     ]
    }
   ],
   "source": [
    "B b = new B();\n",
    "b.callme();\n",
    "b.callmetoo();"
   ]
  },
  {
   "cell_type": "code",
   "execution_count": 4,
   "id": "0779a8e2-5286-480b-a968-f1af43092258",
   "metadata": {},
   "outputs": [
    {
     "ename": "CompilationException",
     "evalue": "",
     "output_type": "error",
     "traceback": [
      "\u001b[1m\u001b[30m|   \u001b[1m\u001b[30mA a = \u001b[0m\u001b[1m\u001b[30m\u001b[41mnew A()\u001b[0m\u001b[1m\u001b[30m;\u001b[0m",
      "\u001b[1m\u001b[31mA is abstract; cannot be instantiated\u001b[0m",
      ""
     ]
    }
   ],
   "source": [
    "A a = new A();"
   ]
  },
  {
   "cell_type": "code",
   "execution_count": 5,
   "id": "bb023568-7617-4975-aa47-50628698a417",
   "metadata": {},
   "outputs": [],
   "source": [
    "// Using abstract methods and classes.\n",
    "abstract class Figure {\n",
    "    double dim1;\n",
    "    double dim2;\n",
    "    Figure(double a, double b) {\n",
    "        dim1 = a;\n",
    "        dim2 = b;\n",
    "    }\n",
    "    // area is now an abstract method\n",
    "    abstract double area();\n",
    "}\n",
    "\n",
    "class Rectangle extends Figure {\n",
    "    Rectangle(double a, double b) {\n",
    "        super(a, b);\n",
    "    }\n",
    "    // override area for rectangle\n",
    "    double area() {\n",
    "        System.out.println(\"Inside Area for Rectangle.\");\n",
    "        return dim1 * dim2;\n",
    "    }\n",
    "}\n",
    "\n",
    "class Triangle extends Figure {\n",
    "    Triangle(double a, double b) {\n",
    "        super(a, b);\n",
    "    }\n",
    "    // override area for right triangle\n",
    "    double area() {\n",
    "        System.out.println(\"Inside Area for Triangle.\");\n",
    "        return dim1 * dim2 / 2;\n",
    "    }\n",
    "}"
   ]
  },
  {
   "cell_type": "code",
   "execution_count": 6,
   "id": "181dc806-0adc-4fd9-b038-57f22d7daaaa",
   "metadata": {},
   "outputs": [],
   "source": [
    "// Figure f = new Figure(10, 10); // illegal now\n",
    "Rectangle r = new Rectangle(9, 5);\n",
    "Triangle t = new Triangle(10, 8);\n",
    "Figure figref; // this is OK, no object is created"
   ]
  },
  {
   "cell_type": "code",
   "execution_count": 7,
   "id": "4b51ce7f-e086-440c-b550-7826f32e705c",
   "metadata": {},
   "outputs": [
    {
     "name": "stdout",
     "output_type": "stream",
     "text": [
      "Inside Area for Rectangle.\n",
      "Area is 45.0\n"
     ]
    }
   ],
   "source": [
    "figref = r;\n",
    "System.out.println(\"Area is \" + figref.area());"
   ]
  },
  {
   "cell_type": "code",
   "execution_count": 8,
   "id": "e679cdd2-9111-4fab-b353-4c442ee206ec",
   "metadata": {},
   "outputs": [
    {
     "name": "stdout",
     "output_type": "stream",
     "text": [
      "Inside Area for Triangle.\n",
      "Area is 40.0\n"
     ]
    }
   ],
   "source": [
    "figref = t;\n",
    "System.out.println(\"Area is \" + figref.area());"
   ]
  },
  {
   "cell_type": "markdown",
   "id": "c0a64736-fc02-4fad-b375-b349ed52c0ce",
   "metadata": {},
   "source": [
    "## Using final with Inheritance"
   ]
  },
  {
   "cell_type": "markdown",
   "id": "d04b36b7-3b40-44d9-9eeb-003b10e14901",
   "metadata": {},
   "source": [
    "### Using final to Prevent Overriding"
   ]
  },
  {
   "cell_type": "code",
   "execution_count": 46,
   "id": "926b5d77-ab80-49bf-a26f-f59c62a3ef55",
   "metadata": {},
   "outputs": [
    {
     "ename": "CompilationException",
     "evalue": "",
     "output_type": "error",
     "traceback": [
      "\u001b[1m\u001b[30m|   \u001b[1m\u001b[30m    \u001b[0m\u001b[1m\u001b[30m\u001b[41mvoid meth() { // ERROR! Can't override.\u001b[0m",
      "\u001b[1m\u001b[30m|   \u001b[1m\u001b[30m\u001b[41m        System.out.println(\"Illegal!\");\u001b[0m",
      "\u001b[1m\u001b[30m|   \u001b[1m\u001b[30m\u001b[41m    }\u001b[0m",
      "\u001b[1m\u001b[31mmeth() in B cannot override meth() in A\u001b[0m",
      "\u001b[1m\u001b[31m  overridden method is final\u001b[0m",
      ""
     ]
    }
   ],
   "source": [
    "class A {\n",
    "    final void meth() {\n",
    "        System.out.println(\"This is a final method.\");\n",
    "    }\n",
    "}\n",
    "\n",
    "class B extends A {\n",
    "    void meth() { // ERROR! Can't override.\n",
    "        System.out.println(\"Illegal!\");\n",
    "    }\n",
    "}"
   ]
  },
  {
   "cell_type": "markdown",
   "id": "cd240b08-9e2c-4d60-bee7-776c7308ceb8",
   "metadata": {},
   "source": [
    "### Using final to Prevent Inheritance"
   ]
  },
  {
   "cell_type": "code",
   "execution_count": 47,
   "id": "51521bd7-a7db-4981-9c31-e6306cf571e9",
   "metadata": {},
   "outputs": [
    {
     "ename": "CompilationException",
     "evalue": "",
     "output_type": "error",
     "traceback": [
      "\u001b[1m\u001b[30m|   \u001b[1m\u001b[30mclass B extends \u001b[0m\u001b[1m\u001b[30m\u001b[41mA\u001b[0m\u001b[1m\u001b[30m { // ERROR! Can't subclass A\u001b[0m",
      "\u001b[1m\u001b[31mcannot inherit from final A\u001b[0m",
      ""
     ]
    }
   ],
   "source": [
    "final class A {\n",
    "    //...\n",
    "}\n",
    "\n",
    "// The following class is illegal.\n",
    "class B extends A { // ERROR! Can't subclass A\n",
    "    //...\n",
    "}"
   ]
  },
  {
   "cell_type": "markdown",
   "id": "dc562dd0-4496-4b38-a655-e66bf3241b04",
   "metadata": {},
   "source": [
    "## Object Class"
   ]
  },
  {
   "cell_type": "code",
   "execution_count": 38,
   "id": "5c5219d2-4db6-43ad-8f27-0d0fcf60235a",
   "metadata": {},
   "outputs": [],
   "source": [
    "Object o = new int[3];"
   ]
  },
  {
   "cell_type": "code",
   "execution_count": 45,
   "id": "746ae60e-fed3-4ea7-816c-6d346d5b3b62",
   "metadata": {},
   "outputs": [
    {
     "data": {
      "text/plain": [
       "0"
      ]
     },
     "execution_count": 45,
     "metadata": {},
     "output_type": "execute_result"
    }
   ],
   "source": [
    "((int[]) o)[0]"
   ]
  }
 ],
 "metadata": {
  "kernelspec": {
   "display_name": "Java",
   "language": "java",
   "name": "java"
  },
  "language_info": {
   "codemirror_mode": "java",
   "file_extension": ".jshell",
   "mimetype": "text/x-java-source",
   "name": "Java",
   "pygments_lexer": "java",
   "version": "21.0.1+12-LTS"
  }
 },
 "nbformat": 4,
 "nbformat_minor": 5
}

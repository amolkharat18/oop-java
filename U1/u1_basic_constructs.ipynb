{
 "cells": [
  {
   "cell_type": "markdown",
   "id": "1a222956-4f5d-4c5e-82b8-ed7a9cf8008b",
   "metadata": {},
   "source": [
    "# Basic Programming Constructs"
   ]
  },
  {
   "cell_type": "markdown",
   "id": "c9586e3c-4524-4fc3-ace9-cc3d8bd0f58d",
   "metadata": {},
   "source": [
    "# Variables"
   ]
  },
  {
   "cell_type": "code",
   "execution_count": 1,
   "id": "42dc4db2-ace4-41ba-a66d-cc067dee7a1d",
   "metadata": {},
   "outputs": [],
   "source": [
    "int a, b, c; // declares three ints, a, b, and c.\n",
    "int d = 3, e, f = 5; // declares three more ints, initializing d and f.\n",
    "byte z = 22; // initializes z.\n",
    "double pi = 3.14159; // declares an approximation of pi.\n",
    "char x = 'x'; // the variable x has the value 'x'."
   ]
  },
  {
   "cell_type": "markdown",
   "id": "699d92e6-50b2-4b79-889c-13c58935cb6e",
   "metadata": {},
   "source": [
    "## Dynamic Initialization"
   ]
  },
  {
   "cell_type": "code",
   "execution_count": 2,
   "id": "80b61292-5cef-4c27-b89b-e7d02b91a82d",
   "metadata": {},
   "outputs": [
    {
     "name": "stdout",
     "output_type": "stream",
     "text": [
      "Hypotenuse is 5.0\n"
     ]
    }
   ],
   "source": [
    "// dynamic initialization\n",
    "double a = 3.0, b = 4.0;\n",
    "// c is dynamically initialized\n",
    "double c = Math.sqrt(a * a + b * b);\n",
    "System.out.println(\"Hypotenuse is \" + c);"
   ]
  },
  {
   "cell_type": "markdown",
   "id": "26fb4e12-5f5f-4476-99db-ad4a70001f77",
   "metadata": {},
   "source": [
    "## The Scope and Lifetime of Variables"
   ]
  },
  {
   "cell_type": "code",
   "execution_count": 3,
   "id": "9d1797ae-b802-4b25-9ef1-1b6b2d81fafa",
   "metadata": {},
   "outputs": [
    {
     "name": "stdout",
     "output_type": "stream",
     "text": [
      "x and y: 10 20\n",
      "x is 40\n"
     ]
    }
   ],
   "source": [
    "// Demonstrate block scope.\n",
    "int x; // known to all code within main\n",
    "x = 10;\n",
    "if(x == 10) { // start new scope\n",
    "    int y = 20; // known only to this block\n",
    "    // x and y both known here.\n",
    "    System.out.println(\"x and y: \" + x + \" \" + y);\n",
    "    x = y * 2;\n",
    "}\n",
    "// y = 100; // Error! y not known here\n",
    "// x is still known here.\n",
    "System.out.println(\"x is \" + x);"
   ]
  },
  {
   "cell_type": "code",
   "execution_count": 4,
   "id": "571d4580-d751-415f-b1a0-7bcf10791abd",
   "metadata": {},
   "outputs": [
    {
     "ename": "CompilationException",
     "evalue": "",
     "output_type": "error",
     "traceback": [
      "\u001b[1m\u001b[30m|   \u001b[1m\u001b[30m\u001b[0m\u001b[1m\u001b[30m\u001b[41mcount\u001b[0m\u001b[1m\u001b[30m = 100;\u001b[0m",
      "\u001b[1m\u001b[31mcannot find symbol\u001b[0m",
      "\u001b[1m\u001b[31m  symbol:   variable count\u001b[0m",
      ""
     ]
    }
   ],
   "source": [
    "// This fragment is wrong!\n",
    "count = 100; // oops! cannot use count before it is declared!\n",
    "int count;"
   ]
  },
  {
   "cell_type": "code",
   "execution_count": 5,
   "id": "4e4caf00-7b63-4b57-9dd0-f051bba1287f",
   "metadata": {},
   "outputs": [
    {
     "name": "stdout",
     "output_type": "stream",
     "text": [
      "y is: -1\n",
      "y is now: 100\n",
      "y is: -1\n",
      "y is now: 100\n",
      "y is: -1\n",
      "y is now: 100\n"
     ]
    }
   ],
   "source": [
    "// Demonstrate lifetime of a variable.\n",
    "int x;\n",
    "for(x = 0; x < 3; x++) {\n",
    "    int y = -1; // y is initialized each time block is entered\n",
    "    System.out.println(\"y is: \" + y); // this always prints -1\n",
    "    y = 100;\n",
    "    System.out.println(\"y is now: \" + y);\n",
    "}"
   ]
  },
  {
   "cell_type": "code",
   "execution_count": 6,
   "id": "b342da93-16c5-4ebf-93bb-b04fcedda62d",
   "metadata": {},
   "outputs": [],
   "source": [
    "// This program will not compile\n",
    "int bar = 1;\n",
    "{ // creates a new scope\n",
    "    int bar = 2; // Compile-time error – bar already defined!\n",
    "}"
   ]
  },
  {
   "cell_type": "markdown",
   "id": "765a0df4-b4a8-4b41-b3e0-511ea4b54538",
   "metadata": {},
   "source": [
    "## Type Conversion and Casting"
   ]
  },
  {
   "cell_type": "markdown",
   "id": "7162cabd-629d-4f14-8719-88d50ad1bbef",
   "metadata": {},
   "source": [
    "### Java’s Automatic Conversions\n",
    "\n",
    "When one type of data is assigned to another type of variable, an automatic type conversion will take place if the following two conditions are met:\n",
    "\n",
    "1. The two types are compatible.\n",
    "2. The destination type is larger than the source type."
   ]
  },
  {
   "cell_type": "markdown",
   "id": "7c6fad8e-e6c3-4dfe-9a03-dee111abb99d",
   "metadata": {},
   "source": [
    "### Casting Incompatible Types\n",
    "\n",
    "(target-type) value"
   ]
  },
  {
   "cell_type": "code",
   "execution_count": 7,
   "id": "7994eae7-e1d2-4d99-8094-5d638ad7d3a8",
   "metadata": {},
   "outputs": [
    {
     "name": "stdout",
     "output_type": "stream",
     "text": [
      "\n",
      "Conversion of int to byte.\n",
      "i and b 257 1\n",
      "\n",
      "Conversion of double to int.\n",
      "d and i 323.142 323\n",
      "\n",
      "Conversion of double to byte.\n",
      "d and b 323.142 67\n"
     ]
    }
   ],
   "source": [
    "// Demonstrate casts.\n",
    "byte b;\n",
    "int i = 257;\n",
    "double d = 323.142;\n",
    "System.out.println(\"\\nConversion of int to byte.\");\n",
    "b = (byte) i;\n",
    "System.out.println(\"i and b \" + i + \" \" + b);\n",
    "System.out.println(\"\\nConversion of double to int.\");\n",
    "i = (int) d;\n",
    "System.out.println(\"d and i \" + d + \" \" + i);\n",
    "System.out.println(\"\\nConversion of double to byte.\");\n",
    "b = (byte) d;\n",
    "System.out.println(\"d and b \" + d + \" \" + b);"
   ]
  },
  {
   "cell_type": "markdown",
   "id": "0c1f7b71-273d-441a-9470-184b616e87a5",
   "metadata": {},
   "source": [
    "### Automatic Type Promotion in Expressions"
   ]
  },
  {
   "cell_type": "code",
   "execution_count": 10,
   "id": "ecba5cf1-4573-4350-b517-16dcb3143b80",
   "metadata": {},
   "outputs": [
    {
     "name": "stdout",
     "output_type": "stream",
     "text": [
      "d = 20\n"
     ]
    }
   ],
   "source": [
    "byte a = 40;\n",
    "byte b = 50;\n",
    "byte c = 100;\n",
    "int d = a * b / c;\n",
    "System.out.println(\"d = \" + d);"
   ]
  },
  {
   "cell_type": "code",
   "execution_count": 11,
   "id": "0dbe4f78-bce3-4417-b6dd-8d293f97053e",
   "metadata": {},
   "outputs": [
    {
     "ename": "CompilationException",
     "evalue": "",
     "output_type": "error",
     "traceback": [
      "\u001b[1m\u001b[30m|   \u001b[1m\u001b[30mb = \u001b[0m\u001b[1m\u001b[30m\u001b[41mb * 2\u001b[0m\u001b[1m\u001b[30m; // Error! Cannot assign an int to a byte!\u001b[0m",
      "\u001b[1m\u001b[31mincompatible types: possible lossy conversion from int to byte\u001b[0m",
      ""
     ]
    }
   ],
   "source": [
    "byte b = 50;\n",
    "b = b * 2; // Error! Cannot assign an int to a byte!"
   ]
  },
  {
   "cell_type": "code",
   "execution_count": 12,
   "id": "4e2d8d1f-1614-4910-b4c3-805d93bd9d5d",
   "metadata": {},
   "outputs": [
    {
     "name": "stdout",
     "output_type": "stream",
     "text": [
      "b = 100\n"
     ]
    }
   ],
   "source": [
    "byte b = 50;\n",
    "b = (byte)(b * 2);\n",
    "System.out.println(\"b = \" + b);"
   ]
  },
  {
   "cell_type": "markdown",
   "id": "30d790e7-e41e-41dd-b5cd-91dce21b08a2",
   "metadata": {},
   "source": [
    "### The Type Promotion Rules\n",
    "\n",
    "- byte, short, and char values are promoted to int\n",
    "- if one operand \n",
    "is a long, the whole expression is promoted to lon\n",
    "- If one operand is a float, the entire \n",
    "expression is promoted to floa\n",
    "- If any of the operands are double, the result is double\n",
    "- t."
   ]
  },
  {
   "cell_type": "code",
   "execution_count": 13,
   "id": "3a405258-ed75-4bd6-9490-a34fdee967f4",
   "metadata": {},
   "outputs": [
    {
     "name": "stdout",
     "output_type": "stream",
     "text": [
      "238.14 + 515 - 126.3616\n",
      "result = 626.7784146484375\n"
     ]
    }
   ],
   "source": [
    "byte b = 42;\n",
    "char c = 'a';\n",
    "short s = 1024;\n",
    "int i = 50000;\n",
    "float f = 5.67f;\n",
    "double d = .1234;\n",
    "double result = (f * b) + (i / c) - (d * s);\n",
    "System.out.println((f * b) + \" + \" + (i / c) + \" - \" + (d * s));\n",
    "System.out.println(\"result = \" + result);"
   ]
  },
  {
   "cell_type": "code",
   "execution_count": null,
   "id": "b109046e-f66f-4867-9d0a-4e740e416e94",
   "metadata": {},
   "outputs": [],
   "source": []
  }
 ],
 "metadata": {
  "kernelspec": {
   "display_name": "Java",
   "language": "java",
   "name": "java"
  },
  "language_info": {
   "codemirror_mode": "java",
   "file_extension": ".jshell",
   "mimetype": "text/x-java-source",
   "name": "Java",
   "pygments_lexer": "java",
   "version": "21.0.1+12-LTS"
  }
 },
 "nbformat": 4,
 "nbformat_minor": 5
}

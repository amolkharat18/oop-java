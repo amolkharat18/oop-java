{
 "cells": [
  {
   "cell_type": "markdown",
   "id": "1a222956-4f5d-4c5e-82b8-ed7a9cf8008b",
   "metadata": {},
   "source": [
    "# Basic Programming Constructs"
   ]
  },
  {
   "cell_type": "markdown",
   "id": "37bc6a5e-501e-4078-88f9-b046b9eb1f1c",
   "metadata": {
    "jp-MarkdownHeadingCollapsed": true
   },
   "source": [
    "# Data Types"
   ]
  },
  {
   "cell_type": "markdown",
   "id": "d990f6e1-b8b0-4ebe-b7d0-6b28ee6c9f13",
   "metadata": {},
   "source": [
    "## Java Is a Strongly Typed Language"
   ]
  },
  {
   "cell_type": "markdown",
   "id": "dfe26112-599f-49bf-b89a-531b498037f9",
   "metadata": {},
   "source": [
    "## The Primitive Types\n",
    "\n",
    "1. byte (8 bits: –128 to 127)\n",
    "2. short (16 bits: –32,768 to 32,767)\n",
    "3. int (32 bits: –2,147,483,648 to 2,147,483,647)\n",
    "4. long (64 bits: –9,223,372,036,854,775,808 to 9,223,372,036,854,775,807)\n",
    "5. char (16 bits: 0 to 65,535)\n",
    "6. float (32 bite: 1.4e–045 to 3.4e+038)\n",
    "7. double (64 bits: 4.9e–324 to 1.8e+308)\n",
    "8. \n",
    "boolean"
   ]
  },
  {
   "cell_type": "code",
   "execution_count": 1,
   "id": "538379cd-4b5c-443d-be85-6f285e345232",
   "metadata": {},
   "outputs": [],
   "source": [
    "byte b, c;\n",
    "short s;\n",
    "short t;"
   ]
  },
  {
   "cell_type": "code",
   "execution_count": 2,
   "id": "2bb63753-78f5-4a07-af22-26cf66018089",
   "metadata": {},
   "outputs": [
    {
     "name": "stdout",
     "output_type": "stream",
     "text": [
      "In 1000 days light will travel about 16070400000000 miles.\n"
     ]
    }
   ],
   "source": [
    "int lightspeed;\n",
    "long days;\n",
    "long seconds;\n",
    "long distance;\n",
    "// approximate speed of light in miles per second\n",
    "lightspeed = 186000;\n",
    "days = 1000; // specify number of days here\n",
    "seconds = days * 24 * 60 * 60; // convert to seconds\n",
    "distance = lightspeed * seconds; // compute distance\n",
    "System.out.print(\"In \" + days);\n",
    "System.out.print(\" days light will travel about \");\n",
    "System.out.println(distance + \" miles.\");"
   ]
  },
  {
   "cell_type": "code",
   "execution_count": 3,
   "id": "c8aed536-c149-473c-a84d-6100028e76a8",
   "metadata": {},
   "outputs": [],
   "source": [
    "float hightemp, lowtemp;"
   ]
  },
  {
   "cell_type": "code",
   "execution_count": 4,
   "id": "166694ff-cda2-4cf5-ae15-447db5556ca0",
   "metadata": {},
   "outputs": [
    {
     "name": "stdout",
     "output_type": "stream",
     "text": [
      "Area of circle is 366.436224\n"
     ]
    }
   ],
   "source": [
    "double pi, r, a;\n",
    "r = 10.8; // radius of circle\n",
    "pi = 3.1416; // pi, approximately\n",
    "a = pi * r * r; // compute area\n",
    "System.out.println(\"Area of circle is \" + a);"
   ]
  },
  {
   "cell_type": "code",
   "execution_count": 5,
   "id": "38597d9f-a233-40f5-96c2-f400fe175d6a",
   "metadata": {},
   "outputs": [
    {
     "name": "stdout",
     "output_type": "stream",
     "text": [
      "ch1 and ch2: X Y\n"
     ]
    }
   ],
   "source": [
    "char ch1, ch2;\n",
    "ch1 = 88; // code for X\n",
    "ch2 = 'Y';\n",
    "System.out.print(\"ch1 and ch2: \");\n",
    "System.out.println(ch1 + \" \" + ch2);"
   ]
  },
  {
   "cell_type": "code",
   "execution_count": 6,
   "id": "36157cdd-2c05-422d-a6aa-249a9499934d",
   "metadata": {},
   "outputs": [
    {
     "name": "stdout",
     "output_type": "stream",
     "text": [
      "ch1 contains X\n",
      "ch1 is now Y\n"
     ]
    }
   ],
   "source": [
    "char ch1;\n",
    "ch1 = 'X';\n",
    "System.out.println(\"ch1 contains \" + ch1);\n",
    "ch1++; // increment ch1\n",
    "System.out.println(\"ch1 is now \" + ch1);"
   ]
  },
  {
   "cell_type": "code",
   "execution_count": 7,
   "id": "bd62a407-e673-4d40-b9f1-4d153461faba",
   "metadata": {},
   "outputs": [
    {
     "name": "stdout",
     "output_type": "stream",
     "text": [
      "b is false\n",
      "b is true\n",
      "This is executed.\n",
      "10 > 9 is true\n"
     ]
    }
   ],
   "source": [
    "boolean b;\n",
    "b = false;\n",
    "System.out.println(\"b is \" + b);\n",
    "b = true;\n",
    "System.out.println(\"b is \" + b);\n",
    "// a boolean value can control the if statement\n",
    "if(b) System.out.println(\"This is executed.\");\n",
    "b = false;\n",
    "if(b) System.out.println(\"This is not executed.\");\n",
    "// outcome of a relational operator is a boolean value\n",
    "System.out.println(\"10 > 9 is \" + (10 > 9));"
   ]
  },
  {
   "cell_type": "markdown",
   "id": "73993685-0bf5-42f7-bbff-467483e0f9de",
   "metadata": {
    "jp-MarkdownHeadingCollapsed": true
   },
   "source": [
    "# Literals"
   ]
  },
  {
   "cell_type": "markdown",
   "id": "5d370ee6-0130-4b3c-8712-166052f2f6c4",
   "metadata": {},
   "source": [
    "## Integer Literals"
   ]
  },
  {
   "cell_type": "code",
   "execution_count": 15,
   "id": "157ae670-a600-4f7f-9b36-47f164825a8b",
   "metadata": {},
   "outputs": [],
   "source": [
    "int octal = 07; // leading 0\n",
    "int hex = 0x12FF; // leading (0x or 0X)\n",
    "int binary = 0b0110; // leading (0b or 0B)\n",
    "int y = 123_456_789;\n",
    "int z = 123___456___789;\n",
    "int b = 0b1101_0101_0001_1010;\n",
    "long x = 9223372036854775807L; // appending an upper- or lowercase L"
   ]
  },
  {
   "cell_type": "markdown",
   "id": "bf3bd1bb-2c06-46f7-ad03-086267337d3d",
   "metadata": {},
   "source": [
    "## Floating-Point Literals"
   ]
  },
  {
   "cell_type": "code",
   "execution_count": 19,
   "id": "f9dde0a9-2161-4d65-a0c8-6b9f01d485b1",
   "metadata": {},
   "outputs": [],
   "source": [
    "float f = 12.3f; // appending an upper- or lowercase F"
   ]
  },
  {
   "cell_type": "code",
   "execution_count": 20,
   "id": "30286245-4af8-4abb-8963-4dd1f7343711",
   "metadata": {},
   "outputs": [
    {
     "name": "stdout",
     "output_type": "stream",
     "text": [
      "9423497.109\n"
     ]
    }
   ],
   "source": [
    "double num = 9_423_497.1_0_9;\n",
    "System.out.println(num);"
   ]
  },
  {
   "cell_type": "markdown",
   "id": "c9586e3c-4524-4fc3-ace9-cc3d8bd0f58d",
   "metadata": {
    "jp-MarkdownHeadingCollapsed": true
   },
   "source": [
    "# Variables"
   ]
  },
  {
   "cell_type": "code",
   "execution_count": 1,
   "id": "42dc4db2-ace4-41ba-a66d-cc067dee7a1d",
   "metadata": {},
   "outputs": [],
   "source": [
    "int a, b, c; // declares three ints, a, b, and c.\n",
    "int d = 3, e, f = 5; // declares three more ints, initializing d and f.\n",
    "byte z = 22; // initializes z.\n",
    "double pi = 3.14159; // declares an approximation of pi.\n",
    "char x = 'x'; // the variable x has the value 'x'."
   ]
  },
  {
   "cell_type": "markdown",
   "id": "699d92e6-50b2-4b79-889c-13c58935cb6e",
   "metadata": {},
   "source": [
    "## Dynamic Initialization"
   ]
  },
  {
   "cell_type": "code",
   "execution_count": 2,
   "id": "80b61292-5cef-4c27-b89b-e7d02b91a82d",
   "metadata": {},
   "outputs": [
    {
     "name": "stdout",
     "output_type": "stream",
     "text": [
      "Hypotenuse is 5.0\n"
     ]
    }
   ],
   "source": [
    "// dynamic initialization\n",
    "double a = 3.0, b = 4.0;\n",
    "// c is dynamically initialized\n",
    "double c = Math.sqrt(a * a + b * b);\n",
    "System.out.println(\"Hypotenuse is \" + c);"
   ]
  },
  {
   "cell_type": "markdown",
   "id": "26fb4e12-5f5f-4476-99db-ad4a70001f77",
   "metadata": {},
   "source": [
    "## The Scope and Lifetime of Variables"
   ]
  },
  {
   "cell_type": "code",
   "execution_count": 3,
   "id": "9d1797ae-b802-4b25-9ef1-1b6b2d81fafa",
   "metadata": {},
   "outputs": [
    {
     "name": "stdout",
     "output_type": "stream",
     "text": [
      "x and y: 10 20\n",
      "x is 40\n"
     ]
    }
   ],
   "source": [
    "// Demonstrate block scope.\n",
    "int x; // known to all code within main\n",
    "x = 10;\n",
    "if(x == 10) { // start new scope\n",
    "    int y = 20; // known only to this block\n",
    "    // x and y both known here.\n",
    "    System.out.println(\"x and y: \" + x + \" \" + y);\n",
    "    x = y * 2;\n",
    "}\n",
    "// y = 100; // Error! y not known here\n",
    "// x is still known here.\n",
    "System.out.println(\"x is \" + x);"
   ]
  },
  {
   "cell_type": "code",
   "execution_count": 4,
   "id": "571d4580-d751-415f-b1a0-7bcf10791abd",
   "metadata": {},
   "outputs": [
    {
     "ename": "CompilationException",
     "evalue": "",
     "output_type": "error",
     "traceback": [
      "\u001b[1m\u001b[30m|   \u001b[1m\u001b[30m\u001b[0m\u001b[1m\u001b[30m\u001b[41mcount\u001b[0m\u001b[1m\u001b[30m = 100;\u001b[0m",
      "\u001b[1m\u001b[31mcannot find symbol\u001b[0m",
      "\u001b[1m\u001b[31m  symbol:   variable count\u001b[0m",
      ""
     ]
    }
   ],
   "source": [
    "// This fragment is wrong!\n",
    "count = 100; // oops! cannot use count before it is declared!\n",
    "int count;"
   ]
  },
  {
   "cell_type": "code",
   "execution_count": 5,
   "id": "4e4caf00-7b63-4b57-9dd0-f051bba1287f",
   "metadata": {},
   "outputs": [
    {
     "name": "stdout",
     "output_type": "stream",
     "text": [
      "y is: -1\n",
      "y is now: 100\n",
      "y is: -1\n",
      "y is now: 100\n",
      "y is: -1\n",
      "y is now: 100\n"
     ]
    }
   ],
   "source": [
    "// Demonstrate lifetime of a variable.\n",
    "int x;\n",
    "for(x = 0; x < 3; x++) {\n",
    "    int y = -1; // y is initialized each time block is entered\n",
    "    System.out.println(\"y is: \" + y); // this always prints -1\n",
    "    y = 100;\n",
    "    System.out.println(\"y is now: \" + y);\n",
    "}"
   ]
  },
  {
   "cell_type": "code",
   "execution_count": 6,
   "id": "b342da93-16c5-4ebf-93bb-b04fcedda62d",
   "metadata": {},
   "outputs": [],
   "source": [
    "// This program will not compile\n",
    "int bar = 1;\n",
    "{ // creates a new scope\n",
    "    int bar = 2; // Compile-time error – bar already defined!\n",
    "}"
   ]
  },
  {
   "cell_type": "markdown",
   "id": "765a0df4-b4a8-4b41-b3e0-511ea4b54538",
   "metadata": {},
   "source": [
    "## Type Conversion and Casting"
   ]
  },
  {
   "cell_type": "markdown",
   "id": "7162cabd-629d-4f14-8719-88d50ad1bbef",
   "metadata": {},
   "source": [
    "### Java’s Automatic Conversions\n",
    "\n",
    "When one type of data is assigned to another type of variable, an automatic type conversion will take place if the following two conditions are met:\n",
    "\n",
    "1. The two types are compatible.\n",
    "2. The destination type is larger than the source type."
   ]
  },
  {
   "cell_type": "markdown",
   "id": "7c6fad8e-e6c3-4dfe-9a03-dee111abb99d",
   "metadata": {},
   "source": [
    "### Casting Incompatible Types\n",
    "\n",
    "(target-type) value"
   ]
  },
  {
   "cell_type": "code",
   "execution_count": 7,
   "id": "7994eae7-e1d2-4d99-8094-5d638ad7d3a8",
   "metadata": {},
   "outputs": [
    {
     "name": "stdout",
     "output_type": "stream",
     "text": [
      "\n",
      "Conversion of int to byte.\n",
      "i and b 257 1\n",
      "\n",
      "Conversion of double to int.\n",
      "d and i 323.142 323\n",
      "\n",
      "Conversion of double to byte.\n",
      "d and b 323.142 67\n"
     ]
    }
   ],
   "source": [
    "// Demonstrate casts.\n",
    "byte b;\n",
    "int i = 257;\n",
    "double d = 323.142;\n",
    "System.out.println(\"\\nConversion of int to byte.\");\n",
    "b = (byte) i;\n",
    "System.out.println(\"i and b \" + i + \" \" + b);\n",
    "System.out.println(\"\\nConversion of double to int.\");\n",
    "i = (int) d;\n",
    "System.out.println(\"d and i \" + d + \" \" + i);\n",
    "System.out.println(\"\\nConversion of double to byte.\");\n",
    "b = (byte) d;\n",
    "System.out.println(\"d and b \" + d + \" \" + b);"
   ]
  },
  {
   "cell_type": "markdown",
   "id": "0c1f7b71-273d-441a-9470-184b616e87a5",
   "metadata": {},
   "source": [
    "### Automatic Type Promotion in Expressions"
   ]
  },
  {
   "cell_type": "code",
   "execution_count": 10,
   "id": "ecba5cf1-4573-4350-b517-16dcb3143b80",
   "metadata": {},
   "outputs": [
    {
     "name": "stdout",
     "output_type": "stream",
     "text": [
      "d = 20\n"
     ]
    }
   ],
   "source": [
    "byte a = 40;\n",
    "byte b = 50;\n",
    "byte c = 100;\n",
    "int d = a * b / c;\n",
    "System.out.println(\"d = \" + d);"
   ]
  },
  {
   "cell_type": "code",
   "execution_count": 11,
   "id": "0dbe4f78-bce3-4417-b6dd-8d293f97053e",
   "metadata": {},
   "outputs": [
    {
     "ename": "CompilationException",
     "evalue": "",
     "output_type": "error",
     "traceback": [
      "\u001b[1m\u001b[30m|   \u001b[1m\u001b[30mb = \u001b[0m\u001b[1m\u001b[30m\u001b[41mb * 2\u001b[0m\u001b[1m\u001b[30m; // Error! Cannot assign an int to a byte!\u001b[0m",
      "\u001b[1m\u001b[31mincompatible types: possible lossy conversion from int to byte\u001b[0m",
      ""
     ]
    }
   ],
   "source": [
    "byte b = 50;\n",
    "b = b * 2; // Error! Cannot assign an int to a byte!"
   ]
  },
  {
   "cell_type": "code",
   "execution_count": 12,
   "id": "4e2d8d1f-1614-4910-b4c3-805d93bd9d5d",
   "metadata": {},
   "outputs": [
    {
     "name": "stdout",
     "output_type": "stream",
     "text": [
      "b = 100\n"
     ]
    }
   ],
   "source": [
    "byte b = 50;\n",
    "b = (byte)(b * 2);\n",
    "System.out.println(\"b = \" + b);"
   ]
  },
  {
   "cell_type": "markdown",
   "id": "30d790e7-e41e-41dd-b5cd-91dce21b08a2",
   "metadata": {},
   "source": [
    "### The Type Promotion Rules\n",
    "\n",
    "- byte, short, and char values are promoted to int\n",
    "- if one operand \n",
    "is a long, the whole expression is promoted to lon\n",
    "- If one operand is a float, the entire \n",
    "expression is promoted to floa\n",
    "- If any of the operands are double, the result is double\n",
    "- t."
   ]
  },
  {
   "cell_type": "code",
   "execution_count": 13,
   "id": "3a405258-ed75-4bd6-9490-a34fdee967f4",
   "metadata": {},
   "outputs": [
    {
     "name": "stdout",
     "output_type": "stream",
     "text": [
      "238.14 + 515 - 126.3616\n",
      "result = 626.7784146484375\n"
     ]
    }
   ],
   "source": [
    "byte b = 42;\n",
    "char c = 'a';\n",
    "short s = 1024;\n",
    "int i = 50000;\n",
    "float f = 5.67f;\n",
    "double d = .1234;\n",
    "double result = (f * b) + (i / c) - (d * s);\n",
    "System.out.println((f * b) + \" + \" + (i / c) + \" - \" + (d * s));\n",
    "System.out.println(\"result = \" + result);"
   ]
  },
  {
   "cell_type": "markdown",
   "id": "3bf33b6f-20b6-4ddf-93d5-8632159db42e",
   "metadata": {},
   "source": [
    "# Operators"
   ]
  },
  {
   "cell_type": "markdown",
   "id": "99f3a864-496d-40d3-a6b7-69e95589ee98",
   "metadata": {
    "jp-MarkdownHeadingCollapsed": true
   },
   "source": [
    "## Arithmetic Operators"
   ]
  },
  {
   "cell_type": "markdown",
   "id": "495b3001-9015-4281-b2df-c67260b07b76",
   "metadata": {
    "jp-MarkdownHeadingCollapsed": true
   },
   "source": [
    "### The Basic Arithmetic Operators"
   ]
  },
  {
   "cell_type": "code",
   "execution_count": 1,
   "id": "9e9a510f-f619-4dc2-8abb-5025f2fe88b2",
   "metadata": {},
   "outputs": [
    {
     "name": "stdout",
     "output_type": "stream",
     "text": [
      "Integer Arithmetic\n",
      "a = 2\n",
      "b = 6\n",
      "c = 1\n",
      "d = -1\n",
      "e = 1\n"
     ]
    }
   ],
   "source": [
    "// Demonstrate the basic arithmetic operators.\n",
    "// arithmetic using integers\n",
    "System.out.println(\"Integer Arithmetic\");\n",
    "int a = 1 + 1;\n",
    "int b = a * 3;\n",
    "int c = b / 4;\n",
    "int d = c - a;\n",
    "int e = -d;\n",
    "System.out.println(\"a = \" + a);\n",
    "System.out.println(\"b = \" + b);\n",
    "System.out.println(\"c = \" + c);\n",
    "System.out.println(\"d = \" + d);\n",
    "System.out.println(\"e = \" + e);"
   ]
  },
  {
   "cell_type": "code",
   "execution_count": 2,
   "id": "b350eedc-3baf-48b0-bdc3-4db317733931",
   "metadata": {},
   "outputs": [
    {
     "name": "stdout",
     "output_type": "stream",
     "text": [
      "\n",
      "Floating Point Arithmetic\n",
      "da = 2.0\n",
      "db = 6.0\n",
      "dc = 1.5\n",
      "dd = -0.5\n",
      "de = 0.5\n"
     ]
    }
   ],
   "source": [
    "// arithmetic using doubles\n",
    "System.out.println(\"\\nFloating Point Arithmetic\");\n",
    "double da = 1 + 1;\n",
    "double db = da * 3;\n",
    "double dc = db / 4;\n",
    "double dd = dc - a;\n",
    "double de = -dd;\n",
    "System.out.println(\"da = \" + da);\n",
    "System.out.println(\"db = \" + db);\n",
    "System.out.println(\"dc = \" + dc);\n",
    "System.out.println(\"dd = \" + dd);\n",
    "System.out.println(\"de = \" + de);"
   ]
  },
  {
   "cell_type": "markdown",
   "id": "5576b2ed-c11e-4432-80d7-57a1e3de5f80",
   "metadata": {},
   "source": [
    "### The Modulus Operator"
   ]
  },
  {
   "cell_type": "code",
   "execution_count": 4,
   "id": "4b8938a4-01de-41e9-87fd-805ba5c40276",
   "metadata": {},
   "outputs": [
    {
     "name": "stdout",
     "output_type": "stream",
     "text": [
      "x mod 10 = 2\n",
      "y mod 10 = 2.25\n"
     ]
    }
   ],
   "source": [
    "// Demonstrate the % operator.\n",
    "int x = 42;\n",
    "double y = 42.25;\n",
    "System.out.println(\"x mod 10 = \" + x % 10);\n",
    "System.out.println(\"y mod 10 = \" + y % 10);"
   ]
  },
  {
   "cell_type": "markdown",
   "id": "170da759-d788-4734-b4d2-721e00785e76",
   "metadata": {},
   "source": [
    "### Arithmetic Compound Assignment Operators"
   ]
  },
  {
   "cell_type": "code",
   "execution_count": 5,
   "id": "cdbd485a-f1dc-4dd4-a7ff-4e950e697008",
   "metadata": {},
   "outputs": [
    {
     "name": "stdout",
     "output_type": "stream",
     "text": [
      "a = 6\n",
      "b = 8\n",
      "c = 3\n"
     ]
    }
   ],
   "source": [
    "// var = var op expression;\n",
    "// Demonstrate several assignment operators.\n",
    "int a = 1;\n",
    "int b = 2;\n",
    "int c = 3;\n",
    "a += 5;\n",
    "b *= 4;\n",
    "c += a * b;\n",
    "c %= 6;\n",
    "System.out.println(\"a = \" + a);\n",
    "System.out.println(\"b = \" + b);\n",
    "System.out.println(\"c = \" + c);"
   ]
  },
  {
   "cell_type": "markdown",
   "id": "84d08135-12e3-4403-b45e-8579faa2d85d",
   "metadata": {},
   "source": [
    "### Increment and Decrement"
   ]
  },
  {
   "cell_type": "code",
   "execution_count": 7,
   "id": "6d767255-f30c-41b0-b13a-09585d1c68dd",
   "metadata": {},
   "outputs": [
    {
     "name": "stdout",
     "output_type": "stream",
     "text": [
      "a = 2\n",
      "b = 3\n",
      "c = 4\n",
      "d = 1\n"
     ]
    }
   ],
   "source": [
    "// Demonstrate ++\n",
    "int a = 1;\n",
    "int b = 2;\n",
    "int c;\n",
    "int d;\n",
    "c = ++b;\n",
    "d = a++;\n",
    "c++;\n",
    "System.out.println(\"a = \" + a);\n",
    "System.out.println(\"b = \" + b);\n",
    "System.out.println(\"c = \" + c);\n",
    "System.out.println(\"d = \" + d);"
   ]
  },
  {
   "cell_type": "code",
   "execution_count": 9,
   "id": "8dc480ef-fb39-4511-ade6-15f539c062ed",
   "metadata": {},
   "outputs": [
    {
     "name": "stdout",
     "output_type": "stream",
     "text": [
      "a = 2\n",
      "b = 3\n",
      "c = 2\n",
      "d = 3\n"
     ]
    }
   ],
   "source": [
    "// Demonstrate --\n",
    "int a = 3;\n",
    "int b = 4;\n",
    "int c;\n",
    "int d;\n",
    "c = --b;\n",
    "d = a--;\n",
    "c--;\n",
    "System.out.println(\"a = \" + a);\n",
    "System.out.println(\"b = \" + b);\n",
    "System.out.println(\"c = \" + c);\n",
    "System.out.println(\"d = \" + d);"
   ]
  },
  {
   "cell_type": "markdown",
   "id": "536da1db-0111-4285-8e40-958fcd319555",
   "metadata": {
    "jp-MarkdownHeadingCollapsed": true
   },
   "source": [
    "## Relational Operators"
   ]
  },
  {
   "cell_type": "code",
   "execution_count": 13,
   "id": "fd71c6a8-4f6e-43e7-9d3c-9d732fca86ad",
   "metadata": {},
   "outputs": [
    {
     "name": "stdout",
     "output_type": "stream",
     "text": [
      "a == b false\n",
      "a != b true\n",
      "a < b true\n",
      "a <= b true\n",
      "a > b false\n",
      "a >= b false\n"
     ]
    }
   ],
   "source": [
    "int a = 1;\n",
    "int b = 2;\n",
    "System.out.println(\"a == b \" + (a == b));\n",
    "System.out.println(\"a != b \" + (a != b));\n",
    "System.out.println(\"a < b \" + (a < b));\n",
    "System.out.println(\"a <= b \" + (a <= b));\n",
    "System.out.println(\"a > b \" + (a > b));\n",
    "System.out.println(\"a >= b \" + (a >= b));"
   ]
  },
  {
   "cell_type": "markdown",
   "id": "fcd1325e-3a9c-423a-8bdd-cfc069dc8f8d",
   "metadata": {
    "jp-MarkdownHeadingCollapsed": true
   },
   "source": [
    "## Logical Operators"
   ]
  },
  {
   "cell_type": "code",
   "execution_count": 1,
   "id": "c6d095a3-4eba-44a7-8df5-5f53dec15c05",
   "metadata": {},
   "outputs": [
    {
     "name": "stdout",
     "output_type": "stream",
     "text": [
      " a = true\n",
      " b = false\n",
      " a|b = true\n",
      " a&b = false\n",
      " a^b = true\n",
      "!a&b|a&!b = true\n",
      " !a = false\n"
     ]
    }
   ],
   "source": [
    "// Demonstrate the boolean logical operators.\n",
    "boolean a = true;\n",
    "boolean b = false;\n",
    "boolean c = a | b;\n",
    "boolean d = a & b;\n",
    "boolean e = a ^ b;\n",
    "boolean f = (!a & b) | (a & !b);\n",
    "boolean g = !a;\n",
    "System.out.println(\" a = \" + a);\n",
    "System.out.println(\" b = \" + b);\n",
    "System.out.println(\" a|b = \" + c);\n",
    "System.out.println(\" a&b = \" + d);\n",
    "System.out.println(\" a^b = \" + e);\n",
    "System.out.println(\"!a&b|a&!b = \" + f);\n",
    "System.out.println(\" !a = \" + g);"
   ]
  },
  {
   "cell_type": "markdown",
   "id": "197ec1ec-cfec-4040-b20b-a91f682d5aa5",
   "metadata": {},
   "source": [
    "### Short-Circuit Logical Operators"
   ]
  },
  {
   "cell_type": "code",
   "execution_count": 4,
   "id": "f3d8c087-3037-478f-a120-fff6aeadf725",
   "metadata": {},
   "outputs": [
    {
     "name": "stdout",
     "output_type": "stream",
     "text": [
      "false\n"
     ]
    }
   ],
   "source": [
    "int num = 123;\n",
    "int denom = 0;\n",
    "System.out.println(denom != 0 && num / denom > 10);"
   ]
  },
  {
   "cell_type": "markdown",
   "id": "395fffe0-632a-4f91-846c-c0d7d7ec489d",
   "metadata": {},
   "source": [
    "## The Assignment Operator"
   ]
  },
  {
   "cell_type": "code",
   "execution_count": 5,
   "id": "9e1e7024-da85-4a2a-8ea7-29feec97905a",
   "metadata": {},
   "outputs": [],
   "source": [
    "// var = expression;\n",
    "int x, y, z;\n",
    "x = y = z = 100; // set x, y, and z to 100"
   ]
  },
  {
   "cell_type": "markdown",
   "id": "2723bf86-99de-446d-b531-cba7c7603bd9",
   "metadata": {},
   "source": [
    "## The ? Operator"
   ]
  },
  {
   "cell_type": "code",
   "execution_count": 6,
   "id": "5030fd36-9678-45c0-a957-5e49ee1270b9",
   "metadata": {},
   "outputs": [
    {
     "name": "stdout",
     "output_type": "stream",
     "text": [
      "Absolute value of 10 is 10\n",
      "Absolute value of -10 is 10\n"
     ]
    }
   ],
   "source": [
    "int i, k;\n",
    "i = 10;\n",
    "k = i < 0 ? -i : i; // get absolute value of i\n",
    "System.out.print(\"Absolute value of \");\n",
    "System.out.println(i + \" is \" + k);\n",
    "i = -10;\n",
    "k = i < 0 ? -i : i; // get absolute value of i\n",
    "System.out.print(\"Absolute value of \");\n",
    "System.out.println(i + \" is \" + k);"
   ]
  },
  {
   "cell_type": "code",
   "execution_count": null,
   "id": "1bc6a32c-bdd5-499b-a3aa-02728d7e7278",
   "metadata": {},
   "outputs": [],
   "source": []
  }
 ],
 "metadata": {
  "kernelspec": {
   "display_name": "Java",
   "language": "java",
   "name": "java"
  },
  "language_info": {
   "codemirror_mode": "java",
   "file_extension": ".jshell",
   "mimetype": "text/x-java-source",
   "name": "Java",
   "pygments_lexer": "java",
   "version": "21.0.1+12-LTS"
  }
 },
 "nbformat": 4,
 "nbformat_minor": 5
}

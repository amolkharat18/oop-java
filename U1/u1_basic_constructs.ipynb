{
 "cells": [
  {
   "cell_type": "markdown",
   "id": "1a222956-4f5d-4c5e-82b8-ed7a9cf8008b",
   "metadata": {},
   "source": [
    "# Basic Programming Constructs"
   ]
  },
  {
   "cell_type": "markdown",
   "id": "c9586e3c-4524-4fc3-ace9-cc3d8bd0f58d",
   "metadata": {},
   "source": [
    "# Variables"
   ]
  },
  {
   "cell_type": "code",
   "execution_count": 1,
   "id": "42dc4db2-ace4-41ba-a66d-cc067dee7a1d",
   "metadata": {},
   "outputs": [],
   "source": [
    "int a, b, c; // declares three ints, a, b, and c.\n",
    "int d = 3, e, f = 5; // declares three more ints, initializing d and f.\n",
    "byte z = 22; // initializes z.\n",
    "double pi = 3.14159; // declares an approximation of pi.\n",
    "char x = 'x'; // the variable x has the value 'x'."
   ]
  },
  {
   "cell_type": "code",
   "execution_count": null,
   "id": "80b61292-5cef-4c27-b89b-e7d02b91a82d",
   "metadata": {},
   "outputs": [],
   "source": []
  }
 ],
 "metadata": {
  "kernelspec": {
   "display_name": "Java",
   "language": "java",
   "name": "java"
  },
  "language_info": {
   "codemirror_mode": "java",
   "file_extension": ".jshell",
   "mimetype": "text/x-java-source",
   "name": "Java",
   "pygments_lexer": "java",
   "version": "21.0.1+12-LTS"
  }
 },
 "nbformat": 4,
 "nbformat_minor": 5
}

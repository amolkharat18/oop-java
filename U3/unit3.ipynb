{
 "cells": [
  {
   "cell_type": "markdown",
   "id": "92ba9454-0cb1-40e4-8805-eae85614febc",
   "metadata": {},
   "source": [
    "# Vectors"
   ]
  },
  {
   "cell_type": "code",
   "execution_count": 1,
   "id": "77cbecef-745a-4eee-9e24-294765aa0b8c",
   "metadata": {},
   "outputs": [],
   "source": [
    "// Demonstrate various Vector operations.\n",
    "import java.util.*;\n",
    "// initial size is 3, increment is 2\n",
    "Vector<Integer> v = new Vector<Integer>(3, 2);"
   ]
  },
  {
   "cell_type": "code",
   "execution_count": 2,
   "id": "ce90784d-4cb8-4017-9072-1cdf70af89b2",
   "metadata": {},
   "outputs": [
    {
     "name": "stdout",
     "output_type": "stream",
     "text": [
      "Initial size: 0\n",
      "Initial capacity: 3\n"
     ]
    }
   ],
   "source": [
    "System.out.println(\"Initial size: \" + v.size());\n",
    "System.out.println(\"Initial capacity: \" + v.capacity());"
   ]
  },
  {
   "cell_type": "code",
   "execution_count": 4,
   "id": "dc90dece-935e-42ad-b302-d48d83d154e7",
   "metadata": {},
   "outputs": [
    {
     "name": "stdout",
     "output_type": "stream",
     "text": [
      "Capacity after four additions: 9\n"
     ]
    }
   ],
   "source": [
    "v.addElement(1);\n",
    "v.addElement(2);\n",
    "v.addElement(3);\n",
    "v.addElement(4);\n",
    "System.out.println(\"Capacity after four additions: \" + v.capacity());"
   ]
  },
  {
   "cell_type": "code",
   "execution_count": 5,
   "id": "66a4af1d-4bb9-4e18-b731-45912fd82c57",
   "metadata": {},
   "outputs": [
    {
     "name": "stdout",
     "output_type": "stream",
     "text": [
      "Current capacity: 9\n"
     ]
    }
   ],
   "source": [
    "v.addElement(5);\n",
    "System.out.println(\"Current capacity: \" + v.capacity());"
   ]
  },
  {
   "cell_type": "code",
   "execution_count": 6,
   "id": "3df2ae14-527c-4925-98f2-4d755b7b3bca",
   "metadata": {},
   "outputs": [
    {
     "name": "stdout",
     "output_type": "stream",
     "text": [
      "Current capacity: 11\n"
     ]
    }
   ],
   "source": [
    "v.addElement(6);\n",
    "v.addElement(7);\n",
    "System.out.println(\"Current capacity: \" + v.capacity());"
   ]
  },
  {
   "cell_type": "code",
   "execution_count": 7,
   "id": "1ece20a4-6a35-4d76-a400-96dfdd2148ce",
   "metadata": {},
   "outputs": [
    {
     "name": "stdout",
     "output_type": "stream",
     "text": [
      "Current capacity: 13\n"
     ]
    }
   ],
   "source": [
    "v.addElement(9);\n",
    "v.addElement(10);\n",
    "System.out.println(\"Current capacity: \" + v.capacity());"
   ]
  },
  {
   "cell_type": "code",
   "execution_count": 8,
   "id": "f0434481-b15f-4a45-ac4f-f2342306d5f3",
   "metadata": {},
   "outputs": [
    {
     "name": "stdout",
     "output_type": "stream",
     "text": [
      "First element: 1\n",
      "Last element: 12\n"
     ]
    }
   ],
   "source": [
    "v.addElement(11);\n",
    "v.addElement(12);\n",
    "System.out.println(\"First element: \" + v.firstElement());\n",
    "System.out.println(\"Last element: \" + v.lastElement());"
   ]
  },
  {
   "cell_type": "code",
   "execution_count": 10,
   "id": "cb0e85c9-fed8-4126-980b-41142d446b52",
   "metadata": {},
   "outputs": [
    {
     "name": "stdout",
     "output_type": "stream",
     "text": [
      "Vector contains 3.\n"
     ]
    }
   ],
   "source": [
    "if(v.contains(3))\n",
    "    System.out.println(\"Vector contains 3.\");"
   ]
  },
  {
   "cell_type": "code",
   "execution_count": 11,
   "id": "ff210715-e564-4706-ba60-b67d5d7443ec",
   "metadata": {},
   "outputs": [
    {
     "name": "stdout",
     "output_type": "stream",
     "text": [
      "\n",
      "Elements in vector:\n",
      "1 2 3 4 1 2 3 4 5 6 7 9 10 11 12 \n"
     ]
    }
   ],
   "source": [
    "// Enumerate the elements in the vector.\n",
    "Enumeration<Integer> vEnum = v.elements();\n",
    "System.out.println(\"\\nElements in vector:\");\n",
    "while(vEnum.hasMoreElements())\n",
    "    System.out.print(vEnum.nextElement() + \" \");\n",
    "System.out.println();"
   ]
  },
  {
   "cell_type": "code",
   "execution_count": 12,
   "id": "808c4949-c2c4-4390-8549-a3ac6fe10a4c",
   "metadata": {},
   "outputs": [
    {
     "name": "stdout",
     "output_type": "stream",
     "text": [
      "\n",
      "Elements in vector:\n",
      "1 2 3 4 1 2 3 4 5 6 7 9 10 11 12 \n"
     ]
    }
   ],
   "source": [
    "// Use an iterator to display contents.\n",
    "Iterator<Integer> vItr = v.iterator();\n",
    "System.out.println(\"\\nElements in vector:\");\n",
    "while(vItr.hasNext())\n",
    "    System.out.print(vItr.next() + \" \");\n",
    "System.out.println();"
   ]
  },
  {
   "cell_type": "code",
   "execution_count": 13,
   "id": "5a7e4d68-7500-4675-b435-e9f2f04593f3",
   "metadata": {},
   "outputs": [
    {
     "name": "stdout",
     "output_type": "stream",
     "text": [
      "\n",
      "Elements in vector:\n",
      "1 2 3 4 1 2 3 4 5 6 7 9 10 11 12 \n"
     ]
    }
   ],
   "source": [
    "// Use an enhanced for loop to display contents\n",
    "System.out.println(\"\\nElements in vector:\");\n",
    "for(int i : v)\n",
    "    System.out.print(i + \" \");\n",
    "System.out.println();"
   ]
  },
  {
   "cell_type": "code",
   "execution_count": null,
   "id": "0193acee-1629-445a-b21b-f56ba7d50f89",
   "metadata": {},
   "outputs": [],
   "source": []
  }
 ],
 "metadata": {
  "kernelspec": {
   "display_name": "Java",
   "language": "java",
   "name": "java"
  },
  "language_info": {
   "codemirror_mode": "java",
   "file_extension": ".jshell",
   "mimetype": "text/x-java-source",
   "name": "Java",
   "pygments_lexer": "java",
   "version": "21.0.1+12-LTS"
  }
 },
 "nbformat": 4,
 "nbformat_minor": 5
}

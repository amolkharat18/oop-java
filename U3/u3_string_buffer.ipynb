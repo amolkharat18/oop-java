{
 "cells": [
  {
   "cell_type": "markdown",
   "id": "381985ca-6771-414d-93ac-1eda3f1ddbbe",
   "metadata": {},
   "source": [
    "# StringBuffer"
   ]
  },
  {
   "cell_type": "markdown",
   "id": "ae9274df-f61a-40d2-b54b-09cab4d949f1",
   "metadata": {},
   "source": [
    "Constructors\n",
    "\n",
    "- StringBuffer() // 16 charachetrs without reallocation\n",
    "- StringBuffer(int size)\n",
    "- StringBuffer(String str) // 16 charachetrs without reallocation\n",
    "- StringBuffer(CharSequence chars)rs)"
   ]
  },
  {
   "cell_type": "markdown",
   "id": "ab5b5d5c-4fe0-47ba-8f61-d74c32a6754c",
   "metadata": {},
   "source": [
    "## length() and capacity()"
   ]
  },
  {
   "cell_type": "code",
   "execution_count": 1,
   "id": "470e14dd-30d5-4139-ae7f-f16b26e9d8b0",
   "metadata": {},
   "outputs": [
    {
     "name": "stdout",
     "output_type": "stream",
     "text": [
      "buffer = Hello\n",
      "length = 5\n",
      "capacity = 21\n"
     ]
    }
   ],
   "source": [
    "// StringBuffer length vs. capacity.\n",
    "StringBuffer sb = new StringBuffer(\"Hello\");\n",
    "System.out.println(\"buffer = \" + sb);\n",
    "System.out.println(\"length = \" + sb.length());\n",
    "System.out.println(\"capacity = \" + sb.capacity());"
   ]
  },
  {
   "cell_type": "markdown",
   "id": "66639114-fff5-4e69-97dc-805e7ae2e1c0",
   "metadata": {},
   "source": [
    "## ensureCapacity()"
   ]
  },
  {
   "cell_type": "code",
   "execution_count": 2,
   "id": "e1747d27-62dc-4347-a381-a2c65d536986",
   "metadata": {},
   "outputs": [
    {
     "name": "stdout",
     "output_type": "stream",
     "text": [
      "capacity = 44\n"
     ]
    }
   ],
   "source": [
    "sb.ensureCapacity(30);\n",
    "System.out.println(\"capacity = \" + sb.capacity());"
   ]
  },
  {
   "cell_type": "markdown",
   "id": "e17c54af-8d51-439e-bdfd-b98e1ffa39f5",
   "metadata": {},
   "source": [
    "## setLength()"
   ]
  },
  {
   "cell_type": "code",
   "execution_count": 3,
   "id": "3648b81f-c896-4a18-b92c-ab7affabc427",
   "metadata": {},
   "outputs": [
    {
     "name": "stdout",
     "output_type": "stream",
     "text": [
      "buffer = Hel\n",
      "length = 3\n",
      "capacity = 44\n"
     ]
    }
   ],
   "source": [
    "sb.setLength(3);\n",
    "System.out.println(\"buffer = \" + sb);\n",
    "System.out.println(\"length = \" + sb.length());\n",
    "System.out.println(\"capacity = \" + sb.capacity());"
   ]
  },
  {
   "cell_type": "markdown",
   "id": "4c5e74ac-35f0-4040-8318-56bd7edd11e9",
   "metadata": {},
   "source": [
    "## charAt() and setCharAt()"
   ]
  },
  {
   "cell_type": "code",
   "execution_count": 4,
   "id": "a768b70a-1dc8-4557-9471-f30dcf142bc7",
   "metadata": {},
   "outputs": [
    {
     "name": "stdout",
     "output_type": "stream",
     "text": [
      "buffer before = Hello\n",
      "charAt(1) before = e\n"
     ]
    }
   ],
   "source": [
    "// Demonstrate charAt() and setCharAt().\n",
    "StringBuffer sb = new StringBuffer(\"Hello\");\n",
    "System.out.println(\"buffer before = \" + sb);\n",
    "System.out.println(\"charAt(1) before = \" + sb.charAt(1));"
   ]
  },
  {
   "cell_type": "code",
   "execution_count": 5,
   "id": "76f51333-f1ca-4b83-bfbf-ff1c32e6460b",
   "metadata": {},
   "outputs": [
    {
     "name": "stdout",
     "output_type": "stream",
     "text": [
      "buffer after = Hi\n",
      "charAt(1) after = i\n"
     ]
    }
   ],
   "source": [
    "sb.setCharAt(1, 'i');\n",
    "sb.setLength(2);\n",
    "System.out.println(\"buffer after = \" + sb);\n",
    "System.out.println(\"charAt(1) after = \" + sb.charAt(1));"
   ]
  },
  {
   "cell_type": "markdown",
   "id": "22f68812-f79f-4e30-af00-52e02a236d97",
   "metadata": {},
   "source": [
    "## getChars()"
   ]
  },
  {
   "cell_type": "code",
   "execution_count": 6,
   "id": "d8691dbf-8fc5-4272-ae88-3b40c1aed76d",
   "metadata": {},
   "outputs": [
    {
     "name": "stdout",
     "output_type": "stream",
     "text": [
      "ell\n"
     ]
    }
   ],
   "source": [
    "StringBuffer sb = new StringBuffer(\"Hello\");\n",
    "char[] charArr = new char[3];\n",
    "sb.getChars(1,4,charArr,0);\n",
    "System.out.println(charArr);"
   ]
  },
  {
   "cell_type": "markdown",
   "id": "62888ce4-6c7a-492a-8807-cf5837b58f4e",
   "metadata": {},
   "source": [
    "## append()"
   ]
  },
  {
   "cell_type": "code",
   "execution_count": 7,
   "id": "797856d6-323b-4912-a056-e41a017f6aa1",
   "metadata": {},
   "outputs": [
    {
     "name": "stdout",
     "output_type": "stream",
     "text": [
      "a = 42!\n"
     ]
    }
   ],
   "source": [
    "// Demonstrate append().\n",
    "String s;\n",
    "int a = 42;\n",
    "StringBuffer sb = new StringBuffer(40);\n",
    "s = sb.append(\"a = \").append(a).append(\"!\").toString();\n",
    "System.out.println(s);"
   ]
  },
  {
   "cell_type": "markdown",
   "id": "a1e5bd04-a32d-47f4-a6d4-18a486f832a3",
   "metadata": {},
   "source": [
    "## insert()"
   ]
  },
  {
   "cell_type": "code",
   "execution_count": 8,
   "id": "8552033b-04f3-456d-9309-3c20f0d7c4f2",
   "metadata": {},
   "outputs": [
    {
     "name": "stdout",
     "output_type": "stream",
     "text": [
      "I like Java!\n"
     ]
    }
   ],
   "source": [
    "// Demonstrate insert().\n",
    "StringBuffer sb = new StringBuffer(\"I Java!\");\n",
    "sb.insert(2, \"like \");\n",
    "System.out.println(sb);"
   ]
  },
  {
   "cell_type": "markdown",
   "id": "ec33af37-77fd-4f62-b64c-1c8eafc99d6a",
   "metadata": {},
   "source": [
    "## reverse()"
   ]
  },
  {
   "cell_type": "code",
   "execution_count": 9,
   "id": "6757c27d-a164-4210-ac3a-d7faa8016a52",
   "metadata": {},
   "outputs": [
    {
     "name": "stdout",
     "output_type": "stream",
     "text": [
      "abcdef\n",
      "fedcba\n"
     ]
    }
   ],
   "source": [
    "// Using reverse() to reverse a StringBuffer.\n",
    "StringBuffer s = new StringBuffer(\"abcdef\");\n",
    "System.out.println(s);\n",
    "s.reverse();\n",
    "System.out.println(s);"
   ]
  },
  {
   "cell_type": "markdown",
   "id": "0e97c7a3-5dea-4e0f-a65e-fc63fbbd4591",
   "metadata": {},
   "source": [
    "## delete() and deleteCharAt()"
   ]
  },
  {
   "cell_type": "code",
   "execution_count": 10,
   "id": "c5f64c80-6fa7-4f70-b7b8-95f83465f2b1",
   "metadata": {},
   "outputs": [
    {
     "name": "stdout",
     "output_type": "stream",
     "text": [
      "After delete: This a test.\n",
      "After deleteCharAt: his a test.\n"
     ]
    }
   ],
   "source": [
    "// Demonstrate delete() and deleteCharAt()\n",
    "StringBuffer sb = new StringBuffer(\"This is a test.\");\n",
    "sb.delete(4, 7);\n",
    "System.out.println(\"After delete: \" + sb);\n",
    "sb.deleteCharAt(0);\n",
    "System.out.println(\"After deleteCharAt: \" + sb);"
   ]
  },
  {
   "cell_type": "markdown",
   "id": "f74e3e8d-a93e-447d-9304-fe0ca5ccfb5c",
   "metadata": {},
   "source": [
    "## replace()"
   ]
  },
  {
   "cell_type": "code",
   "execution_count": 11,
   "id": "219b5014-edb6-4c5f-a564-3a8fb070914a",
   "metadata": {},
   "outputs": [
    {
     "name": "stdout",
     "output_type": "stream",
     "text": [
      "After replace: This was a test.\n"
     ]
    }
   ],
   "source": [
    "// Demonstrate replace()\n",
    "StringBuffer sb = new StringBuffer(\"This is a test.\");\n",
    "sb.replace(5, 7, \"was\");\n",
    "System.out.println(\"After replace: \" + sb);"
   ]
  },
  {
   "cell_type": "markdown",
   "id": "45ebbac3-138c-4634-b392-b0505d23a441",
   "metadata": {},
   "source": [
    "## substring()"
   ]
  },
  {
   "cell_type": "code",
   "execution_count": 12,
   "id": "67b380ca-dd68-4272-b150-bf6f7d3249cb",
   "metadata": {},
   "outputs": [
    {
     "name": "stdout",
     "output_type": "stream",
     "text": [
      "llo\n"
     ]
    }
   ],
   "source": [
    "StringBuffer sb = new StringBuffer(\"Hello\");\n",
    "System.out.println(sb.substring(2));"
   ]
  },
  {
   "cell_type": "code",
   "execution_count": 13,
   "id": "8df97951-4ee4-4771-8b06-1f8ff1d1e2e3",
   "metadata": {},
   "outputs": [
    {
     "name": "stdout",
     "output_type": "stream",
     "text": [
      "ell\n"
     ]
    }
   ],
   "source": [
    "System.out.println(sb.substring(1,4));"
   ]
  },
  {
   "cell_type": "markdown",
   "id": "6b52c12c-1612-4e36-a8bb-f8eb0f24733c",
   "metadata": {},
   "source": [
    "## indexOf() and lastIndexOf()"
   ]
  },
  {
   "cell_type": "code",
   "execution_count": 14,
   "id": "f3b4783e-67f1-419d-9106-e7ca9164cb7b",
   "metadata": {},
   "outputs": [
    {
     "name": "stdout",
     "output_type": "stream",
     "text": [
      "First index: 0\n"
     ]
    }
   ],
   "source": [
    "StringBuffer sb = new StringBuffer(\"one two one\");\n",
    "int i;\n",
    "i = sb.indexOf(\"one\");\n",
    "System.out.println(\"First index: \" + i);"
   ]
  },
  {
   "cell_type": "code",
   "execution_count": 15,
   "id": "b031fa8e-9ae0-4d12-899c-1340529f8066",
   "metadata": {},
   "outputs": [
    {
     "name": "stdout",
     "output_type": "stream",
     "text": [
      "Last index: 8\n"
     ]
    }
   ],
   "source": [
    "i = sb.lastIndexOf(\"one\");\n",
    "System.out.println(\"Last index: \" + i);"
   ]
  },
  {
   "cell_type": "code",
   "execution_count": null,
   "id": "10a7aa3b-760f-430c-b2ed-4146db6844f7",
   "metadata": {},
   "outputs": [],
   "source": []
  }
 ],
 "metadata": {
  "kernelspec": {
   "display_name": "Java",
   "language": "java",
   "name": "java"
  },
  "language_info": {
   "codemirror_mode": "java",
   "file_extension": ".jshell",
   "mimetype": "text/x-java-source",
   "name": "Java",
   "pygments_lexer": "java",
   "version": "21.0.1+12-LTS"
  }
 },
 "nbformat": 4,
 "nbformat_minor": 5
}

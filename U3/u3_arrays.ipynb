{
 "cells": [
  {
   "cell_type": "markdown",
   "id": "76e6d47d-e0e2-4267-a0c1-47f0cf821df3",
   "metadata": {},
   "source": [
    "# Arrays\n",
    "\n",
    "group of like-typed variables that are referred to by a common name"
   ]
  },
  {
   "cell_type": "markdown",
   "id": "0ea2b053-e0e9-4fd3-9909-b905bd92afc8",
   "metadata": {
    "jp-MarkdownHeadingCollapsed": true
   },
   "source": [
    "## One-Dimensional Arrays"
   ]
  },
  {
   "cell_type": "code",
   "execution_count": 1,
   "id": "abb733c2-9984-4843-aa0f-2396a3938f56",
   "metadata": {},
   "outputs": [
    {
     "name": "stdout",
     "output_type": "stream",
     "text": [
      "0\n"
     ]
    }
   ],
   "source": [
    "// type[ ] var-name;\n",
    "int[] month_days;\n",
    "// array-var = new type [size];\n",
    "month_days = new int[12];\n",
    "month_days[1] = 28;\n",
    "System.out.println(month_days[3]);"
   ]
  },
  {
   "cell_type": "code",
   "execution_count": 2,
   "id": "3def6286-253e-4862-8ca5-0d1add5cf041",
   "metadata": {},
   "outputs": [
    {
     "name": "stdout",
     "output_type": "stream",
     "text": [
      "April has 30 days.\n"
     ]
    }
   ],
   "source": [
    "// Demonstrate a one-dimensional array.\n",
    "int[] month_days;\n",
    "month_days = new int[12];\n",
    "month_days[0] = 31;\n",
    "month_days[1] = 28;\n",
    "month_days[2] = 31;\n",
    "month_days[3] = 30;\n",
    "month_days[4] = 31;\n",
    "month_days[5] = 30;\n",
    "month_days[6] = 31;\n",
    "month_days[7] = 31;\n",
    "month_days[8] = 30;\n",
    "month_days[9] = 31;\n",
    "month_days[10] = 30;\n",
    "month_days[11] = 31;\n",
    "System.out.println(\"April has \" + month_days[3] + \" days.\");"
   ]
  },
  {
   "cell_type": "code",
   "execution_count": 3,
   "id": "4f099c63-a4dd-472d-8a76-d40105695a71",
   "metadata": {},
   "outputs": [],
   "source": [
    "int[] month_days = new int[12];"
   ]
  },
  {
   "cell_type": "code",
   "execution_count": 4,
   "id": "52131231-4686-474d-aa34-69da6f792238",
   "metadata": {},
   "outputs": [
    {
     "name": "stdout",
     "output_type": "stream",
     "text": [
      "April has 30 days.\n"
     ]
    }
   ],
   "source": [
    "// An array initializer\n",
    "// An improved version of the previous program.\n",
    "int[] month_days = { 31, 28, 31, 30, 31, 30, 31, 31, 30, 31, 30, 31 };\n",
    "System.out.println(\"April has \" + month_days[3] + \" days.\");"
   ]
  },
  {
   "cell_type": "code",
   "execution_count": 5,
   "id": "02625da5-53ba-4ef0-af84-761b5538d0a3",
   "metadata": {},
   "outputs": [
    {
     "ename": "EvalException",
     "evalue": "Index 13 out of bounds for length 12",
     "output_type": "error",
     "traceback": [
      "\u001b[1m\u001b[31m---------------------------------------------------------------------------\u001b[0m",
      "\u001b[1m\u001b[31mjava.lang.ArrayIndexOutOfBoundsException: Index 13 out of bounds for length 12\u001b[0m",
      "\u001b[1m\u001b[31m\tat .(#31:1)\u001b[0m"
     ]
    }
   ],
   "source": [
    "System.out.println(month_days[13]);"
   ]
  },
  {
   "cell_type": "code",
   "execution_count": 6,
   "id": "8029124f-f95c-44fc-8826-722ca03fea90",
   "metadata": {},
   "outputs": [
    {
     "name": "stdout",
     "output_type": "stream",
     "text": [
      "Average is 12.299999999999999\n"
     ]
    }
   ],
   "source": [
    "// Average an array of values.\n",
    "double[] nums = {10.1, 11.2, 12.3, 13.4, 14.5};\n",
    "double result = 0;\n",
    "int i;\n",
    "for(i=0; i<5; i++)\n",
    "    result = result + nums[i];\n",
    "System.out.println(\"Average is \" + result / 5);"
   ]
  },
  {
   "cell_type": "markdown",
   "id": "2cc6f2f9-05b9-498d-817a-533a785b59fc",
   "metadata": {},
   "source": [
    "## Multidimensional Arrays"
   ]
  },
  {
   "cell_type": "code",
   "execution_count": 7,
   "id": "d7c18fb7-6909-40fe-b81f-012f1cd5a3b1",
   "metadata": {},
   "outputs": [],
   "source": [
    "int[][] twoD = new int[4][5];"
   ]
  },
  {
   "cell_type": "code",
   "execution_count": 8,
   "id": "4553fae6-3b06-47cd-9547-2a623694ccf7",
   "metadata": {},
   "outputs": [],
   "source": [
    "// Demonstrate a two-dimensional array.\n",
    "int[][] twoD= new int[4][5];\n",
    "int i, j, k = 0;\n",
    "\n",
    "for(i=0; i<4; i++)\n",
    "    for(j=0; j<5; j++) {\n",
    "        twoD[i][j] = k;\n",
    "        k++;\n",
    "    }"
   ]
  },
  {
   "cell_type": "code",
   "execution_count": 9,
   "id": "17d5d890-c63d-4f64-b9e6-940ac9d003c0",
   "metadata": {},
   "outputs": [
    {
     "name": "stdout",
     "output_type": "stream",
     "text": [
      "0 1 2 3 4 \n",
      "5 6 7 8 9 \n",
      "10 11 12 13 14 \n",
      "15 16 17 18 19 \n"
     ]
    }
   ],
   "source": [
    "for(i=0; i<4; i++) {\n",
    "    for(j=0; j<5; j++)\n",
    "        System.out.print(twoD[i][j] + \" \");\n",
    "    System.out.println();\n",
    "}"
   ]
  },
  {
   "cell_type": "code",
   "execution_count": 10,
   "id": "1122dd8e-b08e-4938-8d97-095373594f62",
   "metadata": {},
   "outputs": [
    {
     "data": {
      "text/plain": [
       "[I@6001b5d6"
      ]
     },
     "execution_count": 10,
     "metadata": {},
     "output_type": "execute_result"
    }
   ],
   "source": [
    "int[][] twoD = new int[4][];\n",
    "twoD[0] = new int[5];\n",
    "twoD[1] = new int[5];\n",
    "twoD[2] = new int[5];\n",
    "twoD[3] = new int[5];"
   ]
  },
  {
   "cell_type": "code",
   "execution_count": 11,
   "id": "7b3a0745-1641-4182-98fe-32168350aed9",
   "metadata": {},
   "outputs": [],
   "source": [
    "// Manually allocate differing size second dimensions.\n",
    "int[][] twoD = new int[4][];\n",
    "twoD[0] = new int[1];\n",
    "twoD[1] = new int[2];\n",
    "twoD[2] = new int[3];\n",
    "twoD[3] = new int[4];\n",
    "int i, j, k = 0;\n",
    "for(i=0; i<4; i++)\n",
    "    for(j=0; j<i+1; j++) {\n",
    "        twoD[i][j] = k;\n",
    "        k++;\n",
    "    }"
   ]
  },
  {
   "cell_type": "code",
   "execution_count": 12,
   "id": "f57ccc46-b7b4-4b85-bd29-c0a8aae92039",
   "metadata": {},
   "outputs": [
    {
     "name": "stdout",
     "output_type": "stream",
     "text": [
      "0 \n",
      "1 2 \n",
      "3 4 5 \n",
      "6 7 8 9 \n"
     ]
    }
   ],
   "source": [
    "for(i=0; i<4; i++) {\n",
    "    for(j=0; j<i+1; j++)\n",
    "        System.out.print(twoD[i][j] + \" \");\n",
    "    System.out.println();\n",
    "}"
   ]
  },
  {
   "cell_type": "code",
   "execution_count": 13,
   "id": "1f7cbce3-078c-4046-8a76-39237116b020",
   "metadata": {},
   "outputs": [
    {
     "name": "stdout",
     "output_type": "stream",
     "text": [
      "0.0 0.0 0.0 0.0 \n",
      "0.0 1.0 2.0 3.0 \n",
      "0.0 2.0 4.0 6.0 \n",
      "0.0 3.0 6.0 9.0 \n"
     ]
    }
   ],
   "source": [
    "// Initialize a two-dimensional array.\n",
    "double[][] m = {\n",
    "    { 0*0, 1*0, 2*0, 3*0 },\n",
    "    { 0*1, 1*1, 2*1, 3*1 },\n",
    "    { 0*2, 1*2, 2*2, 3*2 },\n",
    "    { 0*3, 1*3, 2*3, 3*3 }\n",
    "};\n",
    "int i, j;\n",
    "for(i=0; i<4; i++) {\n",
    "    for(j=0; j<4; j++)\n",
    "        System.out.print(m[i][j] + \" \");\n",
    "    System.out.println();\n",
    "}"
   ]
  },
  {
   "cell_type": "code",
   "execution_count": 14,
   "id": "e91f2e5f-b7e8-421e-935f-a0f6848e842b",
   "metadata": {},
   "outputs": [],
   "source": [
    "// Demonstrate a three-dimensional array.\n",
    "int[][][] threeD = new int[3][4][5];\n",
    "int i, j, k;\n",
    "for(i=0; i<3; i++)\n",
    "    for(j=0; j<4; j++)\n",
    "        for(k=0; k<5; k++)\n",
    "            threeD[i][j][k] = i * j * k;"
   ]
  },
  {
   "cell_type": "code",
   "execution_count": 15,
   "id": "a047f2c9-9a04-41c0-87ca-fe0209ff5171",
   "metadata": {},
   "outputs": [
    {
     "name": "stdout",
     "output_type": "stream",
     "text": [
      "0 0 0 0 0 \n",
      "0 0 0 0 0 \n",
      "0 0 0 0 0 \n",
      "0 0 0 0 0 \n",
      "\n",
      "0 0 0 0 0 \n",
      "0 1 2 3 4 \n",
      "0 2 4 6 8 \n",
      "0 3 6 9 12 \n",
      "\n",
      "0 0 0 0 0 \n",
      "0 2 4 6 8 \n",
      "0 4 8 12 16 \n",
      "0 6 12 18 24 \n",
      "\n"
     ]
    }
   ],
   "source": [
    "for(i=0; i<3; i++) {\n",
    "    for(j=0; j<4; j++) {\n",
    "        for(k=0; k<5; k++)\n",
    "            System.out.print(threeD[i][j][k] + \" \");\n",
    "            System.out.println();\n",
    "        }\n",
    "    System.out.println();\n",
    "}"
   ]
  },
  {
   "cell_type": "markdown",
   "id": "859103b3-f8bf-429f-b387-25b2c975bfa3",
   "metadata": {},
   "source": [
    "## Alternative Array Declaration Syntax"
   ]
  },
  {
   "cell_type": "code",
   "execution_count": 16,
   "id": "1964b814-d3bc-4b19-886d-436b3e400dac",
   "metadata": {},
   "outputs": [],
   "source": [
    "// type var-name[ ];\n",
    "int al[] = new int[3];\n",
    "int[] a2 = new int[3];"
   ]
  },
  {
   "cell_type": "code",
   "execution_count": 17,
   "id": "2165304f-e08e-48e1-b27d-b26563638380",
   "metadata": {},
   "outputs": [],
   "source": [
    "char twod1[][] = new char[3][4];\n",
    "char[][] twod2 = new char[3][4];"
   ]
  },
  {
   "cell_type": "code",
   "execution_count": null,
   "id": "7a1c9e51-fc18-46c6-9f42-adb3caadf652",
   "metadata": {},
   "outputs": [],
   "source": []
  }
 ],
 "metadata": {
  "kernelspec": {
   "display_name": "Java",
   "language": "java",
   "name": "java"
  },
  "language_info": {
   "codemirror_mode": "java",
   "file_extension": ".jshell",
   "mimetype": "text/x-java-source",
   "name": "Java",
   "pygments_lexer": "java",
   "version": "21.0.1+12-LTS"
  }
 },
 "nbformat": 4,
 "nbformat_minor": 5
}

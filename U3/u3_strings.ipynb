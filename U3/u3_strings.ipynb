{
 "cells": [
  {
   "cell_type": "markdown",
   "id": "371e3b43-a4a0-4f8b-acaf-7cf025862358",
   "metadata": {},
   "source": [
    "# Strings\n",
    "\n",
    "- in Java a string is a \n",
    "sequence of character\n",
    "- Java implements strings as objects of type Strings"
   ]
  },
  {
   "cell_type": "code",
   "execution_count": 2,
   "id": "9bd31865-22c8-4727-8e35-01c2000e2008",
   "metadata": {},
   "outputs": [
    {
     "name": "stdout",
     "output_type": "stream",
     "text": [
      "This is a String, too\n"
     ]
    }
   ],
   "source": [
    "// Even string constants are actually String objects\n",
    "System.out.println(\"This is a String, too\"); // the string \"This is a String, too\" is a String object."
   ]
  },
  {
   "cell_type": "markdown",
   "id": "02da74d4-3447-4d44-929e-c525a1f0bfae",
   "metadata": {},
   "source": [
    "objects of type **String** are immutable; \n",
    "once   Strin  object is created, its contents cannot be altered **StringBuffer** and **StringBuilder**, which \n",
    "allow strings to be altered."
   ]
  },
  {
   "cell_type": "code",
   "execution_count": 1,
   "id": "c2b1db69-769c-4cca-9d5d-35daab5fe447",
   "metadata": {},
   "outputs": [
    {
     "name": "stdout",
     "output_type": "stream",
     "text": [
      "this is a test\n"
     ]
    }
   ],
   "source": [
    "String myString = \"this is a test\";\n",
    "System.out.println(myString);"
   ]
  },
  {
   "cell_type": "code",
   "execution_count": 2,
   "id": "2f05ee2b-8798-48a2-b510-64bcaea1849f",
   "metadata": {},
   "outputs": [
    {
     "name": "stdout",
     "output_type": "stream",
     "text": [
      "I like Java.\n"
     ]
    }
   ],
   "source": [
    "String myString = \"I\" + \" like \" + \"Java.\";\n",
    "System.out.println(myString);"
   ]
  },
  {
   "cell_type": "code",
   "execution_count": 3,
   "id": "1590413b-ef7c-4c75-9366-0eedd79a3e18",
   "metadata": {},
   "outputs": [
    {
     "name": "stdout",
     "output_type": "stream",
     "text": [
      "First String\n",
      "Second String\n",
      "First String and Second String\n"
     ]
    }
   ],
   "source": [
    "// Demonstrating Strings.\n",
    "String strOb1 = \"First String\";\n",
    "String strOb2 = \"Second String\";\n",
    "String strOb3 = strOb1 + \" and \" + strOb2;\n",
    "System.out.println(strOb1);\n",
    "System.out.println(strOb2);\n",
    "System.out.println(strOb3);"
   ]
  },
  {
   "cell_type": "code",
   "execution_count": 4,
   "id": "6872fd97-1041-4f88-893c-bde6fc1e9b45",
   "metadata": {},
   "outputs": [
    {
     "name": "stdout",
     "output_type": "stream",
     "text": [
      "Length of strOb1: 12\n",
      "Char at index 3 in strOb1: s\n"
     ]
    }
   ],
   "source": [
    "// Demonstrating some String methods.\n",
    "String strOb1 = \"First String\";\n",
    "String strOb2 = \"Second String\";\n",
    "String strOb3 = strOb1;\n",
    "\n",
    "System.out.println(\"Length of strOb1: \" + strOb1.length());\n",
    "System.out.println(\"Char at index 3 in strOb1: \" + strOb1.charAt(3));"
   ]
  },
  {
   "cell_type": "code",
   "execution_count": 5,
   "id": "3d6dbeeb-d23a-4bb3-8999-1601be6985b6",
   "metadata": {},
   "outputs": [
    {
     "name": "stdout",
     "output_type": "stream",
     "text": [
      "strOb1 != strOb2\n"
     ]
    }
   ],
   "source": [
    "if(strOb1.equals(strOb2))\n",
    "    System.out.println(\"strOb1 == strOb2\");\n",
    "else\n",
    "    System.out.println(\"strOb1 != strOb2\");"
   ]
  },
  {
   "cell_type": "code",
   "execution_count": 6,
   "id": "2a69572a-793f-406e-beb4-e45aa21dacbc",
   "metadata": {},
   "outputs": [
    {
     "name": "stdout",
     "output_type": "stream",
     "text": [
      "strOb1 == strOb3\n"
     ]
    }
   ],
   "source": [
    "if(strOb1.equals(strOb3))\n",
    "    System.out.println(\"strOb1 == strOb3\");\n",
    "else\n",
    "    System.out.println(\"strOb1 != strOb3\");"
   ]
  },
  {
   "cell_type": "code",
   "execution_count": 7,
   "id": "8fac1c9d-c316-4f32-ba30-f1b82d44a915",
   "metadata": {},
   "outputs": [
    {
     "name": "stdout",
     "output_type": "stream",
     "text": [
      "str[0]: one\n",
      "str[1]: two\n",
      "str[2]: three\n"
     ]
    }
   ],
   "source": [
    "// Demonstrate String arrays.\n",
    "String[] str = { \"one\", \"two\", \"three\" };\n",
    "for(int i=0; i<str.length; i++)\n",
    "    System.out.println(\"str[\" + i + \"]: \" + str[i]);"
   ]
  },
  {
   "cell_type": "markdown",
   "id": "d20d621d-f54f-43dd-aa55-ff65c7256063",
   "metadata": {},
   "source": [
    "## The String Constructors"
   ]
  },
  {
   "cell_type": "code",
   "execution_count": 2,
   "id": "26e84e6d-0668-4774-ac33-eea0710e1738",
   "metadata": {},
   "outputs": [],
   "source": [
    "// To create an empty String, call the default constructor\n",
    "String s = new String();"
   ]
  },
  {
   "cell_type": "code",
   "execution_count": 4,
   "id": "ca049534-40d8-4f2c-9d5e-bb99cf3436d7",
   "metadata": {},
   "outputs": [
    {
     "name": "stdout",
     "output_type": "stream",
     "text": [
      "abc\n"
     ]
    }
   ],
   "source": [
    "// String(char[ ] chars)\n",
    "char[] chars = { 'a', 'b', 'c' };\n",
    "String s = new String(chars);\n",
    "System.out.println(s);"
   ]
  },
  {
   "cell_type": "code",
   "execution_count": 5,
   "id": "253be10a-a866-419b-bdfd-ec5c5661c001",
   "metadata": {},
   "outputs": [
    {
     "name": "stdout",
     "output_type": "stream",
     "text": [
      "cde\n"
     ]
    }
   ],
   "source": [
    "// String(char[ ] chars, int startIndex, int numChars)\n",
    "char[] chars = { 'a', 'b', 'c', 'd', 'e', 'f' };\n",
    "String s = new String(chars, 2, 3);\n",
    "System.out.println(s);"
   ]
  },
  {
   "cell_type": "code",
   "execution_count": 6,
   "id": "adf407fa-1812-4ca8-ace3-767597dbc014",
   "metadata": {},
   "outputs": [
    {
     "name": "stdout",
     "output_type": "stream",
     "text": [
      "Java\n",
      "Java\n"
     ]
    }
   ],
   "source": [
    "// String(String strObj)\n",
    "// Construct one String from another.\n",
    "char[] c = {'J', 'a', 'v', 'a'};\n",
    "String s1 = new String(c);\n",
    "String s2 = new String(s1);\n",
    "System.out.println(s1);\n",
    "System.out.println(s2);"
   ]
  },
  {
   "cell_type": "code",
   "execution_count": 7,
   "id": "01500548-98b2-46b7-85da-0a8d0ad597d3",
   "metadata": {},
   "outputs": [
    {
     "name": "stdout",
     "output_type": "stream",
     "text": [
      "ABCDEF\n",
      "CDE\n"
     ]
    }
   ],
   "source": [
    "// String(byte[ ] chrs)\n",
    "// String(byte[ ] chrs, int startIndex, int numChars)\n",
    "// Construct string from subset of char array.\n",
    "byte[] ascii = {65, 66, 67, 68, 69, 70 };\n",
    "\n",
    "String s1 = new String(ascii);\n",
    "System.out.println(s1);\n",
    "\n",
    "String s2 = new String(ascii, 2, 3);\n",
    "System.out.println(s2);"
   ]
  },
  {
   "cell_type": "markdown",
   "id": "283e7ad2-6fd4-4e2f-8fda-d74b69e03c12",
   "metadata": {
    "jp-MarkdownHeadingCollapsed": true
   },
   "source": [
    "## String Length"
   ]
  },
  {
   "cell_type": "code",
   "execution_count": 8,
   "id": "92689127-e784-4b69-8250-3f76a2c43aff",
   "metadata": {},
   "outputs": [
    {
     "name": "stdout",
     "output_type": "stream",
     "text": [
      "3\n"
     ]
    }
   ],
   "source": [
    "char[] chars = { 'a', 'b', 'c' };\n",
    "String s = new String(chars);\n",
    "System.out.println(s.length());"
   ]
  },
  {
   "cell_type": "markdown",
   "id": "237e5cae-33a0-4bf6-a58d-664fa703421d",
   "metadata": {
    "jp-MarkdownHeadingCollapsed": true
   },
   "source": [
    "## String Literals"
   ]
  },
  {
   "cell_type": "code",
   "execution_count": 10,
   "id": "235f7ac0-4950-4b66-8541-6476ef899b37",
   "metadata": {},
   "outputs": [],
   "source": [
    "String s2 = \"abc\"; // use string literal"
   ]
  },
  {
   "cell_type": "code",
   "execution_count": 11,
   "id": "60964e6a-0150-4829-b32c-55e919de06f1",
   "metadata": {},
   "outputs": [
    {
     "name": "stdout",
     "output_type": "stream",
     "text": [
      "3\n"
     ]
    }
   ],
   "source": [
    "System.out.println(\"abc\".length());"
   ]
  },
  {
   "cell_type": "markdown",
   "id": "9de53be4-ee34-41fe-9fbb-ca62ba74b2f7",
   "metadata": {
    "jp-MarkdownHeadingCollapsed": true
   },
   "source": [
    "## String Concatenation"
   ]
  },
  {
   "cell_type": "code",
   "execution_count": 12,
   "id": "c1f57747-87c3-4d56-9173-74de1c41a524",
   "metadata": {},
   "outputs": [
    {
     "name": "stdout",
     "output_type": "stream",
     "text": [
      "He is 9 years old.\n"
     ]
    }
   ],
   "source": [
    "String age = \"9\";\n",
    "String s = \"He is \" + age + \" years old.\";\n",
    "System.out.println(s);"
   ]
  },
  {
   "cell_type": "code",
   "execution_count": 13,
   "id": "ce12d3bd-dfea-4353-aff7-6016a7f98ccd",
   "metadata": {},
   "outputs": [
    {
     "name": "stdout",
     "output_type": "stream",
     "text": [
      "This could have been a very long line that would have wrapped around. But string concatenation prevents this.\n"
     ]
    }
   ],
   "source": [
    "// Using concatenation to prevent long lines.\n",
    "String longStr = \"This could have been \" +\n",
    "\"a very long line that would have \" +\n",
    "\"wrapped around. But string concatenation \" +\n",
    "\"prevents this.\";\n",
    "\n",
    "System.out.println(longStr);"
   ]
  },
  {
   "cell_type": "markdown",
   "id": "3373fabc-9ae8-4141-bdfc-1952ddd20f30",
   "metadata": {
    "jp-MarkdownHeadingCollapsed": true
   },
   "source": [
    "## String Concatenation with Other Data Types"
   ]
  },
  {
   "cell_type": "code",
   "execution_count": 14,
   "id": "52e75978-c60f-4370-af7c-0f248090ec8a",
   "metadata": {},
   "outputs": [
    {
     "name": "stdout",
     "output_type": "stream",
     "text": [
      "He is 9 years old.\n"
     ]
    }
   ],
   "source": [
    "int age = 9;\n",
    "String s = \"He is \" + age + \" years old.\";\n",
    "System.out.println(s);"
   ]
  },
  {
   "cell_type": "code",
   "execution_count": 15,
   "id": "7c74d06b-4d1b-4ea8-b95b-778c34d1fb23",
   "metadata": {},
   "outputs": [
    {
     "name": "stdout",
     "output_type": "stream",
     "text": [
      "four: 22\n"
     ]
    }
   ],
   "source": [
    "String s = \"four: \" + 2 + 2;\n",
    "System.out.println(s);"
   ]
  },
  {
   "cell_type": "markdown",
   "id": "7e744f36-7654-4297-83bf-b33a55ee6bdc",
   "metadata": {
    "jp-MarkdownHeadingCollapsed": true
   },
   "source": [
    "## String Conversion and toString()"
   ]
  },
  {
   "cell_type": "code",
   "execution_count": 19,
   "id": "5bec2fdf-6bbb-4e27-8c3d-94e6c100d881",
   "metadata": {},
   "outputs": [
    {
     "name": "stdout",
     "output_type": "stream",
     "text": [
      "REPL.$JShell$38$A@44483a95\n"
     ]
    }
   ],
   "source": [
    "class A {}\n",
    "A a = new A();\n",
    "System.out.println(a);"
   ]
  },
  {
   "cell_type": "code",
   "execution_count": 16,
   "id": "2ff8f2df-0865-4bca-98d4-ffaa0e0dde44",
   "metadata": {},
   "outputs": [],
   "source": [
    "// Override toString() for Box class.\n",
    "class Box {\n",
    "    double width;\n",
    "    double height;\n",
    "    double depth;\n",
    "    \n",
    "    Box(double w, double h, double d) {\n",
    "        width = w;\n",
    "        height = h;\n",
    "        depth = d;\n",
    "    }\n",
    "\n",
    "    public String toString() {\n",
    "        return \"Dimensions are \" + width + \" by \" + depth + \" by \" + height + \".\";\n",
    "    }\n",
    "}"
   ]
  },
  {
   "cell_type": "code",
   "execution_count": 17,
   "id": "3993113e-2d28-4cf4-a526-4db427a3dc73",
   "metadata": {},
   "outputs": [
    {
     "name": "stdout",
     "output_type": "stream",
     "text": [
      "Dimensions are 10.0 by 14.0 by 12.0.\n",
      "Box b: Dimensions are 10.0 by 14.0 by 12.0.\n"
     ]
    }
   ],
   "source": [
    "Box b = new Box(10, 12, 14);\n",
    "String s = \"Box b: \" + b; // concatenate Box object\n",
    "System.out.println(b); // convert Box to string\n",
    "System.out.println(s);"
   ]
  },
  {
   "cell_type": "markdown",
   "id": "ddccb430-a062-452f-8dbc-1d4ef856dd42",
   "metadata": {
    "jp-MarkdownHeadingCollapsed": true
   },
   "source": [
    "## Character Extraction"
   ]
  },
  {
   "cell_type": "markdown",
   "id": "b3e87ccc-2316-4b7d-91ad-58f4a0dc74db",
   "metadata": {
    "jp-MarkdownHeadingCollapsed": true
   },
   "source": [
    "### charAt()"
   ]
  },
  {
   "cell_type": "code",
   "execution_count": 20,
   "id": "72dd0a67-2796-481b-967d-f3e4b11e0005",
   "metadata": {},
   "outputs": [
    {
     "name": "stdout",
     "output_type": "stream",
     "text": [
      "b\n"
     ]
    }
   ],
   "source": [
    "// char charAt(int where)\n",
    "char ch;\n",
    "ch = \"abc\".charAt(1);\n",
    "System.out.println(ch);"
   ]
  },
  {
   "cell_type": "markdown",
   "id": "11f0a6fb-4f3e-4e78-b0c1-5acf48b0c553",
   "metadata": {
    "jp-MarkdownHeadingCollapsed": true
   },
   "source": [
    "### getChars()"
   ]
  },
  {
   "cell_type": "code",
   "execution_count": 21,
   "id": "12253051-6263-48aa-8589-51182e509a73",
   "metadata": {},
   "outputs": [
    {
     "name": "stdout",
     "output_type": "stream",
     "text": [
      "demo\n"
     ]
    }
   ],
   "source": [
    "// void getChars(int sourceStart, int sourceEnd, char[ ] target, int targetStart)\n",
    "String s = \"This is a demo of the getChars method.\";\n",
    "int start = 10;\n",
    "int end = 14;\n",
    "char[] buf = new char[end - start];\n",
    "s.getChars(start, end, buf, 0);\n",
    "System.out.println(buf);"
   ]
  },
  {
   "cell_type": "markdown",
   "id": "22dcbb95-614f-4224-a82c-1e20c9fe4116",
   "metadata": {
    "jp-MarkdownHeadingCollapsed": true
   },
   "source": [
    "### getBytes()"
   ]
  },
  {
   "cell_type": "code",
   "execution_count": 24,
   "id": "1283ff10-80ed-49d3-8c50-04aa6f7888fe",
   "metadata": {},
   "outputs": [
    {
     "name": "stdout",
     "output_type": "stream",
     "text": [
      "65\n",
      "66\n",
      "67\n",
      "68\n"
     ]
    }
   ],
   "source": [
    "// byte[ ] getBytes( )\n",
    "byte[] barr = \"ABCD\".getBytes();\n",
    "for (byte b : barr) {\n",
    "  System.out.println(b);\n",
    "}"
   ]
  },
  {
   "cell_type": "markdown",
   "id": "81dfbe5a-05b7-4919-8d67-fb230a426335",
   "metadata": {
    "jp-MarkdownHeadingCollapsed": true
   },
   "source": [
    "### toCharArray()"
   ]
  },
  {
   "cell_type": "code",
   "execution_count": 25,
   "id": "599d4179-5ec9-4e83-97d1-965c9c180b5d",
   "metadata": {},
   "outputs": [
    {
     "name": "stdout",
     "output_type": "stream",
     "text": [
      "A\n",
      "B\n",
      "C\n",
      "D\n"
     ]
    }
   ],
   "source": [
    "// char[ ] toCharArray( )\n",
    "char[] carr = \"ABCD\".toCharArray();\n",
    "for (char c : carr) {\n",
    "  System.out.println(c);\n",
    "}"
   ]
  },
  {
   "cell_type": "markdown",
   "id": "e1a2e874-dff3-47e6-ada0-512b8aff32a2",
   "metadata": {
    "jp-MarkdownHeadingCollapsed": true
   },
   "source": [
    "## String Comparison"
   ]
  },
  {
   "cell_type": "markdown",
   "id": "2cdf89b4-4301-4761-b513-bcf69f39ce0d",
   "metadata": {},
   "source": [
    "### equals() and equalsIgnoreCase()"
   ]
  },
  {
   "cell_type": "code",
   "execution_count": 26,
   "id": "57536372-cfd5-43ff-ae76-857d0633a693",
   "metadata": {},
   "outputs": [],
   "source": [
    "// boolean equals(Object str)\n",
    "// boolean equalsIgnoreCase(String str)\n",
    "// Demonstrate equals() and equalsIgnoreCase().\n",
    "String s1 = \"Hello\";\n",
    "String s2 = \"Hello\";\n",
    "String s3 = \"Good-bye\";\n",
    "String s4 = \"HELLO\";"
   ]
  },
  {
   "cell_type": "code",
   "execution_count": 27,
   "id": "8b1dad50-387d-4f58-a30f-24cbb63582f9",
   "metadata": {},
   "outputs": [
    {
     "name": "stdout",
     "output_type": "stream",
     "text": [
      "Hello equals Hello -> true\n"
     ]
    }
   ],
   "source": [
    "System.out.println(s1 + \" equals \" + s2 + \" -> \" + s1.equals(s2));"
   ]
  },
  {
   "cell_type": "code",
   "execution_count": 28,
   "id": "44343df6-639b-4746-b6c1-8bfb4e327772",
   "metadata": {},
   "outputs": [
    {
     "name": "stdout",
     "output_type": "stream",
     "text": [
      "Hello equals Good-bye -> false\n"
     ]
    }
   ],
   "source": [
    "System.out.println(s1 + \" equals \" + s3 + \" -> \" + s1.equals(s3));"
   ]
  },
  {
   "cell_type": "code",
   "execution_count": 29,
   "id": "0ac66d0f-a409-49ef-a139-38592cce9364",
   "metadata": {},
   "outputs": [
    {
     "name": "stdout",
     "output_type": "stream",
     "text": [
      "Hello equals HELLO -> false\n"
     ]
    }
   ],
   "source": [
    "System.out.println(s1 + \" equals \" + s4 + \" -> \" + s1.equals(s4));"
   ]
  },
  {
   "cell_type": "code",
   "execution_count": 30,
   "id": "3e1453dc-4465-4c00-8f3d-36fddf66923e",
   "metadata": {},
   "outputs": [
    {
     "name": "stdout",
     "output_type": "stream",
     "text": [
      "Hello equalsIgnoreCase HELLO -> true\n"
     ]
    }
   ],
   "source": [
    "System.out.println(s1 + \" equalsIgnoreCase \" + s4 + \" -> \" + s1.equalsIgnoreCase(s4));"
   ]
  },
  {
   "cell_type": "markdown",
   "id": "67547034-c689-4960-a917-fe6e82708a5b",
   "metadata": {},
   "source": [
    "### regionMatches()"
   ]
  },
  {
   "cell_type": "code",
   "execution_count": 32,
   "id": "02fd6153-c454-4bbc-8975-faa7e3426565",
   "metadata": {},
   "outputs": [
    {
     "name": "stdout",
     "output_type": "stream",
     "text": [
      "true\n"
     ]
    }
   ],
   "source": [
    "// boolean regionMatches(int startIndex, String str2, int str2StartIndex, int numChars)\n",
    "// boolean regionMatches(boolean ignoreCase, int startIndex, String str2, int str2StartIndex, int numChars)\n",
    "boolean b = \"I like Java\".regionMatches(3,\"bike\", 1, 3);\n",
    "System.out.println(b);"
   ]
  },
  {
   "cell_type": "markdown",
   "id": "19e2fc1f-7296-4c9f-a2ac-f26d87daa29c",
   "metadata": {},
   "source": [
    "### startsWith() and endsWith()"
   ]
  },
  {
   "cell_type": "code",
   "execution_count": 36,
   "id": "ea49d249-570c-4d80-aad0-1cbb72d43118",
   "metadata": {},
   "outputs": [
    {
     "name": "stdout",
     "output_type": "stream",
     "text": [
      "true\n"
     ]
    }
   ],
   "source": [
    "// // boolean startsWith(String str)\n",
    "System.out.println(\"Foobar\".startsWith(\"Foo\"));"
   ]
  },
  {
   "cell_type": "code",
   "execution_count": 35,
   "id": "c4ad3f69-34cd-4d76-8b8c-13924bbac870",
   "metadata": {},
   "outputs": [
    {
     "name": "stdout",
     "output_type": "stream",
     "text": [
      "true\n"
     ]
    }
   ],
   "source": [
    "// boolean endsWith(String str)\n",
    "System.out.println(\"Foobar\".endsWith(\"bar\"));"
   ]
  },
  {
   "cell_type": "code",
   "execution_count": 37,
   "id": "1bf446db-90c0-46ce-bd3e-3fcc558a6db3",
   "metadata": {},
   "outputs": [
    {
     "name": "stdout",
     "output_type": "stream",
     "text": [
      "true\n"
     ]
    }
   ],
   "source": [
    "// boolean startsWith(String str, int startIndex)\n",
    "System.out.println(\"Foobar\".startsWith(\"bar\", 3));"
   ]
  },
  {
   "cell_type": "markdown",
   "id": "f86edb6b-ceb9-4e11-8eb6-cfc69581f62d",
   "metadata": {},
   "source": [
    "### equals() Versus =="
   ]
  },
  {
   "cell_type": "code",
   "execution_count": null,
   "id": "fcae93d7-ecc4-4fa1-9cc0-7c17317889da",
   "metadata": {},
   "outputs": [],
   "source": []
  },
  {
   "cell_type": "markdown",
   "id": "300b8c59-8904-48cf-9823-28dfaf4df7b7",
   "metadata": {},
   "source": [
    "### equals() Versus =="
   ]
  },
  {
   "cell_type": "code",
   "execution_count": 38,
   "id": "0fe31b64-de04-4285-9222-70a37a80ccd7",
   "metadata": {},
   "outputs": [],
   "source": [
    "// equals() vs ==\n",
    "String s1 = \"Hello\";\n",
    "String s2 = new String(s1);"
   ]
  },
  {
   "cell_type": "code",
   "execution_count": 39,
   "id": "76ea9b5e-4b93-4a13-ae4f-291f1784c77c",
   "metadata": {},
   "outputs": [
    {
     "name": "stdout",
     "output_type": "stream",
     "text": [
      "Hello equals Hello -> true\n"
     ]
    }
   ],
   "source": [
    "System.out.println(s1 + \" equals \" + s2 + \" -> \" + s1.equals(s2));"
   ]
  },
  {
   "cell_type": "code",
   "execution_count": 40,
   "id": "d9d7a4ea-9eb5-43c5-b1d0-6abec362dd10",
   "metadata": {},
   "outputs": [
    {
     "name": "stdout",
     "output_type": "stream",
     "text": [
      "Hello == Hello -> false\n"
     ]
    }
   ],
   "source": [
    "System.out.println(s1 + \" == \" + s2 + \" -> \" + (s1 == s2));"
   ]
  },
  {
   "cell_type": "markdown",
   "id": "fd2aaadd-b6a6-46d1-b859-aa4f1170e007",
   "metadata": {},
   "source": [
    "### compareTo()"
   ]
  },
  {
   "cell_type": "code",
   "execution_count": 41,
   "id": "06d7ef33-f200-4c4c-96d6-e904bd9a30d4",
   "metadata": {},
   "outputs": [],
   "source": [
    "// int compareTo(String str)\n",
    "// A bubble sort for Strings.\n",
    "String[] arr = {\n",
    "\"Now\", \"is\", \"the\", \"time\", \"for\", \"all\", \"good\", \"men\",\n",
    "\"to\", \"come\", \"to\", \"the\", \"aid\", \"of\", \"their\", \"country\"\n",
    "};"
   ]
  },
  {
   "cell_type": "code",
   "execution_count": 42,
   "id": "1cb91e3d-1b80-4440-97fe-9ab6e5adb5e5",
   "metadata": {},
   "outputs": [
    {
     "name": "stdout",
     "output_type": "stream",
     "text": [
      "Now\n",
      "aid\n",
      "all\n",
      "come\n",
      "country\n",
      "for\n",
      "good\n",
      "is\n",
      "men\n",
      "of\n",
      "the\n",
      "the\n",
      "their\n",
      "time\n",
      "to\n",
      "to\n"
     ]
    }
   ],
   "source": [
    "for(int j = 0; j < arr.length; j++) {\n",
    "    for(int i = j + 1; i < arr.length; i++) {\n",
    "        if(arr[i].compareTo(arr[j]) < 0) {\n",
    "            String t = arr[j];\n",
    "            arr[j] = arr[i];\n",
    "            arr[i] = t;\n",
    "        }\n",
    "    }\n",
    "    System.out.println(arr[j]);\n",
    "}"
   ]
  },
  {
   "cell_type": "code",
   "execution_count": 45,
   "id": "bc5391c7-8bd9-4a63-8c70-b27b3be722eb",
   "metadata": {},
   "outputs": [
    {
     "name": "stdout",
     "output_type": "stream",
     "text": [
      "0\n"
     ]
    }
   ],
   "source": [
    "System.out.println(\"A\".compareTo(\"A\"));"
   ]
  },
  {
   "cell_type": "code",
   "execution_count": 43,
   "id": "14c94092-ea52-4548-9040-a72460e2fbbb",
   "metadata": {},
   "outputs": [
    {
     "name": "stdout",
     "output_type": "stream",
     "text": [
      "-1\n"
     ]
    }
   ],
   "source": [
    "System.out.println(\"A\".compareTo(\"B\"));"
   ]
  },
  {
   "cell_type": "code",
   "execution_count": 44,
   "id": "81ab4f16-d724-460f-8cbc-e1133044bb4e",
   "metadata": {},
   "outputs": [
    {
     "name": "stdout",
     "output_type": "stream",
     "text": [
      "1\n"
     ]
    }
   ],
   "source": [
    "System.out.println(\"B\".compareTo(\"A\"));"
   ]
  },
  {
   "cell_type": "code",
   "execution_count": 47,
   "id": "873084d3-20ec-44df-9eeb-5219a23f4fad",
   "metadata": {},
   "outputs": [
    {
     "name": "stdout",
     "output_type": "stream",
     "text": [
      "0\n"
     ]
    }
   ],
   "source": [
    "// int compareToIgnoreCase(String str)\n",
    "System.out.println(\"A\".compareToIgnoreCase(\"a\"));"
   ]
  },
  {
   "cell_type": "code",
   "execution_count": 48,
   "id": "c3c93487-7769-4f66-88c8-1afc4f120828",
   "metadata": {},
   "outputs": [
    {
     "name": "stdout",
     "output_type": "stream",
     "text": [
      "-32\n"
     ]
    }
   ],
   "source": [
    "System.out.println(\"A\".compareTo(\"a\"));"
   ]
  },
  {
   "cell_type": "code",
   "execution_count": 49,
   "id": "54832796-b003-4b83-85fa-e56826c7b9c2",
   "metadata": {},
   "outputs": [
    {
     "name": "stdout",
     "output_type": "stream",
     "text": [
      "32\n"
     ]
    }
   ],
   "source": [
    "System.out.println(\"a\".compareTo(\"A\"));"
   ]
  },
  {
   "cell_type": "markdown",
   "id": "517757d7-7e8c-499b-92ab-ec0701155380",
   "metadata": {
    "jp-MarkdownHeadingCollapsed": true
   },
   "source": [
    "## Searching Strings"
   ]
  },
  {
   "cell_type": "markdown",
   "id": "823e5079-4a24-41e8-9a85-3e4cb7fbe4fe",
   "metadata": {},
   "source": [
    "### indexOf() & lastIndexOf()"
   ]
  },
  {
   "cell_type": "code",
   "execution_count": 51,
   "id": "f8f9fc6e-eb3e-4519-b278-b88705a7e652",
   "metadata": {},
   "outputs": [
    {
     "name": "stdout",
     "output_type": "stream",
     "text": [
      "Now is the time for all good men to come to the aid of their country.\n"
     ]
    }
   ],
   "source": [
    "// Demonstrate indexOf() and lastIndexOf().\n",
    "String s = \"Now is the time for all good men to come to the aid of their country.\";\n",
    "System.out.println(s);"
   ]
  },
  {
   "cell_type": "code",
   "execution_count": 52,
   "id": "88a25d54-1bce-4cf6-850a-7b0166674dea",
   "metadata": {},
   "outputs": [
    {
     "name": "stdout",
     "output_type": "stream",
     "text": [
      "indexOf(t) = 7\n"
     ]
    }
   ],
   "source": [
    "System.out.println(\"indexOf(t) = \" + s.indexOf('t'));"
   ]
  },
  {
   "cell_type": "code",
   "execution_count": 53,
   "id": "36be9dd0-233a-4667-a613-4dd82cfc278a",
   "metadata": {},
   "outputs": [
    {
     "name": "stdout",
     "output_type": "stream",
     "text": [
      "lastIndexOf(t) = 65\n"
     ]
    }
   ],
   "source": [
    "System.out.println(\"lastIndexOf(t) = \" + s.lastIndexOf('t'));"
   ]
  },
  {
   "cell_type": "code",
   "execution_count": 54,
   "id": "b12f212f-5aa7-4707-8907-b5fd19b0cbec",
   "metadata": {},
   "outputs": [
    {
     "name": "stdout",
     "output_type": "stream",
     "text": [
      "indexOf(the) = 7\n"
     ]
    }
   ],
   "source": [
    "System.out.println(\"indexOf(the) = \" + s.indexOf(\"the\"));"
   ]
  },
  {
   "cell_type": "code",
   "execution_count": 55,
   "id": "1914e7a2-5f8f-4627-81e4-0198d1a50fca",
   "metadata": {},
   "outputs": [
    {
     "name": "stdout",
     "output_type": "stream",
     "text": [
      "lastIndexOf(the) = 55\n"
     ]
    }
   ],
   "source": [
    "System.out.println(\"lastIndexOf(the) = \" + s.lastIndexOf(\"the\"));"
   ]
  },
  {
   "cell_type": "code",
   "execution_count": 56,
   "id": "cc9471e1-5109-4cba-b9cc-63e66b911b13",
   "metadata": {},
   "outputs": [
    {
     "name": "stdout",
     "output_type": "stream",
     "text": [
      "indexOf(t, 10) = 11\n"
     ]
    }
   ],
   "source": [
    "System.out.println(\"indexOf(t, 10) = \" + s.indexOf('t', 10));"
   ]
  },
  {
   "cell_type": "code",
   "execution_count": 57,
   "id": "e47522c8-cea7-4bce-961c-c88f19c9c981",
   "metadata": {},
   "outputs": [
    {
     "name": "stdout",
     "output_type": "stream",
     "text": [
      "lastIndexOf(t, 60) = 55\n"
     ]
    }
   ],
   "source": [
    "System.out.println(\"lastIndexOf(t, 60) = \" + s.lastIndexOf('t', 60));"
   ]
  },
  {
   "cell_type": "code",
   "execution_count": 58,
   "id": "bf80eaa0-4c5d-42ec-958f-d0ba01037e40",
   "metadata": {},
   "outputs": [
    {
     "name": "stdout",
     "output_type": "stream",
     "text": [
      "indexOf(the, 10) = 44\n"
     ]
    }
   ],
   "source": [
    "System.out.println(\"indexOf(the, 10) = \" + s.indexOf(\"the\", 10));"
   ]
  },
  {
   "cell_type": "code",
   "execution_count": 59,
   "id": "8e0f7280-fe17-4cc6-a782-6e5f80205c6a",
   "metadata": {},
   "outputs": [
    {
     "name": "stdout",
     "output_type": "stream",
     "text": [
      "lastIndexOf(the, 60) = 55\n"
     ]
    }
   ],
   "source": [
    "System.out.println(\"lastIndexOf(the, 60) = \" + s.lastIndexOf(\"the\", 60));"
   ]
  },
  {
   "cell_type": "markdown",
   "id": "fb7dddb8-f219-49f5-ace0-4b28a7a964d9",
   "metadata": {},
   "source": [
    "## Modifying a String"
   ]
  },
  {
   "cell_type": "markdown",
   "id": "d168c63a-de5e-4701-8cf9-420bcbd44fd8",
   "metadata": {},
   "source": [
    "### substring()"
   ]
  },
  {
   "cell_type": "code",
   "execution_count": 63,
   "id": "b1bda36e-ab00-424b-8881-71d8e2117bb5",
   "metadata": {},
   "outputs": [
    {
     "name": "stdout",
     "output_type": "stream",
     "text": [
      "like Java\n"
     ]
    }
   ],
   "source": [
    "// String substring(int startIndex)\n",
    "String s = \"I like Java\";\n",
    "System.out.println(s.substring(2));"
   ]
  },
  {
   "cell_type": "code",
   "execution_count": 64,
   "id": "9f150f9d-00bc-4a71-8f5e-98f3fda5dadf",
   "metadata": {},
   "outputs": [
    {
     "name": "stdout",
     "output_type": "stream",
     "text": [
      "like\n"
     ]
    }
   ],
   "source": [
    "// String substring(int startIndex, int endIndex)\n",
    "String s = \"I like Java\";\n",
    "System.out.println(s.substring(2,6));"
   ]
  },
  {
   "cell_type": "markdown",
   "id": "375baf4e-838d-472b-9df2-b226f9d724f8",
   "metadata": {},
   "source": [
    "### concat()"
   ]
  },
  {
   "cell_type": "code",
   "execution_count": 65,
   "id": "355d0d79-4b76-415c-87a3-44bb0dda5034",
   "metadata": {},
   "outputs": [
    {
     "name": "stdout",
     "output_type": "stream",
     "text": [
      "onetwo\n"
     ]
    }
   ],
   "source": [
    "// String concat(String str)\n",
    "String s1 = \"one\";\n",
    "String s2 = s1.concat(\"two\");\n",
    "System.out.println(s2);"
   ]
  },
  {
   "cell_type": "code",
   "execution_count": 66,
   "id": "1876ef7e-9177-439a-bc46-36bc7d81f33d",
   "metadata": {},
   "outputs": [
    {
     "name": "stdout",
     "output_type": "stream",
     "text": [
      "onetwo\n"
     ]
    }
   ],
   "source": [
    "String s1 = \"one\";\n",
    "String s2 = s1 + \"two\";\n",
    "System.out.println(s2);"
   ]
  },
  {
   "cell_type": "markdown",
   "id": "8443ad92-2cef-4a97-aa70-5a241a4982d3",
   "metadata": {},
   "source": [
    "### replace()"
   ]
  },
  {
   "cell_type": "code",
   "execution_count": 67,
   "id": "b446be3b-b7ec-4d6b-aff2-0cbbc135807b",
   "metadata": {},
   "outputs": [
    {
     "name": "stdout",
     "output_type": "stream",
     "text": [
      "Hewwo\n"
     ]
    }
   ],
   "source": [
    "// String replace(char original, char replacement)\n",
    "String s = \"Hello\".replace('l', 'w');\n",
    "System.out.println(s);"
   ]
  },
  {
   "cell_type": "code",
   "execution_count": 69,
   "id": "6042e7ad-c1e2-4cc6-bc26-736de567bcca",
   "metadata": {},
   "outputs": [],
   "source": [
    "// String replace(CharSequence original, CharSequence replacement)"
   ]
  },
  {
   "cell_type": "markdown",
   "id": "05892e23-e3b9-48b7-b257-53d244e24f22",
   "metadata": {},
   "source": [
    "### trim() and strip()"
   ]
  },
  {
   "cell_type": "code",
   "execution_count": 70,
   "id": "a85aad9b-b693-4c97-83b5-5d67ba6e7a87",
   "metadata": {},
   "outputs": [
    {
     "name": "stdout",
     "output_type": "stream",
     "text": [
      "Hello World\n"
     ]
    }
   ],
   "source": [
    "// String trim( )\n",
    "String s = \" Hello World \".trim();\n",
    "System.out.println(s);"
   ]
  },
  {
   "cell_type": "markdown",
   "id": "a994a350-0822-4265-8861-4aa2f512a4fd",
   "metadata": {},
   "source": [
    "## Data Conversion Using valueOf()"
   ]
  },
  {
   "cell_type": "code",
   "execution_count": 71,
   "id": "b96010d9-3998-463e-8319-7e8b9e0890bb",
   "metadata": {},
   "outputs": [],
   "source": [
    "// static String valueOf(double num)\n",
    "// static String valueOf(long num)\n",
    "// static String valueOf(Object ob)\n",
    "// static String valueOf(char[ ] chars)\n",
    "// static String valueOf(char[ ] chars, int startIndex, int numChars)"
   ]
  },
  {
   "cell_type": "code",
   "execution_count": 72,
   "id": "ab95bb77-cb38-4c7e-86d8-c51139b1adf8",
   "metadata": {},
   "outputs": [
    {
     "name": "stdout",
     "output_type": "stream",
     "text": [
      "1.23\n"
     ]
    }
   ],
   "source": [
    "System.out.println(String.valueOf(1.23));"
   ]
  },
  {
   "cell_type": "code",
   "execution_count": 77,
   "id": "bdb80a6c-35b2-47d1-bf53-740158507da4",
   "metadata": {},
   "outputs": [
    {
     "name": "stdout",
     "output_type": "stream",
     "text": [
      "[I@3e0b5519\n"
     ]
    }
   ],
   "source": [
    "int[] arr = {1,2,3};\n",
    "System.out.println(String.valueOf(arr));"
   ]
  },
  {
   "cell_type": "markdown",
   "id": "02d681b9-6acb-4882-8cee-401685335254",
   "metadata": {},
   "source": [
    "## Changing the Case of Characters Within a String"
   ]
  },
  {
   "cell_type": "code",
   "execution_count": 79,
   "id": "7ac1157d-06d4-40e8-9e43-0ea23426614f",
   "metadata": {},
   "outputs": [
    {
     "name": "stdout",
     "output_type": "stream",
     "text": [
      "Original: This is a test.\n",
      "Uppercase: THIS IS A TEST.\n",
      "Lowercase: this is a test.\n"
     ]
    }
   ],
   "source": [
    "// String toLowerCase( )\n",
    "// String toUpperCase( )\n",
    "// Demonstrate toUpperCase() and toLowerCase().\n",
    "String s = \"This is a test.\";\n",
    "System.out.println(\"Original: \" + s);\n",
    "\n",
    "String upper = s.toUpperCase();\n",
    "String lower = s.toLowerCase();\n",
    "\n",
    "System.out.println(\"Uppercase: \" + upper);\n",
    "System.out.println(\"Lowercase: \" + lower);"
   ]
  },
  {
   "cell_type": "markdown",
   "id": "289c28d1-291c-4ad2-9304-3b7340dc8541",
   "metadata": {},
   "source": [
    "## Joining Strings"
   ]
  },
  {
   "cell_type": "code",
   "execution_count": 80,
   "id": "f754cbb0-b792-4300-905f-8ea995a36756",
   "metadata": {},
   "outputs": [
    {
     "name": "stdout",
     "output_type": "stream",
     "text": [
      "Alpha Beta Gamma\n"
     ]
    }
   ],
   "source": [
    "// static String join(CharSequence delim, CharSequence . . . strs)\n",
    "// Demonstrate the join() method defined by String.\n",
    "String result = String.join(\" \", \"Alpha\", \"Beta\", \"Gamma\");\n",
    "System.out.println(result);"
   ]
  },
  {
   "cell_type": "code",
   "execution_count": 81,
   "id": "3c1c5ea0-f137-4e61-a9ea-57ab264f6a64",
   "metadata": {},
   "outputs": [
    {
     "name": "stdout",
     "output_type": "stream",
     "text": [
      "John, ID#: 569, E-mail: John@HerbSchildt.com\n"
     ]
    }
   ],
   "source": [
    "result = String.join(\", \", \"John\", \"ID#: 569\", \"E-mail: John@HerbSchildt.com\");\n",
    "System.out.println(result);"
   ]
  },
  {
   "cell_type": "markdown",
   "id": "123eedb9-0f12-4372-bebd-8fd9f1556f6c",
   "metadata": {},
   "source": [
    "## Additional String Methods"
   ]
  },
  {
   "cell_type": "code",
   "execution_count": 83,
   "id": "6f03bb41-a7e1-47d9-b3eb-a8d31bd65e95",
   "metadata": {},
   "outputs": [],
   "source": [
    "// https://docs.oracle.com/javase/8/docs/api/java/lang/String.html"
   ]
  },
  {
   "cell_type": "code",
   "execution_count": null,
   "id": "cdb9e93a-4165-4eea-a5e5-b95a904c9dbb",
   "metadata": {},
   "outputs": [],
   "source": []
  }
 ],
 "metadata": {
  "kernelspec": {
   "display_name": "Java",
   "language": "java",
   "name": "java"
  },
  "language_info": {
   "codemirror_mode": "java",
   "file_extension": ".jshell",
   "mimetype": "text/x-java-source",
   "name": "Java",
   "pygments_lexer": "java",
   "version": "21.0.1+12-LTS"
  }
 },
 "nbformat": 4,
 "nbformat_minor": 5
}

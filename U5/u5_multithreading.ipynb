{
 "cells": [
  {
   "cell_type": "markdown",
   "id": "3f154375-cd88-413c-ad7e-8b0ce5bcb957",
   "metadata": {},
   "source": [
    "# Multithreaded Programming"
   ]
  },
  {
   "cell_type": "markdown",
   "id": "9e8751a2-d761-4145-abb4-241e8588fc9e",
   "metadata": {},
   "source": [
    "## The Thread Class and the Runnable Interface"
   ]
  },
  {
   "cell_type": "markdown",
   "id": "a7fae4ac-516c-4950-93d9-b0bb83b5acc0",
   "metadata": {},
   "source": [
    "[Thread class](https://docs.oracle.com/javase/8/docs/api/java/lang/Thread.html)"
   ]
  },
  {
   "cell_type": "raw",
   "id": "7d3ce017-f83b-4194-8b49-02ef63c60c64",
   "metadata": {},
   "source": [
    "static Thread currentThread()\n",
    "static void sleep(long milliseconds) throws InterruptedException\n",
    "static void sleep(long milliseconds, int nanoseconds) throws InterruptedException\n",
    "final void setName(String threadName)\n",
    "final String getName()"
   ]
  },
  {
   "cell_type": "code",
   "execution_count": 1,
   "id": "6bd514b4-a5ce-4818-a648-530b2bfdcae4",
   "metadata": {},
   "outputs": [
    {
     "name": "stdout",
     "output_type": "stream",
     "text": [
      "Current thread: Thread[#20,IJava-executor-0,5,main]\n",
      "After name change: Thread[#20,My Thread,5,main]\n",
      "5\n",
      "4\n",
      "3\n",
      "2\n",
      "1\n"
     ]
    }
   ],
   "source": [
    "// Controlling the main Thread.\n",
    "Thread t = Thread.currentThread();\n",
    "System.out.println(\"Current thread: \" + t);\n",
    "// change the name of the thread\n",
    "t.setName(\"My Thread\");\n",
    "System.out.println(\"After name change: \" + t);\n",
    "\n",
    "try {\n",
    "    for(int n = 5; n > 0; n--) {\n",
    "        System.out.println(n);\n",
    "        Thread.sleep(1000);\n",
    "    }\n",
    "} catch (InterruptedException e) {\n",
    "    System.out.println(\"Main thread interrupted\");\n",
    "}"
   ]
  },
  {
   "cell_type": "markdown",
   "id": "95bc29a5-faa0-4048-8b93-93f320c14f51",
   "metadata": {},
   "source": [
    "## Creating a Thread"
   ]
  },
  {
   "cell_type": "markdown",
   "id": "1d68a86a-5296-4a93-965b-d438bdaf5ec0",
   "metadata": {},
   "source": [
    "1. You can implement the Runnable interface.\n",
    "2. You can extend the Thread class, itself."
   ]
  },
  {
   "cell_type": "markdown",
   "id": "2fa3efc9-d21f-4134-8d94-b4a1de14e455",
   "metadata": {},
   "source": [
    "## Implementing Runnable"
   ]
  },
  {
   "cell_type": "markdown",
   "id": "30c2ffe4-9b05-4ad2-8e48-97bb6203bd70",
   "metadata": {},
   "source": [
    "[Runnable interface](https://docs.oracle.com/javase/8/docs/api/java/lang/Runnable.html)"
   ]
  },
  {
   "cell_type": "raw",
   "id": "41c32402-609f-46bc-868d-476640f52ad0",
   "metadata": {},
   "source": [
    "public void run()\n",
    "Thread(Runnable threadOb, String threadName)\n",
    "void start()"
   ]
  },
  {
   "cell_type": "code",
   "execution_count": 1,
   "id": "8980216a-a8fd-4602-a53e-6a60e1ed327c",
   "metadata": {},
   "outputs": [],
   "source": [
    "class NewThread implements Runnable {\n",
    "    Thread t;\n",
    "    NewThread() {\n",
    "        // Create a new, second thread\n",
    "        t = new Thread(this, \"Demo Thread\");\n",
    "        System.out.println(\"Child thread: \" + t);\n",
    "    }\n",
    "    // This is the entry point for the second thread.\n",
    "    public void run() {\n",
    "        try {\n",
    "            for(int i = 5; i > 0; i--) {\n",
    "                System.out.println(\"Child Thread: \" + i);\n",
    "                Thread.sleep(500);\n",
    "            }\n",
    "        } catch (InterruptedException e) {\n",
    "            System.out.println(\"Child interrupted.\");\n",
    "        }\n",
    "        System.out.println(\"Exiting child thread.\");\n",
    "    }\n",
    "}"
   ]
  },
  {
   "cell_type": "code",
   "execution_count": 7,
   "id": "a213c23a-b10e-466e-ae5b-1c07343b1e9d",
   "metadata": {},
   "outputs": [
    {
     "name": "stdout",
     "output_type": "stream",
     "text": [
      "Child thread: Thread[#26,Demo Thread,5,main]\n",
      "Child Thread: 5\n",
      "Main Thread: 5\n",
      "Child Thread: 4\n",
      "Child Thread: 3\n",
      "Main Thread: 4\n",
      "Child Thread: 2\n",
      "Child Thread: 1\n",
      "Main Thread: 3\n",
      "Exiting child thread.\n",
      "Main Thread: 2\n",
      "Main Thread: 1\n",
      "Main thread exiting.\n"
     ]
    }
   ],
   "source": [
    "NewThread nt = new NewThread(); // create a new thread\n",
    "nt.t.start(); // Start the thread\n",
    "try {\n",
    "    for(int i = 5; i > 0; i--) {\n",
    "        System.out.println(\"Main Thread: \" + i);\n",
    "        Thread.sleep(1000);\n",
    "    }\n",
    "} catch (InterruptedException e) {\n",
    "    System.out.println(\"Main thread interrupted.\");\n",
    "}\n",
    "System.out.println(\"Main thread exiting.\");"
   ]
  },
  {
   "cell_type": "markdown",
   "id": "32e41d5f-148c-4e0d-ab9c-26d5f3262431",
   "metadata": {},
   "source": [
    "# Extending Thread"
   ]
  },
  {
   "cell_type": "code",
   "execution_count": 1,
   "id": "7e21f1ff-4107-448b-98dd-c7a4fcc18008",
   "metadata": {},
   "outputs": [],
   "source": [
    "class NewThread extends Thread {\n",
    "    NewThread() {\n",
    "        // Create a new, second thread\n",
    "        super(\"Demo Thread\");\n",
    "        System.out.println(\"Child thread: \" + this);\n",
    "    }\n",
    "    // This is the entry point for the second thread.\n",
    "    public void run() {\n",
    "        try {\n",
    "            for(int i = 5; i > 0; i--) {\n",
    "                System.out.println(\"Child Thread: \" + i);\n",
    "                Thread.sleep(500);\n",
    "            }\n",
    "        } catch (InterruptedException e) {\n",
    "            System.out.println(\"Child interrupted.\");\n",
    "        }\n",
    "        System.out.println(\"Exiting child thread.\");\n",
    "    }\n",
    "}"
   ]
  },
  {
   "cell_type": "code",
   "execution_count": 3,
   "id": "fff26321-b3ca-46a6-bebe-76a3818fcf64",
   "metadata": {},
   "outputs": [
    {
     "name": "stdout",
     "output_type": "stream",
     "text": [
      "Child thread: Thread[#22,Demo Thread,5,main]\n",
      "Child Thread: 5\n",
      "Main Thread: 5\n",
      "Child Thread: 4\n",
      "Child Thread: 3\n",
      "Main Thread: 4\n",
      "Child Thread: 2\n",
      "Child Thread: 1\n",
      "Main Thread: 3\n",
      "Exiting child thread.\n",
      "Main Thread: 2\n",
      "Main Thread: 1\n",
      "Main thread exiting.\n"
     ]
    }
   ],
   "source": [
    "NewThread nt = new NewThread(); // create a new thread\n",
    "nt.start(); // start the thread\n",
    "try {\n",
    "    for(int i = 5; i > 0; i--) {\n",
    "        System.out.println(\"Main Thread: \" + i);\n",
    "        Thread.sleep(1000);\n",
    "    }\n",
    "} catch (InterruptedException e) {\n",
    "    System.out.println(\"Main thread interrupted.\");\n",
    "}\n",
    "System.out.println(\"Main thread exiting.\");"
   ]
  },
  {
   "cell_type": "markdown",
   "id": "b1d9dcf8-de0a-4ef4-8e50-93b22e53a589",
   "metadata": {},
   "source": [
    "# Creating Multiple Threads"
   ]
  },
  {
   "cell_type": "code",
   "execution_count": 4,
   "id": "e88991ce-d6c7-4c83-9072-8107e1759ab9",
   "metadata": {},
   "outputs": [],
   "source": [
    "// Create multiple threads.\n",
    "class NewThread implements Runnable {\n",
    "    String name; // name of thread\n",
    "    Thread t;\n",
    "    NewThread(String threadname) {\n",
    "        name = threadname;\n",
    "        t = new Thread(this, name);\n",
    "        System.out.println(\"New thread: \" + t);\n",
    "    }\n",
    "    // This is the entry point for thread.\n",
    "    public void run() {\n",
    "        try {\n",
    "            for(int i = 5; i > 0; i--) {\n",
    "                System.out.println(name + \": \" + i);\n",
    "                Thread.sleep(1000);\n",
    "            }\n",
    "        } catch (InterruptedException e) {\n",
    "            System.out.println(name + \"Interrupted\");\n",
    "        }\n",
    "        System.out.println(name + \" exiting.\");\n",
    "    }\n",
    "}"
   ]
  },
  {
   "cell_type": "code",
   "execution_count": 5,
   "id": "a8047e69-6ae1-42c6-82dc-052a87c0ba4d",
   "metadata": {},
   "outputs": [
    {
     "name": "stdout",
     "output_type": "stream",
     "text": [
      "New thread: Thread[#24,One,5,main]\n",
      "New thread: Thread[#25,Two,5,main]\n",
      "New thread: Thread[#26,Three,5,main]\n",
      "One: 5\n",
      "Two: 5\n",
      "Three: 5\n",
      "One: 4\n",
      "Two: 4\n",
      "Three: 4\n",
      "One: 3\n",
      "Two: 3\n",
      "Three: 3\n",
      "One: 2\n",
      "Two: 2\n",
      "Three: 2\n",
      "One: 1\n",
      "Two: 1\n",
      "Three: 1\n",
      "One exiting.\n",
      "Two exiting.\n",
      "Three exiting.\n",
      "Main thread exiting.\n"
     ]
    }
   ],
   "source": [
    "NewThread nt1 = new NewThread(\"One\");\n",
    "NewThread nt2 = new NewThread(\"Two\");\n",
    "NewThread nt3 = new NewThread(\"Three\");\n",
    "// Start the threads.\n",
    "nt1.t.start();\n",
    "nt2.t.start();\n",
    "nt3.t.start();\n",
    "try {\n",
    "    // wait for other threads to end\n",
    "    Thread.sleep(10000);\n",
    "} catch (InterruptedException e) {\n",
    "    System.out.println(\"Main thread Interrupted\");\n",
    "}\n",
    "System.out.println(\"Main thread exiting.\");"
   ]
  },
  {
   "cell_type": "code",
   "execution_count": null,
   "id": "bcfefaa7-454f-479f-8895-dddb1f4a7b83",
   "metadata": {},
   "outputs": [],
   "source": []
  }
 ],
 "metadata": {
  "kernelspec": {
   "display_name": "Java",
   "language": "java",
   "name": "java"
  },
  "language_info": {
   "codemirror_mode": "java",
   "file_extension": ".jshell",
   "mimetype": "text/x-java-source",
   "name": "Java",
   "pygments_lexer": "java",
   "version": "21.0.1+12-LTS"
  }
 },
 "nbformat": 4,
 "nbformat_minor": 5
}

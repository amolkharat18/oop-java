{
 "cells": [
  {
   "cell_type": "markdown",
   "id": "96ed5820-e58f-425b-a2d8-128b1cdf0ee7",
   "metadata": {},
   "source": [
    "# Exception Handling"
   ]
  },
  {
   "cell_type": "markdown",
   "id": "f6ec1b5b-f9a3-4664-aacd-1fb15245e451",
   "metadata": {},
   "source": [
    "- An exception is an abnormal condition that arises in a code sequence at run time.\n",
    "- An exception is a run-time \n",
    "erro\n",
    "- Brings  run-time error management into the object-oriented world."
   ]
  },
  {
   "cell_type": "markdown",
   "id": "55c9f3e7-ea56-48d8-93e9-6c3b3ba8ea2c",
   "metadata": {},
   "source": [
    "## Exception-Handling Fundamentals"
   ]
  },
  {
   "cell_type": "markdown",
   "id": "b23998e6-2375-43b3-b36a-eac57a1029e7",
   "metadata": {},
   "source": [
    "A Java exception is an object that describes an exceptional (that is, error) condition \n",
    "that has occurred in a piece of code."
   ]
  },
  {
   "cell_type": "markdown",
   "id": "e80ee5d7-4d61-4030-a1f1-47c8e6c9a390",
   "metadata": {},
   "source": [
    "Five keywords: try, catch, throw, throws, and finally."
   ]
  },
  {
   "cell_type": "raw",
   "id": "d7fa1254-4f1b-444c-8502-c4ce96a9cf8b",
   "metadata": {},
   "source": [
    "This is the general form of an exception-handling block:\n",
    "try {\n",
    "// block of code to monitor for errors\n",
    "}\n",
    "catch (ExceptionType1 exOb) {\n",
    "// exception handler for ExceptionType1\n",
    "}\n",
    "catch (ExceptionType2 exOb) {\n",
    "// exception handler for ExceptionType2\n",
    "}\n",
    "// ...\n",
    "finally {\n",
    "// block of code to be executed after try block ends\n",
    "}"
   ]
  },
  {
   "cell_type": "markdown",
   "id": "40de138b-8f28-4450-9134-4d90ec93a5a6",
   "metadata": {},
   "source": [
    "## Exception Types"
   ]
  },
  {
   "cell_type": "markdown",
   "id": "42142f75-8f66-4054-bbc8-8039aba5911b",
   "metadata": {},
   "source": [
    "- [Throwable](https://docs.oracle.com/javase/8/docs/api/java/lang/Throwable.html)\n",
    "    - [Exception](https://docs.oracle.com/javase/8/docs/api/java/lang/Exception.html)\n",
    "        - [RuntimeException](https://docs.oracle.com/javase/8/docs/api/java/lang/RuntimeException.html)\n",
    "    - [Error](https://docs.oracle.com/javase/8/docs/api/java/lang/Error.html)"
   ]
  },
  {
   "cell_type": "markdown",
   "id": "89a1f03b-4357-48d6-b840-db27df4b14ff",
   "metadata": {},
   "source": [
    "## Uncaught Exceptions"
   ]
  },
  {
   "cell_type": "code",
   "execution_count": 1,
   "id": "de78442a-07c2-4806-b890-63aac990cdcc",
   "metadata": {},
   "outputs": [
    {
     "ename": "EvalException",
     "evalue": "/ by zero",
     "output_type": "error",
     "traceback": [
      "\u001b[1m\u001b[31m---------------------------------------------------------------------------\u001b[0m",
      "\u001b[1m\u001b[31mjava.lang.ArithmeticException: / by zero\u001b[0m",
      "\u001b[1m\u001b[31m\tat .(#13:1)\u001b[0m"
     ]
    }
   ],
   "source": [
    "int d = 0;\n",
    "int a = 42 / d;"
   ]
  },
  {
   "cell_type": "code",
   "execution_count": 2,
   "id": "b0e6f56c-47e2-4ca6-bf35-a4d7c7128dcd",
   "metadata": {},
   "outputs": [
    {
     "ename": "EvalException",
     "evalue": "/ by zero",
     "output_type": "error",
     "traceback": [
      "\u001b[1m\u001b[31m---------------------------------------------------------------------------\u001b[0m",
      "\u001b[1m\u001b[31mjava.lang.ArithmeticException: / by zero\u001b[0m",
      "\u001b[1m\u001b[31m\tat .subroutine(#14:3)\u001b[0m",
      "\u001b[1m\u001b[31m\tat .(#15:1)\u001b[0m"
     ]
    }
   ],
   "source": [
    "void subroutine() {\n",
    "    int d = 0;\n",
    "    int a = 10 / d;\n",
    "}\n",
    "\n",
    "subroutine();"
   ]
  },
  {
   "cell_type": "code",
   "execution_count": 3,
   "id": "66833a8a-1e15-43ca-b3cb-4f0606431620",
   "metadata": {},
   "outputs": [
    {
     "ename": "EvalException",
     "evalue": "/ by zero",
     "output_type": "error",
     "traceback": [
      "\u001b[1m\u001b[31m---------------------------------------------------------------------------\u001b[0m",
      "\u001b[1m\u001b[31mjava.lang.ArithmeticException: / by zero\u001b[0m",
      "\u001b[1m\u001b[31m\tat .subroutine1(#16:3)\u001b[0m",
      "\u001b[1m\u001b[31m\tat .subroutine2(#17:1)\u001b[0m",
      "\u001b[1m\u001b[31m\tat .subroutine3(#18:1)\u001b[0m",
      "\u001b[1m\u001b[31m\tat .(#19:1)\u001b[0m"
     ]
    }
   ],
   "source": [
    "void subroutine1() {\n",
    "    int d = 0;\n",
    "    int a = 10 / d;\n",
    "}\n",
    "\n",
    "void subroutine2() {\n",
    "    subroutine1();\n",
    "}\n",
    "\n",
    "void subroutine3() {\n",
    "    subroutine2();\n",
    "}\n",
    "\n",
    "subroutine3();"
   ]
  },
  {
   "cell_type": "markdown",
   "id": "fccdca61-ee48-43b0-8a87-1afa94c2b987",
   "metadata": {},
   "source": [
    "## Using try and catch"
   ]
  },
  {
   "cell_type": "markdown",
   "id": "3d6975ed-f60a-4415-8abb-b01b35e148ec",
   "metadata": {},
   "source": [
    "int d, a;\n",
    "try { // monitor a block of code.\n",
    "    d = 7;\n",
    "    a = 42 / d;\n",
    "    System.out.println(\"This be printed.\");\n",
    "} catch (ArithmeticException e) { // catch divide-by-zero error\n",
    "    System.out.println(\"Division by zero.\");\n",
    "    a = 0;\n",
    "}\n",
    "\n",
    "System.out.println(\"After catch statement.\");\n",
    "System.out.println(\"a: \" + a);"
   ]
  },
  {
   "cell_type": "code",
   "execution_count": 10,
   "id": "5867ebe1-ac21-457b-83af-2992187159b6",
   "metadata": {
    "collapsed": true,
    "jupyter": {
     "outputs_hidden": true
    }
   },
   "outputs": [
    {
     "name": "stdout",
     "output_type": "stream",
     "text": [
      "Division by zero.\n",
      "After catch statement.\n",
      "a: 0\n"
     ]
    }
   ],
   "source": [
    "int d, a;\n",
    "try { // monitor a block of code.\n",
    "    d = 0;\n",
    "    a = 42 / d;\n",
    "    System.out.println(\"This will not be printed.\");\n",
    "} catch (ArithmeticException e) { // catch divide-by-zero error\n",
    "    System.out.println(\"Division by zero.\");\n",
    "    a = 0;\n",
    "}\n",
    "\n",
    "System.out.println(\"After catch statement.\");\n",
    "System.out.println(\"a: \" + a);"
   ]
  },
  {
   "cell_type": "markdown",
   "id": "7d5ccbb7-b12f-4188-a6d6-ae918782fdc0",
   "metadata": {},
   "source": [
    "## Displaying a Description of an Exception"
   ]
  },
  {
   "cell_type": "code",
   "execution_count": 1,
   "id": "81485673-a6f9-42f4-9480-9a848b3e5e28",
   "metadata": {},
   "outputs": [
    {
     "name": "stdout",
     "output_type": "stream",
     "text": [
      "Exception: java.lang.ArithmeticException: / by zero\n",
      "After catch statement.\n",
      "a: 0\n"
     ]
    }
   ],
   "source": [
    "int d, a;\n",
    "try { // monitor a block of code.\n",
    "    d = 0;\n",
    "    a = 42 / d;\n",
    "    System.out.println(\"This will not be printed.\");\n",
    "} catch (ArithmeticException e) { // catch divide-by-zero error\n",
    "    System.out.println(\"Exception: \" + e);\n",
    "    a = 0; // set a to zero and continue\n",
    "}\n",
    "\n",
    "System.out.println(\"After catch statement.\");\n",
    "System.out.println(\"a: \" + a);"
   ]
  },
  {
   "cell_type": "markdown",
   "id": "3b2177d3-8559-4fbe-bdec-b7ee2229ccdc",
   "metadata": {},
   "source": [
    "## Multiple catch Clauses"
   ]
  },
  {
   "cell_type": "markdown",
   "id": "3268d3f6-5a98-4816-839c-5c1409b864c0",
   "metadata": {},
   "source": [
    "In some cases, more than one exception could be raised by a single piece of code. To handle this type of situation, you can specify two or more catch clauses, each catching a different type of exception."
   ]
  },
  {
   "cell_type": "code",
   "execution_count": 14,
   "id": "85fde5f6-bd9d-4fd3-910d-59a5ab4d4894",
   "metadata": {},
   "outputs": [
    {
     "name": "stdout",
     "output_type": "stream",
     "text": [
      "a = 0\n",
      "Divide by 0: java.lang.ArithmeticException: / by zero\n",
      "After try/catch blocks.\n"
     ]
    }
   ],
   "source": [
    "// Demonstrate multiple catch statements.\n",
    "try {\n",
    "    int a = 0;\n",
    "    System.out.println(\"a = \" + a);\n",
    "    int b = 42 / a;\n",
    "    int[] c = { 1 };\n",
    "    c[42] = 99;\n",
    "} catch(ArithmeticException e) {\n",
    "    System.out.println(\"Divide by 0: \" + e);\n",
    "} catch(ArrayIndexOutOfBoundsException e) {\n",
    "    System.out.println(\"Array index oob: \" + e);\n",
    "}\n",
    "System.out.println(\"After try/catch blocks.\");"
   ]
  },
  {
   "cell_type": "code",
   "execution_count": 15,
   "id": "5e4da25b-0e91-4b02-b1af-d9f44c52e1ba",
   "metadata": {},
   "outputs": [
    {
     "name": "stdout",
     "output_type": "stream",
     "text": [
      "a = 1\n",
      "Array index oob: java.lang.ArrayIndexOutOfBoundsException: Index 42 out of bounds for length 1\n",
      "After try/catch blocks.\n"
     ]
    }
   ],
   "source": [
    "// Demonstrate multiple catch statements.\n",
    "try {\n",
    "    int a = 1;\n",
    "    System.out.println(\"a = \" + a);\n",
    "    int b = 42 / a;\n",
    "    int[] c = { 1 };\n",
    "    c[42] = 99;\n",
    "} catch(ArithmeticException e) {\n",
    "    System.out.println(\"Divide by 0: \" + e);\n",
    "} catch(ArrayIndexOutOfBoundsException e) {\n",
    "    System.out.println(\"Array index oob: \" + e);\n",
    "}\n",
    "System.out.println(\"After try/catch blocks.\");"
   ]
  },
  {
   "cell_type": "markdown",
   "id": "e6c1821e-d1c6-484f-9fc3-9ef34e70db08",
   "metadata": {},
   "source": [
    "When you use multiple catch statements, it is important to remember that exception subclasses must come before any of their superclasses."
   ]
  },
  {
   "cell_type": "code",
   "execution_count": 16,
   "id": "082b8941-d20e-45e5-9e6d-2579d8a95efc",
   "metadata": {},
   "outputs": [
    {
     "ename": "CompilationException",
     "evalue": "",
     "output_type": "error",
     "traceback": [
      "\u001b[1m\u001b[30m|   \u001b[1m\u001b[30m\u001b[0m\u001b[1m\u001b[30m\u001b[41mcatch(ArithmeticException e) { // ERROR – unreachable\u001b[0m",
      "\u001b[1m\u001b[30m|   \u001b[1m\u001b[30m\u001b[41m    System.out.println(\"This is never reached.\");\u001b[0m",
      "\u001b[1m\u001b[30m|   \u001b[1m\u001b[30m\u001b[41m}\u001b[0m",
      "\u001b[1m\u001b[31mexception java.lang.ArithmeticException has already been caught\u001b[0m",
      ""
     ]
    }
   ],
   "source": [
    "/* This program contains an error.\n",
    "A subclass must come before its superclass in\n",
    "a series of catch statements. If not,\n",
    "unreachable code will be created and a\n",
    "compile-time error will result.\n",
    "*/\n",
    "try {\n",
    "    int a = 0;\n",
    "    int b = 42 / a;\n",
    "} catch(Exception e) {\n",
    "    System.out.println(\"Generic Exception catch.\");\n",
    "}\n",
    "/* This catch is never reached because\n",
    "ArithmeticException is a subclass of Exception. */\n",
    "catch(ArithmeticException e) { // ERROR – unreachable\n",
    "    System.out.println(\"This is never reached.\");\n",
    "}"
   ]
  },
  {
   "cell_type": "code",
   "execution_count": 18,
   "id": "a3fac48e-1784-46ca-ae8d-f0b368ab0794",
   "metadata": {},
   "outputs": [
    {
     "name": "stdout",
     "output_type": "stream",
     "text": [
      "java.lang.ArithmeticException: / by zero\n"
     ]
    }
   ],
   "source": [
    "// crrected program\n",
    "try {\n",
    "    int a = 0;\n",
    "    int b = 42 / a;\n",
    "} catch(ArithmeticException e) { \n",
    "    System.out.println(e);\n",
    "}\n",
    "catch(Exception e) {\n",
    "    System.out.println(\"Generic Exception catch.\");\n",
    "}"
   ]
  },
  {
   "cell_type": "markdown",
   "id": "32e05c64-c257-405d-a1b5-4393db70a4be",
   "metadata": {},
   "source": [
    "## Nested try Statements"
   ]
  },
  {
   "cell_type": "code",
   "execution_count": 12,
   "id": "83d21199-8d2f-4930-ab75-a2965d1afbfe",
   "metadata": {},
   "outputs": [
    {
     "name": "stdout",
     "output_type": "stream",
     "text": [
      "a = 1\n",
      "Array index out-of-bounds: java.lang.ArrayIndexOutOfBoundsException: Index 42 out of bounds for length 1\n"
     ]
    }
   ],
   "source": [
    "// An example of nested try statements.\n",
    "try {\n",
    "    int a = 1;\n",
    "    int b = 42 / a;\n",
    "    System.out.println(\"a = \" + a);    \n",
    "    try { // nested try block\n",
    "        int[] c = { 1 };\n",
    "        c[42] = 99; // generate an out-of-bounds exception\n",
    "    } catch(ArrayIndexOutOfBoundsException e) {\n",
    "        System.out.println(\"Array index out-of-bounds: \" + e);\n",
    "    }\n",
    "} catch(ArithmeticException e) {\n",
    "    System.out.println(\"Divide by 0: \" + e);\n",
    "}"
   ]
  },
  {
   "cell_type": "markdown",
   "id": "c3854e45-8d03-492c-ace8-1c9ab24f601c",
   "metadata": {},
   "source": [
    "## throw"
   ]
  },
  {
   "cell_type": "raw",
   "id": "2232dc96-2180-4a6e-bbf5-27798dca7b0e",
   "metadata": {},
   "source": [
    "The general form of throw is shown here:\n",
    "throw ThrowableInstance;"
   ]
  },
  {
   "cell_type": "markdown",
   "id": "53188f3f-2309-45bb-8a80-1386292d89a6",
   "metadata": {},
   "source": [
    "Here, ThrowableInstance must be an object of type Throwable or a subclass of Throwable.\n",
    "There are two ways you can obtain a Throwable object: \n",
    "1. using a parameter in a catch clause or \n",
    "2. creating one with the new operator. "
   ]
  },
  {
   "cell_type": "code",
   "execution_count": 7,
   "id": "3e1d8c57-b8f5-4811-bf72-23b23425bd77",
   "metadata": {},
   "outputs": [],
   "source": [
    "// Demonstrate throw.\n",
    "void demoproc() {\n",
    "    try {\n",
    "        throw new NullPointerException(\"demo\");\n",
    "    } catch(NullPointerException e) {\n",
    "        System.out.println(\"Caught inside demoproc.\");\n",
    "        throw e; // rethrow the exception\n",
    "    }\n",
    "}"
   ]
  },
  {
   "cell_type": "code",
   "execution_count": 8,
   "id": "67c1b23b-d797-48de-a59e-ed952bb37101",
   "metadata": {},
   "outputs": [
    {
     "name": "stdout",
     "output_type": "stream",
     "text": [
      "Caught inside demoproc.\n",
      "Recaught: java.lang.NullPointerException: demo\n"
     ]
    }
   ],
   "source": [
    "try {\n",
    "    demoproc();\n",
    "} catch(NullPointerException e) {\n",
    "    System.out.println(\"Recaught: \" + e);\n",
    "}"
   ]
  },
  {
   "cell_type": "markdown",
   "id": "e16e4184-ec3d-4333-b805-79d4977a7e73",
   "metadata": {},
   "source": [
    "## throws"
   ]
  },
  {
   "cell_type": "raw",
   "id": "12a8d71b-06d2-48dd-b856-9d5e1e502a42",
   "metadata": {},
   "source": [
    "This is the general form of a method declaration that includes a throws clause:\n",
    "type method-name(parameter-list) throws exception-list\n",
    "{\n",
    "    // body of method\n",
    "}"
   ]
  },
  {
   "cell_type": "code",
   "execution_count": 5,
   "id": "bd8d13a0-5606-4fba-976c-6da16b361091",
   "metadata": {},
   "outputs": [
    {
     "ename": "CompilationException",
     "evalue": "",
     "output_type": "error",
     "traceback": [
      "\u001b[1m\u001b[30m|   \u001b[1m\u001b[30m    \u001b[0m\u001b[1m\u001b[30m\u001b[41mthrow new IllegalAccessException(\"demo\");\u001b[0m\u001b[1m\u001b[30m\u001b[0m",
      "\u001b[1m\u001b[31munreported exception java.lang.IllegalAccessException; must be caught or declared to be thrown\u001b[0m",
      ""
     ]
    }
   ],
   "source": [
    "// This program contains an error and will not compile.\n",
    "void throwOne() {\n",
    "    System.out.println(\"Inside throwOne.\");\n",
    "    throw new IllegalAccessException(\"demo\");\n",
    "}\n",
    "throwOne();"
   ]
  },
  {
   "cell_type": "code",
   "execution_count": 6,
   "id": "a73db03b-3360-415a-9afb-302a869c3f19",
   "metadata": {},
   "outputs": [
    {
     "name": "stdout",
     "output_type": "stream",
     "text": [
      "Inside throwOne.\n",
      "Caught java.lang.IllegalAccessException: demo\n"
     ]
    }
   ],
   "source": [
    "// This is now correct.\n",
    "void throwOne() throws IllegalAccessException {\n",
    "    System.out.println(\"Inside throwOne.\");\n",
    "    throw new IllegalAccessException(\"demo\");\n",
    "}\n",
    "\n",
    "try {\n",
    "    throwOne();\n",
    "} catch (IllegalAccessException e) {\n",
    "    System.out.println(\"Caught \" + e);\n",
    "}"
   ]
  },
  {
   "cell_type": "markdown",
   "id": "2799930b-185d-4ca4-8e3b-0add46b445a9",
   "metadata": {},
   "source": [
    "## finally"
   ]
  },
  {
   "cell_type": "markdown",
   "id": "836e0901-2bd9-4665-8110-3e536c34bc37",
   "metadata": {},
   "source": [
    "- The finally block will execute whether or not an exception is thrown.\n",
    "- Each try statement requires at least one catch or a finally clause."
   ]
  },
  {
   "cell_type": "code",
   "execution_count": 1,
   "id": "f0e69dbc-b725-4a3c-9bd5-732a54f619c7",
   "metadata": {},
   "outputs": [],
   "source": [
    "// Demonstrate finally.\n",
    "// Throw an exception out of the method.\n",
    "void procA() {\n",
    "    try {\n",
    "        System.out.println(\"inside procA\");\n",
    "        throw new RuntimeException(\"demo\");\n",
    "    } finally {\n",
    "        System.out.println(\"procA's finally\");\n",
    "    }\n",
    "}"
   ]
  },
  {
   "cell_type": "code",
   "execution_count": 2,
   "id": "ef2ee1ac-6fdd-438f-8c96-3a49c8dcf55c",
   "metadata": {},
   "outputs": [],
   "source": [
    "// Return from within a try block.\n",
    "void procB() {\n",
    "    try {\n",
    "        System.out.println(\"inside procB\");\n",
    "        return;\n",
    "    } finally {\n",
    "        System.out.println(\"procB's finally\");\n",
    "    }\n",
    "}"
   ]
  },
  {
   "cell_type": "code",
   "execution_count": 3,
   "id": "cfd0662b-d639-4545-8de0-ee54a8d18516",
   "metadata": {},
   "outputs": [],
   "source": [
    "// Execute a try block normally.\n",
    "void procC() {\n",
    "    try {\n",
    "        System.out.println(\"inside procC\");\n",
    "    } finally {\n",
    "        System.out.println(\"procC's finally\");\n",
    "    }\n",
    "}"
   ]
  },
  {
   "cell_type": "code",
   "execution_count": 4,
   "id": "a16ceeee-9577-4eb1-bcea-f3aa8c8169e2",
   "metadata": {},
   "outputs": [
    {
     "name": "stdout",
     "output_type": "stream",
     "text": [
      "inside procA\n",
      "procA's finally\n",
      "Exception caught\n",
      "inside procB\n",
      "procB's finally\n",
      "inside procC\n",
      "procC's finally\n"
     ]
    }
   ],
   "source": [
    "try {\n",
    "    procA();\n",
    "} catch (Exception e) {\n",
    "    System.out.println(\"Exception caught\");\n",
    "}\n",
    "procB();\n",
    "procC();"
   ]
  },
  {
   "cell_type": "markdown",
   "id": "c35598e2-b632-4922-93d7-8a4d169c6183",
   "metadata": {},
   "source": [
    "## Java’s Built-in Exceptions"
   ]
  },
  {
   "cell_type": "markdown",
   "id": "233ef235-7b9c-4579-9597-1152e889b0e7",
   "metadata": {},
   "source": [
    "- unchecked exceptions because the compiler does not check to see if a method handles or throws these exceptions\n",
    "- checked exceptions: must be included in a method’s **throws** list."
   ]
  },
  {
   "cell_type": "markdown",
   "id": "ad211b0c-0e9f-4ea0-8171-a1e23dd21738",
   "metadata": {},
   "source": [
    "## Creating Your Own Exception Subclasses"
   ]
  },
  {
   "cell_type": "code",
   "execution_count": 1,
   "id": "c3f00eba-8162-49ac-a9fe-878a5aecddc9",
   "metadata": {},
   "outputs": [],
   "source": [
    "// This program creates a custom exception type.\n",
    "class MyException extends Exception {\n",
    "    private int detail;\n",
    "    MyException(int a) {\n",
    "        detail = a;\n",
    "    }\n",
    "    public String toString() {\n",
    "        return \"MyException[\" + detail + \"]\";\n",
    "    }\n",
    "}"
   ]
  },
  {
   "cell_type": "code",
   "execution_count": 2,
   "id": "e86477c5-ed81-4814-847b-c40dfd78a85a",
   "metadata": {},
   "outputs": [],
   "source": [
    "void compute(int a) throws MyException {\n",
    "    System.out.println(\"Called compute(\" + a + \")\");\n",
    "    if(a > 10)\n",
    "        throw new MyException(a);\n",
    "    System.out.println(\"Normal exit\");\n",
    "}"
   ]
  },
  {
   "cell_type": "code",
   "execution_count": 3,
   "id": "506b0de4-89f8-481c-9dcc-e248f0a19b1b",
   "metadata": {},
   "outputs": [
    {
     "name": "stdout",
     "output_type": "stream",
     "text": [
      "Called compute(1)\n",
      "Normal exit\n",
      "Called compute(20)\n",
      "Caught MyException[20]\n"
     ]
    }
   ],
   "source": [
    "try {\n",
    "    compute(1);\n",
    "    compute(20);\n",
    "} catch (MyException e) {\n",
    "    System.out.println(\"Caught \" + e);\n",
    "}"
   ]
  },
  {
   "cell_type": "markdown",
   "id": "b6f0500e-1018-4c66-8d93-1ff06ff58ac0",
   "metadata": {},
   "source": [
    "## Chained Exceptions"
   ]
  },
  {
   "cell_type": "markdown",
   "id": "9a7eda1e-a1a4-4d3a-9af2-b03cd3341749",
   "metadata": {},
   "source": [
    "The chained exception feature allows you to associate another exception with an \n",
    "exception."
   ]
  },
  {
   "cell_type": "raw",
   "id": "cabfe1db-19ba-4c17-a8d9-fc7bbfb7cb2f",
   "metadata": {},
   "source": [
    "Throwable(Throwable causeExc)\n",
    "Throwable(String msg, Throwable causeExc)"
   ]
  },
  {
   "cell_type": "raw",
   "id": "f8111ee5-fa9c-43d2-a73b-171eb596d66e",
   "metadata": {},
   "source": [
    "Throwable getCause( )\n",
    "Throwable initCause(Throwable causeExc)"
   ]
  },
  {
   "cell_type": "code",
   "execution_count": 8,
   "id": "cbb2fb79-930d-413e-848c-5f91350f88f1",
   "metadata": {},
   "outputs": [],
   "source": [
    "// Demonstrate exception chaining.\n",
    "void demoproc() {\n",
    "    // create an exception\n",
    "    NullPointerException e = new NullPointerException(\"top layer\");\n",
    "    // add a cause\n",
    "    e.initCause(new ArithmeticException(\"cause\"));\n",
    "    throw e;\n",
    "}"
   ]
  },
  {
   "cell_type": "code",
   "execution_count": 9,
   "id": "47980087-5b06-47ae-9139-5d9b55ec9ed5",
   "metadata": {},
   "outputs": [
    {
     "name": "stdout",
     "output_type": "stream",
     "text": [
      "Caught: java.lang.NullPointerException: top layer\n",
      "Original cause: java.lang.ArithmeticException: cause\n"
     ]
    }
   ],
   "source": [
    "try {\n",
    "    demoproc();\n",
    "} catch(NullPointerException e) {\n",
    "    // display top level exception\n",
    "    System.out.println(\"Caught: \" + e);\n",
    "    // display cause exception\n",
    "    System.out.println(\"Original cause: \" + e.getCause());\n",
    "}"
   ]
  },
  {
   "cell_type": "markdown",
   "id": "b583bb0b-29db-406b-9db3-bf441b971901",
   "metadata": {},
   "source": [
    "## Three Additional Exception Features"
   ]
  },
  {
   "cell_type": "markdown",
   "id": "329400c4-36c8-4b3b-981c-bf06c05dfb24",
   "metadata": {},
   "source": [
    "1. The first (try-with resources) automates the process of releasing a resource, such as a file, when it is no \n",
    "longer needed\n",
    "2. The second feature is \n",
    "called multi-catc: allows two or more exceptions to be caught by the same catch \n",
    "clause\n",
    "3. he third is sometimes referred to as final rethrow or more precise \n",
    "rethrow.h."
   ]
  },
  {
   "cell_type": "code",
   "execution_count": 4,
   "id": "e24cca74-a800-4e97-8e22-91730a64d5b0",
   "metadata": {},
   "outputs": [
    {
     "name": "stdout",
     "output_type": "stream",
     "text": [
      "Exception caught: java.lang.ArithmeticException: / by zero\n",
      "After multi-catch.\n"
     ]
    }
   ],
   "source": [
    "int a=10, b=0;\n",
    "int[] vals = { 1, 2, 3 };\n",
    "try {\n",
    "    int result = a / b; // generate an ArithmeticException\n",
    "} catch(ArithmeticException | ArrayIndexOutOfBoundsException e) { // This catch clause catches both exceptions.\n",
    "    System.out.println(\"Exception caught: \" + e);\n",
    "}\n",
    "System.out.println(\"After multi-catch.\");"
   ]
  },
  {
   "cell_type": "code",
   "execution_count": 6,
   "id": "c5389d7c-f32f-401a-968f-aeb496e72d0a",
   "metadata": {},
   "outputs": [
    {
     "name": "stdout",
     "output_type": "stream",
     "text": [
      "Exception caught: java.lang.ArrayIndexOutOfBoundsException: Index 10 out of bounds for length 3\n",
      "After multi-catch.\n"
     ]
    }
   ],
   "source": [
    "int a=10, b=0;\n",
    "int[] vals = { 1, 2, 3 };\n",
    "try {\n",
    "    vals[10] = 19; // generate an ArrayIndexOutOfBoundsException\n",
    "} catch(ArithmeticException | ArrayIndexOutOfBoundsException e) { // This catch clause catches both exceptions.\n",
    "    System.out.println(\"Exception caught: \" + e);\n",
    "}\n",
    "System.out.println(\"After multi-catch.\");"
   ]
  },
  {
   "cell_type": "code",
   "execution_count": null,
   "id": "28eda5f4-96eb-40d7-9caa-2629317e32a4",
   "metadata": {},
   "outputs": [],
   "source": []
  }
 ],
 "metadata": {
  "kernelspec": {
   "display_name": "Java",
   "language": "java",
   "name": "java"
  },
  "language_info": {
   "codemirror_mode": "java",
   "file_extension": ".jshell",
   "mimetype": "text/x-java-source",
   "name": "Java",
   "pygments_lexer": "java",
   "version": "21.0.1+12-LTS"
  }
 },
 "nbformat": 4,
 "nbformat_minor": 5
}
